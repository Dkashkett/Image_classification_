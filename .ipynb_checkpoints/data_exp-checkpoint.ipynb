{
 "cells": [
  {
   "cell_type": "code",
   "execution_count": 478,
   "metadata": {},
   "outputs": [],
   "source": [
    "import matplotlib.pyplot as plt\n",
    "import numpy as np \n",
    "from scipy.io import loadmat\n",
    "import pandas as pd\n",
    "from mpl_toolkits.axes_grid1 import ImageGrid\n",
    "from sklearn.pipeline import Pipeline\n",
    "from sklearn.decomposition import PCA\n",
    "from sklearn.naive_bayes import GaussianNB\n",
    "from sklearn.metrics import accuracy_score,recall_score,precision_score,f1_score, confusion_matrix\n",
    "from sklearn.model_selection import RepeatedStratifiedKFold, GridSearchCV, train_test_split\n",
    "from sklearn.neighbors import KNeighborsClassifier\n",
    "import seaborn as sns"
   ]
  },
  {
   "cell_type": "code",
   "execution_count": 480,
   "metadata": {},
   "outputs": [],
   "source": [
    "def show_results(model, X_test, y_test, labels_list):\n",
    "    ypred = model.predict(X_test)\n",
    "    mat = confusion_matrix(y_test, ypred) \n",
    "    sns.heatmap(mat.T, square=True, annot=True, fmt='d', cbar=False,\n",
    "                        xticklabels=labels_list,\n",
    "                        yticklabels=labels_list)\n",
    "    plt.xlabel('true label')\n",
    "    plt.ylabel('predicted label');\n",
    "    print('Accuracy: ', accuracy_score(y_test, ypred))\n",
    "    print('F1: ', f1_score(y_test, ypred))\n",
    "    print('Precision: ', precision_score(y_test, ypred))\n",
    "    print('Recall: ', recall_score(y_test, ypred)) "
   ]
  },
  {
   "cell_type": "code",
   "execution_count": 514,
   "metadata": {},
   "outputs": [],
   "source": [
    "#load data chunks and convert to numpy\n",
    "face = np.array(loadmat('./data/data.mat')['face'])\n",
    "pose_raw = np.array(loadmat('./data/pose.mat')['pose'])\n",
    "illum = np.array(loadmat('./data/illumination.mat')['illum'])"
   ]
  },
  {
   "cell_type": "code",
   "execution_count": 515,
   "metadata": {},
   "outputs": [],
   "source": [
    "def make_pose_dataset_no_aug(pose_raw, num_subjects):\n",
    "    pose_dataset = []\n",
    "    pose_labels = []\n",
    "    for subject in range(num_subjects):\n",
    "        for pose in range(13):\n",
    "            pose_dataset.append(pose_raw[:,:,pose,subject].reshape((48*40)))\n",
    "            pose_labels.append(subject)\n",
    "    pose_dataset = np.array(pose_dataset)\n",
    "    pose_labels = np.array(pose_labels)\n",
    "    return pose_dataset, pose_labels"
   ]
  },
  {
   "cell_type": "code",
   "execution_count": 498,
   "metadata": {},
   "outputs": [],
   "source": [
    "def make_pose_dataset_with_aug(pose_raw, illum_raw, num_subjects):\n",
    "    pose_dataset = []\n",
    "    pose_labels = []\n",
    "    for subject in range(num_subjects):\n",
    "        for pose in range(13):\n",
    "            pose_dataset.append(pose_raw[:,:,pose,subject].reshape((48*40)))\n",
    "            pose_labels.append(subject)\n",
    "    for subject in range(num_subjects):\n",
    "        for pose in range(21):\n",
    "            img = illum_raw[:,pose,subject].reshape((40,48))\n",
    "            img = np.flip(np.rot90(img)).reshape((48*40))\n",
    "            pose_dataset.append(img)\n",
    "            pose_labels.append(subject)\n",
    "    pose_dataset = np.array(pose_dataset)\n",
    "    pose_labels = np.array(pose_labels)\n",
    "    return pose_dataset, pose_labels"
   ]
  },
  {
   "cell_type": "code",
   "execution_count": 517,
   "metadata": {},
   "outputs": [
    {
     "ename": "TypeError",
     "evalue": "make_pose_dataset_no_aug() takes 2 positional arguments but 3 were given",
     "output_type": "error",
     "traceback": [
      "\u001b[0;31m---------------------------------------------------------------------------\u001b[0m",
      "\u001b[0;31mTypeError\u001b[0m                                 Traceback (most recent call last)",
      "\u001b[0;32m<ipython-input-517-f0592a529ac7>\u001b[0m in \u001b[0;36m<module>\u001b[0;34m\u001b[0m\n\u001b[0;32m----> 1\u001b[0;31m \u001b[0mpose_data\u001b[0m\u001b[0;34m,\u001b[0m \u001b[0mpose_labels\u001b[0m \u001b[0;34m=\u001b[0m \u001b[0mmake_pose_dataset_no_aug\u001b[0m\u001b[0;34m(\u001b[0m\u001b[0mpose\u001b[0m\u001b[0;34m,\u001b[0m \u001b[0millum\u001b[0m\u001b[0;34m,\u001b[0m \u001b[0;36m10\u001b[0m\u001b[0;34m)\u001b[0m\u001b[0;34m\u001b[0m\u001b[0;34m\u001b[0m\u001b[0m\n\u001b[0m\u001b[1;32m      2\u001b[0m \u001b[0mprint\u001b[0m\u001b[0;34m(\u001b[0m\u001b[0mpose_data\u001b[0m\u001b[0;34m.\u001b[0m\u001b[0mshape\u001b[0m\u001b[0;34m)\u001b[0m\u001b[0;34m\u001b[0m\u001b[0;34m\u001b[0m\u001b[0m\n\u001b[1;32m      3\u001b[0m \u001b[0mprint\u001b[0m\u001b[0;34m(\u001b[0m\u001b[0mpose_labels\u001b[0m\u001b[0;34m.\u001b[0m\u001b[0mshape\u001b[0m\u001b[0;34m)\u001b[0m\u001b[0;34m\u001b[0m\u001b[0;34m\u001b[0m\u001b[0m\n",
      "\u001b[0;31mTypeError\u001b[0m: make_pose_dataset_no_aug() takes 2 positional arguments but 3 were given"
     ]
    }
   ],
   "source": [
    "pose_data, pose_labels = make_pose_dataset_no_aug(pose, illum, 10)\n",
    "print(pose_data.shape)\n",
    "print(pose_labels.shape)"
   ]
  },
  {
   "cell_type": "code",
   "execution_count": 330,
   "metadata": {},
   "outputs": [],
   "source": [
    "#split face data into parts\n",
    "neutral= face[:,:,::3]\n",
    "smile = face[:,:,1::3]\n",
    "variation = face[:,:,2::3]"
   ]
  },
  {
   "cell_type": "code",
   "execution_count": 169,
   "metadata": {},
   "outputs": [],
   "source": [
    "data = np.dstack((neutral,smile))\n",
    "data = np.array(np.dsplit(data,data.shape[-1])).reshape((400,24,21))"
   ]
  },
  {
   "cell_type": "code",
   "execution_count": 170,
   "metadata": {},
   "outputs": [],
   "source": [
    "data2 = np.dstack((neutral, variation, smile))\n",
    "data2 = np.array(np.dsplit(data2,data2.shape[-1])).reshape((600,24,21))\n",
    "data2 = data2/255\n",
    "data2 = data2.reshape((600,24*21))"
   ]
  },
  {
   "cell_type": "code",
   "execution_count": 181,
   "metadata": {},
   "outputs": [],
   "source": [
    "#make labels\n",
    "labels = []\n",
    "for i in range(200):\n",
    "    labels.append(0)\n",
    "for i in range(200):\n",
    "    labels.append(1)\n",
    "labels = np.array(labels)"
   ]
  },
  {
   "cell_type": "code",
   "execution_count": 182,
   "metadata": {},
   "outputs": [],
   "source": [
    "#make labels2\n",
    "labels2 = []\n",
    "for i in range(400):\n",
    "    labels2.append(0)\n",
    "for i in range(200):\n",
    "    labels2.append(1)\n",
    "labels2 = np.array(labels2)"
   ]
  },
  {
   "cell_type": "code",
   "execution_count": 183,
   "metadata": {},
   "outputs": [],
   "source": [
    "#transform\n",
    "data = data/255\n",
    "data = data.reshape((400,24*21))"
   ]
  },
  {
   "cell_type": "code",
   "execution_count": 187,
   "metadata": {},
   "outputs": [],
   "source": [
    "#set dataset here\n",
    "X_train, X_test, y_train, y_test = train_test_split(data2, labels2, test_size=0.3, random_state=42, shuffle='true', stratify=labels2)"
   ]
  },
  {
   "cell_type": "code",
   "execution_count": 189,
   "metadata": {},
   "outputs": [
    {
     "name": "stdout",
     "output_type": "stream",
     "text": [
      "(180,)\n"
     ]
    }
   ],
   "source": [
    "print(y_test.shape)"
   ]
  },
  {
   "cell_type": "code",
   "execution_count": 190,
   "metadata": {},
   "outputs": [
    {
     "name": "stdout",
     "output_type": "stream",
     "text": [
      "Best parameter (CV score=0.907):\n",
      "{'pca__n_components': 16}\n"
     ]
    }
   ],
   "source": [
    "#TASK ONE:Bayes PIPELINE\n",
    "pca = PCA()\n",
    "gnb = GaussianNB()\n",
    "\n",
    "pipe = Pipeline(steps=[('pca', pca), ('bayes', gnb)])\n",
    "\n",
    "param_grid = {\n",
    "    'pca__n_components': [i for i in range(1,40)]\n",
    "}\n",
    "\n",
    "cv = RepeatedStratifiedKFold(n_splits=5, n_repeats=2, random_state=1)\n",
    "bayes_search = GridSearchCV(pipe, param_grid, scoring='accuracy', n_jobs=-1, cv=cv)\n",
    "bayes_search.fit(X_train, y_train)\n",
    "print(\"Best parameter (CV score=%0.3f):\" % bayes_search.best_score_)\n",
    "print(bayes_search.best_params_)"
   ]
  },
  {
   "cell_type": "code",
   "execution_count": 191,
   "metadata": {},
   "outputs": [
    {
     "name": "stdout",
     "output_type": "stream",
     "text": [
      "Accuracy:  0.8777777777777778\n",
      "F1:  0.8035714285714286\n",
      "Precision:  0.8653846153846154\n",
      "Recall:  0.75\n"
     ]
    },
    {
     "data": {
      "image/png": "[encoded data removed]",
      "text/plain": [
       "<Figure size 432x288 with 1 Axes>"
      ]
     },
     "metadata": {
      "needs_background": "light"
     },
     "output_type": "display_data"
    }
   ],
   "source": [
    "cm(bayes_search, X_test, y_test, ['smile','neutral'])"
   ]
  },
  {
   "cell_type": "code",
   "execution_count": 179,
   "metadata": {},
   "outputs": [
    {
     "name": "stdout",
     "output_type": "stream",
     "text": [
      "Best parameter (CV score=0.897):\n",
      "{'knn__metric': 'manhattan', 'knn__n_neighbors': 9, 'knn__weights': 'uniform', 'pca__n_components': 7}\n"
     ]
    }
   ],
   "source": [
    "#TASK ONE:KNN PIPELINE\n",
    "pca = PCA()\n",
    "knn = KNeighborsClassifier()\n",
    "\n",
    "pipe = Pipeline(steps=[('pca', pca), ('knn', knn)])\n",
    "\n",
    "param_grid = {\n",
    "    'pca__n_components': [i for i in range(1,31)],\n",
    "    'knn__n_neighbors' : [i for i in range(1,11)],  \n",
    "    'knn__metric' : ['euclidean','manhattan','chebyshev','minkowski','wminkowski','seuclidean','mahalanobis'],\n",
    "    'knn__weights' : ['uniform','distance'],\n",
    "    \n",
    "}\n",
    "\n",
    "cv = RepeatedStratifiedKFold(n_splits=5, n_repeats=2, random_state=1)\n",
    "knn_search = GridSearchCV(pipe, param_grid, scoring='accuracy', cv=cv, n_jobs=-1)\n",
    "knn_search.fit(X_train, y_train)\n",
    "print(\"Best parameter (CV score=%0.3f):\" % knn_search.best_score_)\n",
    "print(knn_search.best_params_)"
   ]
  },
  {
   "cell_type": "code",
   "execution_count": 180,
   "metadata": {},
   "outputs": [
    {
     "name": "stdout",
     "output_type": "stream",
     "text": [
      "Accuracy:  0.9040404040404041\n",
      "F1:  0.8480000000000001\n",
      "Precision:  0.8983050847457628\n",
      "Recall:  0.803030303030303\n"
     ]
    },
    {
     "data": {
      "image/png": "[encoded data removed]",
      "text/plain": [
       "<Figure size 432x288 with 1 Axes>"
      ]
     },
     "metadata": {
      "needs_background": "light"
     },
     "output_type": "display_data"
    }
   ],
   "source": [
    "cm(knn_search, X_test, y_test, ['smile','neutral'])"
   ]
  },
  {
   "cell_type": "code",
   "execution_count": 632,
   "metadata": {},
   "outputs": [
    {
     "data": {
      "image/png": "[encoded data removed]",
      "text/plain": [
       "<Figure size 432x288 with 4 Axes>"
      ]
     },
     "metadata": {
      "needs_background": "light"
     },
     "output_type": "display_data"
    }
   ],
   "source": [
    "# plt.figure((20,20))\n",
    "for i in range(4):\n",
    "    # define subplot\n",
    "    plt.subplot(2, 2, 1 + i)\n",
    "    # turn off axis\n",
    "    plt.axis('off')\n",
    "    # plot raw pixel data\n",
    "    plt.imshow(X[i].reshape((24,21)))"
   ]
  },
  {
   "cell_type": "code",
   "execution_count": 509,
   "metadata": {},
   "outputs": [
    {
     "name": "stdout",
     "output_type": "stream",
     "text": [
      "(238, 1920)\n",
      "(102, 1920)\n"
     ]
    }
   ],
   "source": [
    "#set dataset here\n",
    "X_train, X_test, y_train, y_test = train_test_split(pose_data, pose_labels, test_size=0.3, random_state=42, shuffle='true', stratify=pose_labels)\n",
    "print(X_train.shape)\n",
    "print(X_test.shape)"
   ]
  },
  {
   "cell_type": "code",
   "execution_count": 510,
   "metadata": {},
   "outputs": [
    {
     "name": "stdout",
     "output_type": "stream",
     "text": [
      "Best parameter (CV score=0.861):\n",
      "{'pca__n_components': 32}\n"
     ]
    }
   ],
   "source": [
    "#TASK TWO Bayes\n",
    "pca = PCA()\n",
    "gnb = GaussianNB()\n",
    "\n",
    "pipe = Pipeline(steps=[('pca', pca), ('bayes', gnb)])\n",
    "\n",
    "param_grid = {\n",
    "    'pca__n_components': [i for i in range(1,40)]\n",
    "}\n",
    "\n",
    "cv = RepeatedStratifiedKFold(n_splits=5, n_repeats=2, random_state=1)\n",
    "bayes_search = GridSearchCV(pipe, param_grid, scoring='accuracy', n_jobs=-1, cv=5)\n",
    "bayes_search.fit(X_train, y_train)\n",
    "print(\"Best parameter (CV score=%0.3f):\" % bayes_search.best_score_)\n",
    "print(bayes_search.best_params_)"
   ]
  },
  {
   "cell_type": "code",
   "execution_count": 409,
   "metadata": {},
   "outputs": [
    {
     "data": {
      "text/plain": [
       "(1920, 21, 68)"
      ]
     },
     "execution_count": 409,
     "metadata": {},
     "output_type": "execute_result"
    }
   ],
   "source": [
    "illum.shape"
   ]
  },
  {
   "cell_type": "code",
   "execution_count": 447,
   "metadata": {},
   "outputs": [
    {
     "data": {
      "text/plain": [
       "(1428, 48, 40)"
      ]
     },
     "execution_count": 447,
     "metadata": {},
     "output_type": "execute_result"
    }
   ],
   "source": [
    "ds = np.array(ill_data)\n",
    "ds.shape"
   ]
  },
  {
   "cell_type": "code",
   "execution_count": 471,
   "metadata": {},
   "outputs": [
    {
     "data": {
      "text/plain": [
       "<matplotlib.image.AxesImage at 0x7febd34f2cd0>"
      ]
     },
     "execution_count": 471,
     "metadata": {},
     "output_type": "execute_result"
    },
    {
     "data": {
      "image/png": "[encoded data removed]",
      "text/plain": [
       "<Figure size 432x288 with 1 Axes>"
      ]
     },
     "metadata": {
      "needs_background": "light"
     },
     "output_type": "display_data"
    }
   ],
   "source": [
    "plt.imshow(ds[22])"
   ]
  },
  {
   "cell_type": "code",
   "execution_count": 466,
   "metadata": {},
   "outputs": [
    {
     "data": {
      "text/plain": [
       "<matplotlib.image.AxesImage at 0x7febd36edb50>"
      ]
     },
     "execution_count": 466,
     "metadata": {},
     "output_type": "execute_result"
    },
    {
     "data": {
      "image/png": "[encoded data removed]",
      "text/plain": [
       "<Figure size 432x288 with 1 Axes>"
      ]
     },
     "metadata": {
      "needs_background": "light"
     },
     "output_type": "display_data"
    }
   ],
   "source": [
    "plt.imshow(pose_data[].reshape((48,40)))"
   ]
  },
  {
   "cell_type": "code",
   "execution_count": null,
   "metadata": {},
   "outputs": [],
   "source": []
  }
 ],
 "metadata": {
  "kernelspec": {
   "display_name": "Python 3",
   "language": "python",
   "name": "python3"
  },
  "language_info": {
   "codemirror_mode": {
    "name": "ipython",
    "version": 3
   },
   "file_extension": ".py",
   "mimetype": "text/x-python",
   "name": "python",
   "nbconvert_exporter": "python",
   "pygments_lexer": "ipython3",
   "version": "3.8.3"
  }
 },
 "nbformat": 4,
 "nbformat_minor": 4
}
