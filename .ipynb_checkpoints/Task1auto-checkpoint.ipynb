{
 "cells": [
  {
   "cell_type": "markdown",
   "metadata": {},
   "source": [
    "# Task 1"
   ]
  },
  {
   "cell_type": "code",
   "execution_count": 58,
   "metadata": {},
   "outputs": [],
   "source": [
    "import matplotlib.pyplot as plt\n",
    "from mpl_toolkits.mplot3d import Axes3D\n",
    "import numpy as np \n",
    "from scipy.io import loadmat\n",
    "import pandas as pd\n",
    "from mpl_toolkits.axes_grid1 import ImageGrid\n",
    "from sklearn.pipeline import Pipeline\n",
    "from sklearn.decomposition import PCA\n",
    "from sklearn.naive_bayes import GaussianNB\n",
    "from sklearn.metrics import accuracy_score,recall_score,precision_score,f1_score,roc_auc_score, confusion_matrix\n",
    "from sklearn.model_selection import RepeatedStratifiedKFold, GridSearchCV, train_test_split\n",
    "from sklearn.neighbors import KNeighborsClassifier\n",
    "import seaborn as sns\n",
    "from sklearn.preprocessing import StandardScaler\n",
    "from keras.preprocessing.image import ImageDataGenerator\n",
    "import random\n",
    "from sklearn.metrics import plot_confusion_matrix\n",
    "import joblib "
   ]
  },
  {
   "cell_type": "code",
   "execution_count": 59,
   "metadata": {},
   "outputs": [],
   "source": [
    "np.random.seed(31415)"
   ]
  },
  {
   "cell_type": "markdown",
   "metadata": {},
   "source": [
    "### Helper Functions"
   ]
  },
  {
   "cell_type": "code",
   "execution_count": 60,
   "metadata": {
    "jupyter": {
     "source_hidden": true
    }
   },
   "outputs": [],
   "source": [
    "def scree_plot(n_comp):\n",
    "    n_comp = 30\n",
    "    pca = PCA(n_components=n_comp)\n",
    "    pc = pca.fit_transform(data)\n",
    "    scree_df = pd.DataFrame({'exp_var':pca.explained_variance_ratio_,\n",
    "                 'PC':[i for i in range(1,n_comp+1)]})\n",
    "    colors = [n_comp * ['blue'] + (20-n_comp) * ['red'] ]\n",
    "    scree_df['colors'] = colors[0]\n",
    "    sns.barplot(x='PC',y=\"exp_var\", \n",
    "               data=scree_df, color=\"c\");\n",
    "    plt.tight_layout()\n",
    "    plt.xlabel('Principal Component')\n",
    "    plt.ylabel('Explained Varaince')\n",
    "\n",
    "def pcplot2d():\n",
    "    n_comp = 20\n",
    "    pca = PCA(n_components=n_comp)\n",
    "    pc = pca.fit_transform(data)\n",
    "    pc_df = pd.DataFrame(data= pc, columns = [('PC' + str(i)) for i in range(1,n_comp+1)])\n",
    "    colors = []\n",
    "    for i in labels:\n",
    "        if i == 0:\n",
    "            colors.append('neutral')\n",
    "        else:\n",
    "            colors.append('smile')\n",
    "    pc_df['class'] =colors\n",
    "    sns.lmplot( x=\"PC1\", y=\"PC2\",\n",
    "      data=pc_df, \n",
    "      fit_reg=False, \n",
    "        hue='class', \n",
    "      legend=True,\n",
    "      scatter_kws={\"s\": 80}) \n",
    "    \n",
    "def pcplot3d():\n",
    "    pca = PCA(n_components=3)\n",
    "    pc = pca.fit_transform(data)\n",
    "    pc_df = pd.DataFrame(data= pc, columns = ['PC1','PC2','PC3'])\n",
    "\n",
    "    fig = plt.figure()\n",
    "    ax = Axes3D(fig)\n",
    "    ax.scatter(pc_df['PC1'], pc_df['PC2'], pc_df['PC3'], c=labels,depthshade=False)\n",
    "    \n",
    "def training_plot(model):\n",
    "    results = pd.DataFrame(model.cv_results_)\n",
    "    x = results['param_pca__n_components']\n",
    "    y = results['mean_test_score']\n",
    "\n",
    "    best_x = results[results['rank_test_score']==1]['param_pca__n_components']\n",
    "    best_y = results[results['rank_test_score']==1]['mean_test_score']\n",
    "\n",
    "    plt.figure(figsize=(6,4))\n",
    "    sns.lineplot(x,y)\n",
    "    plt.scatter(best_x,best_y,c='red',label='Highest Accuracy')\n",
    "    plt.xlabel('Number of Principal Components')\n",
    "    plt.ylabel('Mean Accuracy Score')\n",
    "    # plt.title('Bayes Models: Number of Principal Components')\n",
    "    plt.legend(loc=(.6,0.08))\n",
    "\n",
    "def training_time_plot(model):\n",
    "    results = pd.DataFrame(model.cv_results_)\n",
    "    x = results['param_pca__n_components']\n",
    "    y = results['mean_fit_time']\n",
    "\n",
    "    best_x = results[results['rank_test_score']==1]['param_pca__n_components']\n",
    "    best_y = results[results['rank_test_score']==1]['mean_fit_time']\n",
    "\n",
    "    plt.figure(figsize=(6,4))\n",
    "    sns.lineplot(x,y)\n",
    "    plt.scatter(best_x,best_y,c='red',label='Highest Accuracy')\n",
    "    plt.xlabel('Number of Principal Components')\n",
    "    plt.ylabel('Mean Training Time')\n",
    "    plt.legend()\n",
    "\n",
    "def model_eval(model, X_test, y_test):\n",
    "    ypred = model.predict(X_test)\n",
    "    results = {'Accuracy' : [accuracy_score(y_test, ypred)],\n",
    "               'F1': [f1_score(y_test, ypred)], \n",
    "               'Precision': [precision_score(y_test, ypred)],\n",
    "                'Recall': [recall_score(y_test, ypred)], \n",
    "           'AUC': [roc_auc_score(y_test, ypred)]}\n",
    "    results_df = pd.DataFrame(results)\n",
    "    \n",
    "#     results_df = results_df.style.hide_index()\n",
    "    return results_df\n",
    "\n",
    "def confusion_matrix(model, X_test, y_test, labels_list):\n",
    "    ypred = model.predict(X_test)\n",
    "    mat = confusion_matrix(y_test, ypred) \n",
    "    sns.heatmap(mat.T, square=True, annot=True, fmt='d', cbar=False,\n",
    "                        xticklabels=labels_list,\n",
    "                        yticklabels=labels_list)\n",
    "    plt.xlabel('true label')\n",
    "    plt.ylabel('predicted label');"
   ]
  },
  {
   "cell_type": "code",
   "execution_count": 61,
   "metadata": {
    "jupyter": {
     "source_hidden": true
    }
   },
   "outputs": [],
   "source": [
    "#load data chunks and converts to numpy arrays\n",
    "def load_data_chunks():\n",
    "    raw_face = np.array(loadmat('./data/data.mat')['face'])\n",
    "    raw_pose = np.array(loadmat('./data/pose.mat')['pose'])\n",
    "    raw_illum = np.array(loadmat('./data/illumination.mat')['illum'])\n",
    "    aug_neutral = np.load('data/aug_neutral.npy', allow_pickle=True)\n",
    "    aug_smile = np.load('data/aug_smile.npy', allow_pickle=True)\n",
    "    return raw_face, (raw_pose, raw_illum), (aug_neutral,aug_smile)\n",
    "\n",
    "def make_dataset(raw_face, num_illum, split=.15):\n",
    "    np.random.seed(31)\n",
    "    neutral= list(raw_face[:,:,::3].reshape((24*21,200)).transpose())\n",
    "    smile = list(raw_face[:,:,1::3].reshape((24*21,200)).transpose())\n",
    "    illum = list(raw_face[:,:,2::3].reshape((24*21,200)).transpose())\n",
    "    np.random.shuffle(neutral) \n",
    "    np.random.shuffle(smile)\n",
    "    np.random.shuffle(illum)\n",
    "    X_train, y_train, X_test, y_test = [],[],[],[]\n",
    "    split_half = int((400*split)/2)\n",
    "    \n",
    "    for i in range(split_half):\n",
    "        X_test.append(neutral.pop())\n",
    "        y_test.append(0)\n",
    "        X_test.append(smile.pop())\n",
    "        y_test.append(1)\n",
    "    for i in range(200-split_half):\n",
    "        X_train.append(neutral.pop())\n",
    "        y_train.append(0)\n",
    "        X_train.append(smile.pop())\n",
    "        y_train.append(1)\n",
    "    for i in range(num_illum):\n",
    "        X_train.append(illum.pop())\n",
    "        y_train.append(0)\n",
    "    \n",
    "    train = list(zip(X_train, y_train))\n",
    "    np.random.shuffle(train)\n",
    "    train = np.array(train)\n",
    "    X_train, y_train = train[:,0], train[:,1]\n",
    "    X_train = np.array([X_train[i].reshape(504) for i in range(((200-split_half)*2) +num_illum)])\n",
    "    \n",
    "    test = list(zip(X_test, y_test))\n",
    "    np.random.shuffle(test)\n",
    "    test = np.array(test)\n",
    "    X_test, y_test = test[:,0], test[:,1]\n",
    "    X_test = np.array([X_test[i].reshape(504) for i in range(split_half*2)])\n",
    "    \n",
    "#     print(X_train.shape, y_train.shape, X_test.shape, y_test.shape)\n",
    "    return X_train, y_train.astype(int), X_test, y_test.astype(int)"
   ]
  },
  {
   "cell_type": "markdown",
   "metadata": {},
   "source": [
    "## Data Exploration"
   ]
  },
  {
   "cell_type": "code",
   "execution_count": 62,
   "metadata": {},
   "outputs": [],
   "source": [
    "raw_face, _, _ = load_data_chunks()\n",
    "# scree_plot(n_comp=16)\n",
    "# pcplot2d()"
   ]
  },
  {
   "cell_type": "code",
   "execution_count": 63,
   "metadata": {
    "jupyter": {
     "source_hidden": true
    }
   },
   "outputs": [],
   "source": [
    "def bayes():\n",
    "    training_logs = {}\n",
    "    testing_logs = {}\n",
    "    augment, pca_param, acc, fone, prec, rec, au = [], [], [], [], [], [], []\n",
    "    for aug in [0,100,200]:\n",
    "        \n",
    "        X_train, y_train, X_test, y_test = make_dataset(raw_face, num_illum=aug, split=.15)\n",
    "        X_train = X_train/255\n",
    "        X_test = X_test/255\n",
    "\n",
    "        #pipeline components\n",
    "        scaler = StandardScaler()\n",
    "        pca = PCA()\n",
    "        gnb = GaussianNB()\n",
    "\n",
    "        param_grid = {\n",
    "            'pca__n_components': [i for i in range(1,40)]\n",
    "        }\n",
    "\n",
    "        pipe = Pipeline(steps=[('pca', pca), ('bayes', gnb)])\n",
    "\n",
    "        search = GridSearchCV(pipe, param_grid, scoring='accuracy', n_jobs=-1, cv=5)\n",
    "\n",
    "        search.fit(X_train, y_train)\n",
    "\n",
    "        training = pd.DataFrame(search.cv_results_).sort_values(by='rank_test_score')[['rank_test_score',\n",
    "                                                                'mean_test_score',\n",
    "                                                                'std_test_score',\n",
    "                                                                'param_pca__n_components']].head(5).set_index('rank_test_score')\n",
    "        training_logs['training' + str(aug)] = training\n",
    "        \n",
    "        top_pca = list(training['param_pca__n_components'])\n",
    "        accuracy, f1, precision, recall, auc = [], [], [], [], [] \n",
    "        for i in range(5):\n",
    "            pca = PCA(n_components=top_pca[i])\n",
    "            model = Pipeline(steps=[('pca', pca), ('bayes', gnb)])\n",
    "            model.fit(X_train, y_train)\n",
    "            results = model_eval(model, X_test, y_test)\n",
    "            accuracy.append(results['Accuracy'][0])\n",
    "            f1.append(results['F1'][0])\n",
    "            precision.append(results['Precision'][0])\n",
    "            recall.append(results['Recall'][0])\n",
    "            auc.append(results['AUC'][0])\n",
    "\n",
    "        testing = pd.DataFrame({'# of PC':top_pca, 'Accuracy':accuracy, \n",
    "                                        'F1':f1,'Precision':precision, 'Recall':recall, 'AUC':auc})\n",
    "        testing = testing.sort_values(by=\"Accuracy\", ascending =False)\n",
    "        testing_logs['testing' + str(aug)] = testing\n",
    "        \n",
    "        log_entry = testing.head(1).values\n",
    "        augment.append(aug)\n",
    "        pca_param.append(log_entry[0][0])\n",
    "        acc.append(log_entry[0][1])\n",
    "        fone.append(log_entry[0][2])\n",
    "        prec.append(log_entry[0][3])\n",
    "        rec.append(log_entry[0][4])\n",
    "        au.append(log_entry[0][5])\n",
    "        \n",
    "\n",
    "        best_n = int(testing.head(1).values[0][0])\n",
    "        pca = PCA(n_components=best_n)\n",
    "        best_model = Pipeline(steps=[('pca', pca), ('bayes', gnb)])\n",
    "        best_model.fit(X_train, y_train)\n",
    "        \n",
    "        \n",
    "    best_model_log = pd.DataFrame({'Augmented': augment,'PC':pca_param, 'Accuracy':acc, 'F1':fone, 'Precision':prec, 'Recall':rec, 'AUC':au}) \n",
    "    return best_model, best_model_log, training_logs, testing_logs\n",
    " \n",
    "def knn():\n",
    "    training_logs = {}\n",
    "    testing_logs = {}\n",
    "    augment, pca_param, knn_param, acc, fone, prec, rec, au = [], [], [], [], [], [], [], []\n",
    "    # each aug value represents the amount of augmented samples included in the training data\n",
    "    for aug in [0,100,200]:\n",
    "        \n",
    "        X_train, y_train, X_test, y_test = make_dataset(raw_face, num_illum=aug, split=.15)\n",
    "        X_train = X_train/255\n",
    "        X_test = X_test/255\n",
    "\n",
    "        #pipeline components\n",
    "        pca = PCA()\n",
    "        knn = KNeighborsClassifier()\n",
    "        pipe = Pipeline(steps=[('pca', pca), ('knn', knn)])\n",
    "        param_grid = {\n",
    "        'pca__n_components': [i for i in range(1,31)],\n",
    "        'knn__n_neighbors' : [i for i in range(1,60)],     \n",
    "        }\n",
    "\n",
    "        pipe = Pipeline(steps=[('pca', pca), ('knn', knn)])\n",
    "\n",
    "        search = GridSearchCV(pipe, param_grid, scoring='accuracy', n_jobs=-1, cv=5)\n",
    "\n",
    "        search.fit(X_train, y_train)\n",
    "\n",
    "        training = pd.DataFrame(search.cv_results_).sort_values(by='rank_test_score')[['rank_test_score',\n",
    "                                                      'mean_test_score',\n",
    "                                                      'param_pca__n_components',\n",
    "                                                      'param_knn__n_neighbors']].head(5).set_index('rank_test_score')\n",
    "        training_logs['training' + str(aug)] = training\n",
    "        \n",
    "        top_pca = list(training['param_pca__n_components'])\n",
    "        top_n_knn = list(training['param_knn__n_neighbors'])\n",
    "        accuracy, f1, precision, recall, auc = [], [], [], [], [] \n",
    "        for i in range(5):\n",
    "            pca = PCA(n_components=top_pca[i])\n",
    "            knn = KNeighborsClassifier(n_neighbors=top_n_knn[i])\n",
    "            model = Pipeline(steps=[('pca', pca), ('knn', knn)])\n",
    "            model.fit(X_train, y_train)\n",
    "            results = model_eval(model, X_test, y_test)\n",
    "            accuracy.append(results['Accuracy'][0])\n",
    "            f1.append(results['F1'][0])\n",
    "            precision.append(results['Precision'][0])\n",
    "            recall.append(results['Recall'][0])\n",
    "            auc.append(results['AUC'][0])\n",
    "\n",
    "        testing = pd.DataFrame({'# of PC':top_pca, '# of Neighbors': top_n_knn, 'Accuracy':accuracy, \n",
    "                                'F1':f1,'Precision':precision, 'Recall':recall, 'AUC':auc })\n",
    "        testing = testing.sort_values(by=\"Accuracy\", ascending =False)\n",
    "        testing_logs['testing' + str(aug)] = testing\n",
    "        \n",
    "        log_entry = testing.head(1).values\n",
    "        augment.append(aug)\n",
    "        pca_param.append(log_entry[0][0])\n",
    "        knn_param.append(log_entry[0][1])\n",
    "        acc.append(log_entry[0][2])\n",
    "        fone.append(log_entry[0][3])\n",
    "        prec.append(log_entry[0][4])\n",
    "        rec.append(log_entry[0][5])\n",
    "        au.append(log_entry[0][6])\n",
    "        \n",
    "\n",
    "        best_pca_param = int(testing.head(1).values[0][0])\n",
    "        best_knn_param = int(testing.head(1).values[0][1])\n",
    "        pca = PCA(n_components=best_pca_param)\n",
    "        knn = KNeighborsClassifier(n_neighbors=best_knn_param)\n",
    "        best_model = Pipeline(steps=[('pca', pca), ('knn', knn)])\n",
    "        best_model.fit(X_train, y_train)\n",
    "        \n",
    "        \n",
    "    best_model_log = pd.DataFrame({'Augmented': augment,'PC':pca_param, '# of Neighbors': knn_param, 'Accuracy':acc, \n",
    "                                   'F1':fone, 'Precision':prec, 'Recall':rec, 'AUC':au}) \n",
    "    return best_model, best_model_log, training_logs, testing_logs\n",
    "    "
   ]
  },
  {
   "cell_type": "code",
   "execution_count": 64,
   "metadata": {},
   "outputs": [],
   "source": [
    "X_train, y_train, X_test, y_test = make_dataset(raw_face, num_illum=200, split=.15)\n",
    "X_train = X_train/255\n",
    "X_test = X_test/255"
   ]
  },
  {
   "cell_type": "code",
   "execution_count": 65,
   "metadata": {},
   "outputs": [
    {
     "data": {
      "text/html": [
       "<div>\n",
       "<style scoped>\n",
       "    .dataframe tbody tr th:only-of-type {\n",
       "        vertical-align: middle;\n",
       "    }\n",
       "\n",
       "    .dataframe tbody tr th {\n",
       "        vertical-align: top;\n",
       "    }\n",
       "\n",
       "    .dataframe thead th {\n",
       "        text-align: right;\n",
       "    }\n",
       "</style>\n",
       "<table border=\"1\" class=\"dataframe\">\n",
       "  <thead>\n",
       "    <tr style=\"text-align: right;\">\n",
       "      <th></th>\n",
       "      <th>Augmented</th>\n",
       "      <th>PC</th>\n",
       "      <th>Accuracy</th>\n",
       "      <th>F1</th>\n",
       "      <th>Precision</th>\n",
       "      <th>Recall</th>\n",
       "      <th>AUC</th>\n",
       "    </tr>\n",
       "  </thead>\n",
       "  <tbody>\n",
       "    <tr>\n",
       "      <th>0</th>\n",
       "      <td>0</td>\n",
       "      <td>24.0</td>\n",
       "      <td>0.883333</td>\n",
       "      <td>0.872727</td>\n",
       "      <td>0.960000</td>\n",
       "      <td>0.800000</td>\n",
       "      <td>0.883333</td>\n",
       "    </tr>\n",
       "    <tr>\n",
       "      <th>1</th>\n",
       "      <td>100</td>\n",
       "      <td>21.0</td>\n",
       "      <td>0.883333</td>\n",
       "      <td>0.877193</td>\n",
       "      <td>0.925926</td>\n",
       "      <td>0.833333</td>\n",
       "      <td>0.883333</td>\n",
       "    </tr>\n",
       "    <tr>\n",
       "      <th>2</th>\n",
       "      <td>200</td>\n",
       "      <td>15.0</td>\n",
       "      <td>0.850000</td>\n",
       "      <td>0.836364</td>\n",
       "      <td>0.920000</td>\n",
       "      <td>0.766667</td>\n",
       "      <td>0.850000</td>\n",
       "    </tr>\n",
       "  </tbody>\n",
       "</table>\n",
       "</div>"
      ],
      "text/plain": [
       "   Augmented    PC  Accuracy        F1  Precision    Recall       AUC\n",
       "0          0  24.0  0.883333  0.872727   0.960000  0.800000  0.883333\n",
       "1        100  21.0  0.883333  0.877193   0.925926  0.833333  0.883333\n",
       "2        200  15.0  0.850000  0.836364   0.920000  0.766667  0.850000"
      ]
     },
     "execution_count": 65,
     "metadata": {},
     "output_type": "execute_result"
    }
   ],
   "source": [
    "best_bayes_model, bayes_model_log, bayes_training_logs, bayes_testing_logs = bayes()\n",
    "bayes_model_log"
   ]
  },
  {
   "cell_type": "code",
   "execution_count": 66,
   "metadata": {},
   "outputs": [
    {
     "data": {
      "image/png": "[encoded data removed]",
      "text/plain": [
       "<Figure size 432x288 with 2 Axes>"
      ]
     },
     "metadata": {
      "needs_background": "light"
     },
     "output_type": "display_data"
    }
   ],
   "source": [
    "plot_confusion_matrix(best_bayes_model, X_test, y_test, display_labels=['neutral','smile'])\n",
    "plt.title('Bayes Model')\n",
    "plt.show()"
   ]
  },
  {
   "cell_type": "code",
   "execution_count": 67,
   "metadata": {},
   "outputs": [
    {
     "data": {
      "text/plain": [
       "['./models/face_bayes.pkl']"
      ]
     },
     "execution_count": 67,
     "metadata": {},
     "output_type": "execute_result"
    }
   ],
   "source": [
    "#save best knn model\n",
    "joblib.dump(best_bayes_model, './models/face_bayes.pkl')"
   ]
  },
  {
   "cell_type": "code",
   "execution_count": null,
   "metadata": {},
   "outputs": [],
   "source": [
    "best_knn_model, knn_model_log, training_logs, testing_logs = knn()\n",
    "knn_model_log"
   ]
  },
  {
   "cell_type": "code",
   "execution_count": 51,
   "metadata": {},
   "outputs": [
    {
     "data": {
      "text/plain": [
       "Text(0.5, 1.0, 'knn')"
      ]
     },
     "execution_count": 51,
     "metadata": {},
     "output_type": "execute_result"
    },
    {
     "data": {
      "image/png": "[encoded data removed]",
      "text/plain": [
       "<Figure size 432x288 with 2 Axes>"
      ]
     },
     "metadata": {
      "needs_background": "light"
     },
     "output_type": "display_data"
    }
   ],
   "source": [
    "plot_confusion_matrix(best_knn_model, X_test, y_test, display_labels=['neutral','smile'])\n",
    "plt.title('knn')"
   ]
  },
  {
   "cell_type": "code",
   "execution_count": 152,
   "metadata": {},
   "outputs": [
    {
     "data": {
      "text/plain": [
       "['./models/smile_knn.pkl']"
      ]
     },
     "execution_count": 152,
     "metadata": {},
     "output_type": "execute_result"
    }
   ],
   "source": [
    "#save best knn model\n",
    "joblib.dump(best_knn_model, './models/face_knn.pkl')"
   ]
  }
 ],
 "metadata": {
  "kernelspec": {
   "display_name": "Python 3",
   "language": "python",
   "name": "python3"
  },
  "language_info": {
   "codemirror_mode": {
    "name": "ipython",
    "version": 3
   },
   "file_extension": ".py",
   "mimetype": "text/x-python",
   "name": "python",
   "nbconvert_exporter": "python",
   "pygments_lexer": "ipython3",
   "version": "3.8.3"
  }
 },
 "nbformat": 4,
 "nbformat_minor": 4
}
