{
 "cells": [
  {
   "cell_type": "markdown",
   "metadata": {},
   "source": [
    "# Task 1"
   ]
  },
  {
   "cell_type": "code",
   "execution_count": 11,
   "metadata": {},
   "outputs": [],
   "source": [
    "import matplotlib.pyplot as plt\n",
    "from mpl_toolkits.mplot3d import Axes3D\n",
    "import numpy as np \n",
    "from scipy.io import loadmat\n",
    "import pandas as pd\n",
    "from mpl_toolkits.axes_grid1 import ImageGrid\n",
    "from sklearn.pipeline import Pipeline\n",
    "from sklearn.decomposition import PCA\n",
    "from sklearn.naive_bayes import GaussianNB\n",
    "from sklearn.metrics import accuracy_score,recall_score,precision_score,f1_score,roc_auc_score, confusion_matrix\n",
    "from sklearn.model_selection import RepeatedStratifiedKFold, GridSearchCV, train_test_split\n",
    "from sklearn.neighbors import KNeighborsClassifier\n",
    "import seaborn as sns\n",
    "from sklearn.preprocessing import StandardScaler\n",
    "from keras.preprocessing.image import ImageDataGenerator\n",
    "import random\n",
    "from sklearn.metrics import plot_confusion_matrix"
   ]
  },
  {
   "cell_type": "markdown",
   "metadata": {},
   "source": [
    "### Helper Functions"
   ]
  },
  {
   "cell_type": "code",
   "execution_count": 66,
   "metadata": {},
   "outputs": [],
   "source": [
    "def scree_plot(n_comp):\n",
    "    n_comp = 30\n",
    "    pca = PCA(n_components=n_comp)\n",
    "    pc = pca.fit_transform(data)\n",
    "    scree_df = pd.DataFrame({'exp_var':pca.explained_variance_ratio_,\n",
    "                 'PC':[i for i in range(1,n_comp+1)]})\n",
    "    colors = [n_comp * ['blue'] + (20-n_comp) * ['red'] ]\n",
    "    scree_df['colors'] = colors[0]\n",
    "    sns.barplot(x='PC',y=\"exp_var\", \n",
    "               data=scree_df, color=\"c\");\n",
    "    plt.tight_layout()\n",
    "    plt.xlabel('Principal Component')\n",
    "    plt.ylabel('Explained Varaince')\n",
    "\n",
    "def pcplot2d():\n",
    "    n_comp = 20\n",
    "    pca = PCA(n_components=n_comp)\n",
    "    pc = pca.fit_transform(data)\n",
    "    pc_df = pd.DataFrame(data= pc, columns = [('PC' + str(i)) for i in range(1,n_comp+1)])\n",
    "    colors = []\n",
    "    for i in labels:\n",
    "        if i == 0:\n",
    "            colors.append('neutral')\n",
    "        else:\n",
    "            colors.append('smile')\n",
    "    pc_df['class'] =colors\n",
    "    sns.lmplot( x=\"PC1\", y=\"PC2\",\n",
    "      data=pc_df, \n",
    "      fit_reg=False, \n",
    "        hue='class', \n",
    "      legend=True,\n",
    "      scatter_kws={\"s\": 80}) \n",
    "    \n",
    "def pcplot3d():\n",
    "    pca = PCA(n_components=3)\n",
    "    pc = pca.fit_transform(data)\n",
    "    pc_df = pd.DataFrame(data= pc, columns = ['PC1','PC2','PC3'])\n",
    "\n",
    "    fig = plt.figure()\n",
    "    ax = Axes3D(fig)\n",
    "    ax.scatter(pc_df['PC1'], pc_df['PC2'], pc_df['PC3'], c=labels,depthshade=False)\n",
    "    \n",
    "def training_plot(model):\n",
    "    results = pd.DataFrame(model.cv_results_)\n",
    "    x = results['param_pca__n_components']\n",
    "    y = results['mean_test_score']\n",
    "\n",
    "    best_x = results[results['rank_test_score']==1]['param_pca__n_components']\n",
    "    best_y = results[results['rank_test_score']==1]['mean_test_score']\n",
    "\n",
    "    plt.figure(figsize=(6,4))\n",
    "    sns.lineplot(x,y)\n",
    "    plt.scatter(best_x,best_y,c='red',label='Highest Accuracy')\n",
    "    plt.xlabel('Number of Principal Components')\n",
    "    plt.ylabel('Mean Accuracy Score')\n",
    "    # plt.title('Bayes Models: Number of Principal Components')\n",
    "    plt.legend(loc=(.6,0.08))\n",
    "\n",
    "def training_time_plot(model):\n",
    "    results = pd.DataFrame(model.cv_results_)\n",
    "    x = results['param_pca__n_components']\n",
    "    y = results['mean_fit_time']\n",
    "\n",
    "    best_x = results[results['rank_test_score']==1]['param_pca__n_components']\n",
    "    best_y = results[results['rank_test_score']==1]['mean_fit_time']\n",
    "\n",
    "    plt.figure(figsize=(6,4))\n",
    "    sns.lineplot(x,y)\n",
    "    plt.scatter(best_x,best_y,c='red',label='Highest Accuracy')\n",
    "    plt.xlabel('Number of Principal Components')\n",
    "    plt.ylabel('Mean Training Time')\n",
    "    plt.legend()\n",
    "\n",
    "def model_eval(model, X_test, y_test):\n",
    "    ypred = model.predict(X_test)\n",
    "    results = {'Accuracy' : [accuracy_score(y_test, ypred)],\n",
    "               'F1': [f1_score(y_test, ypred)], \n",
    "               'Precision': [precision_score(y_test, ypred)],\n",
    "                'Recall': [recall_score(y_test, ypred)], \n",
    "           'AUC': [roc_auc_score(y_test, ypred)]}\n",
    "    results_df = pd.DataFrame(results)\n",
    "    \n",
    "    results_df = results_df.style.hide_index()\n",
    "    return results_df\n",
    "\n",
    "def confusion_matrix(model, X_test, y_test, labels_list):\n",
    "    ypred = model.predict(X_test)\n",
    "    mat = confusion_matrix(y_test, ypred) \n",
    "    sns.heatmap(mat.T, square=True, annot=True, fmt='d', cbar=False,\n",
    "                        xticklabels=labels_list,\n",
    "                        yticklabels=labels_list)\n",
    "    plt.xlabel('true label')\n",
    "    plt.ylabel('predicted label');"
   ]
  },
  {
   "cell_type": "code",
   "execution_count": 13,
   "metadata": {
    "jupyter": {
     "source_hidden": true
    }
   },
   "outputs": [],
   "source": [
    "#load data chunks and converts to numpy arrays\n",
    "def load_data_chunks():\n",
    "    raw_face = np.array(loadmat('./data/data.mat')['face'])\n",
    "    raw_pose = np.array(loadmat('./data/pose.mat')['pose'])\n",
    "    raw_illum = np.array(loadmat('./data/illumination.mat')['illum'])\n",
    "    aug_neutral = np.load('data/aug_neutral.npy', allow_pickle=True)\n",
    "    aug_smile = np.load('data/aug_smile.npy', allow_pickle=True)\n",
    "    return raw_face, (raw_pose, raw_illum), (aug_neutral,aug_smile)\n",
    "\n",
    "# creates face dataset and returns a tuple of \n",
    "def make_face_dataset(raw_face, augmented=False):\n",
    "    neutral= raw_face[:,:,::3]\n",
    "    smile = raw_face[:,:,1::3]\n",
    "    variation = raw_face[:,:,2::3]\n",
    "    \n",
    "    if augmented == True:\n",
    "        face_data = np.dstack((neutral, variation, smile))\n",
    "        face_data = np.array(np.dsplit(face_data,face_data.shape[-1])).reshape((600,24,21))\n",
    "        face_data = face_data/255\n",
    "        face_data = face_data.reshape((600,24*21))\n",
    "        face_labels = np.ravel(np.array([400 * [0] + 200 * [1]]))\n",
    "        return face_data, face_labels\n",
    "    else:\n",
    "        face_data = np.dstack((neutral, smile))\n",
    "        face_data = np.array(np.dsplit(face_data,face_data.shape[-1])).reshape((400,24,21))\n",
    "        face_data = face_data/255\n",
    "        face_data = face_data.reshape((400,24*21))\n",
    "        face_labels = np.ravel(np.array([200 * [0] + 200 * [1]]))\n",
    "        return face_data, face_labels"
   ]
  },
  {
   "cell_type": "markdown",
   "metadata": {},
   "source": [
    "### load data and create dataset\n"
   ]
  },
  {
   "cell_type": "code",
   "execution_count": 14,
   "metadata": {},
   "outputs": [
    {
     "name": "stdout",
     "output_type": "stream",
     "text": [
      "(340, 504)\n",
      "(60, 504)\n"
     ]
    }
   ],
   "source": [
    "#load data chunks\n",
    "raw_face, raw_pose, aug_data = load_data_chunks()\n",
    "#create face dataset\n",
    "data, labels = make_face_dataset(raw_face, augmented=False)\n",
    "#split data into train and test\n",
    "X_train, X_test, y_train, y_test = train_test_split(data, labels, \n",
    "                                                    test_size=0.15, random_state=42, shuffle='true', stratify=labels)\n",
    "print(X_train.shape)\n",
    "print(X_test.shape)"
   ]
  },
  {
   "cell_type": "code",
   "execution_count": null,
   "metadata": {},
   "outputs": [],
   "source": []
  },
  {
   "cell_type": "code",
   "execution_count": null,
   "metadata": {},
   "outputs": [],
   "source": []
  },
  {
   "cell_type": "markdown",
   "metadata": {},
   "source": [
    "# Gaussian Bayes"
   ]
  },
  {
   "cell_type": "code",
   "execution_count": 68,
   "metadata": {},
   "outputs": [],
   "source": [
    "#Gaussian Bayes pipeline components\n",
    "scaler = StandardScaler()\n",
    "pca = PCA()\n",
    "gnb = GaussianNB()\n",
    "#Parameter grid for grid search below\n",
    "param_grid = {\n",
    "    'pca__n_components': [i for i in range(1,40)]\n",
    "}"
   ]
  },
  {
   "cell_type": "code",
   "execution_count": 16,
   "metadata": {},
   "outputs": [
    {
     "name": "stdout",
     "output_type": "stream",
     "text": [
      "Best parameter (CV score=0.868):\n",
      "{'pca__n_components': 16}\n",
      "0.8676470588235293\n"
     ]
    }
   ],
   "source": [
    "pipe = Pipeline(steps=[('scaler', scaler),('pca', pca), ('bayes', gnb)])\n",
    "\n",
    "cv = RepeatedStratifiedKFold(n_splits=5, n_repeats=2, random_state=1)\n",
    "bayes_search = GridSearchCV(pipe, param_grid, scoring='accuracy', n_jobs=-1, cv=5)\n",
    "bayes_search.fit(X_train, y_train)\n",
    "print(\"Best parameter (CV score=%0.3f):\" % bayes_search.best_score_)\n",
    "print(bayes_search.best_params_)\n",
    "print(bayes_search.best_score_)\n"
   ]
  },
  {
   "cell_type": "code",
   "execution_count": 67,
   "metadata": {},
   "outputs": [
    {
     "data": {
      "image/png": "[encoded data removed]",
      "text/plain": [
       "<Figure size 432x288 with 1 Axes>"
      ]
     },
     "metadata": {
      "needs_background": "light"
     },
     "output_type": "display_data"
    },
    {
     "data": {
      "image/png": "[encoded data removed]",
      "text/plain": [
       "<Figure size 432x288 with 1 Axes>"
      ]
     },
     "metadata": {
      "needs_background": "light"
     },
     "output_type": "display_data"
    }
   ],
   "source": [
    "training_plot(bayes_search)\n",
    "training_time_plot(bayes_search)"
   ]
  },
  {
   "cell_type": "code",
   "execution_count": 77,
   "metadata": {},
   "outputs": [
    {
     "name": "stdout",
     "output_type": "stream",
     "text": [
      "    rank_test_score  mean_test_score  std_test_score param_pca__n_components\n",
      "15                1         0.867647        0.018602                      16\n",
      "8                 2         0.864706        0.025301                       9\n",
      "6                 3         0.861765        0.049740                       7\n",
      "9                 3         0.861765        0.046131                      10\n",
      "14                5         0.855882        0.031403                      15\n"
     ]
    }
   ],
   "source": [
    "bayes_search_results = pd.DataFrame(bayes_search.cv_results_)\n",
    "print(bayes_search_results.sort_values(by='rank_test_score')[['rank_test_score','mean_test_score','std_test_score','param_pca__n_components']].head(5))"
   ]
  },
  {
   "cell_type": "markdown",
   "metadata": {},
   "source": [
    "#### testing"
   ]
  },
  {
   "cell_type": "code",
   "execution_count": 120,
   "metadata": {},
   "outputs": [
    {
     "data": {
      "text/html": [
       "<style  type=\"text/css\" >\n",
       "</style><table id=\"T_9342be9c_5e6a_11eb_9040_acde48001122\" ><thead>    <tr>        <th class=\"col_heading level0 col0\" >Accuracy</th>        <th class=\"col_heading level0 col1\" >F1</th>        <th class=\"col_heading level0 col2\" >Precision</th>        <th class=\"col_heading level0 col3\" >Recall</th>        <th class=\"col_heading level0 col4\" >AUC</th>    </tr></thead><tbody>\n",
       "                <tr>\n",
       "                                <td id=\"T_9342be9c_5e6a_11eb_9040_acde48001122row0_col0\" class=\"data row0 col0\" >0.866667</td>\n",
       "                        <td id=\"T_9342be9c_5e6a_11eb_9040_acde48001122row0_col1\" class=\"data row0 col1\" >0.862069</td>\n",
       "                        <td id=\"T_9342be9c_5e6a_11eb_9040_acde48001122row0_col2\" class=\"data row0 col2\" >0.892857</td>\n",
       "                        <td id=\"T_9342be9c_5e6a_11eb_9040_acde48001122row0_col3\" class=\"data row0 col3\" >0.833333</td>\n",
       "                        <td id=\"T_9342be9c_5e6a_11eb_9040_acde48001122row0_col4\" class=\"data row0 col4\" >0.866667</td>\n",
       "            </tr>\n",
       "    </tbody></table>"
      ],
      "text/plain": [
       "<pandas.io.formats.style.Styler at 0x7ffb62bd0a00>"
      ]
     },
     "execution_count": 120,
     "metadata": {},
     "output_type": "execute_result"
    }
   ],
   "source": [
    "pcaA = PCA(n_components=16)\n",
    "bayes_pipeA = Pipeline(steps=[('scaler', scaler),('pca', pcaA), ('bayes', gnb)])\n",
    "bayes_pipeA.fit(X_train, y_train)\n",
    "model_eval(bayes_pipeA, X_test, y_test)"
   ]
  },
  {
   "cell_type": "code",
   "execution_count": 121,
   "metadata": {},
   "outputs": [
    {
     "data": {
      "image/png": "[encoded data removed]",
      "text/plain": [
       "<Figure size 432x288 with 2 Axes>"
      ]
     },
     "metadata": {
      "needs_background": "light"
     },
     "output_type": "display_data"
    }
   ],
   "source": [
    "plot_confusion_matrix(bayes_pipeA, X_test, y_test, display_labels=['neutral','smile'])\n",
    "plt.title('Bayes Model A')\n",
    "plt.show()"
   ]
  },
  {
   "cell_type": "code",
   "execution_count": 122,
   "metadata": {},
   "outputs": [
    {
     "data": {
      "text/html": [
       "<style  type=\"text/css\" >\n",
       "</style><table id=\"T_99e9a0d0_5e6a_11eb_9040_acde48001122\" ><thead>    <tr>        <th class=\"col_heading level0 col0\" >Accuracy</th>        <th class=\"col_heading level0 col1\" >F1</th>        <th class=\"col_heading level0 col2\" >Precision</th>        <th class=\"col_heading level0 col3\" >Recall</th>        <th class=\"col_heading level0 col4\" >AUC</th>    </tr></thead><tbody>\n",
       "                <tr>\n",
       "                                <td id=\"T_99e9a0d0_5e6a_11eb_9040_acde48001122row0_col0\" class=\"data row0 col0\" >0.883333</td>\n",
       "                        <td id=\"T_99e9a0d0_5e6a_11eb_9040_acde48001122row0_col1\" class=\"data row0 col1\" >0.881356</td>\n",
       "                        <td id=\"T_99e9a0d0_5e6a_11eb_9040_acde48001122row0_col2\" class=\"data row0 col2\" >0.896552</td>\n",
       "                        <td id=\"T_99e9a0d0_5e6a_11eb_9040_acde48001122row0_col3\" class=\"data row0 col3\" >0.866667</td>\n",
       "                        <td id=\"T_99e9a0d0_5e6a_11eb_9040_acde48001122row0_col4\" class=\"data row0 col4\" >0.883333</td>\n",
       "            </tr>\n",
       "    </tbody></table>"
      ],
      "text/plain": [
       "<pandas.io.formats.style.Styler at 0x7ffb62fab160>"
      ]
     },
     "execution_count": 122,
     "metadata": {},
     "output_type": "execute_result"
    }
   ],
   "source": [
    "pcaB = PCA(n_components=9)\n",
    "bayes_pipeB = Pipeline(steps=[('scaler', scaler),('pca', pcaB), ('bayes', gnb)])\n",
    "bayes_pipeB.fit(X_train, y_train)\n",
    "model_eval(bayes_pipeB, X_test, y_test)"
   ]
  },
  {
   "cell_type": "code",
   "execution_count": 123,
   "metadata": {},
   "outputs": [
    {
     "data": {
      "text/plain": [
       "Text(0.5, 1.0, 'Bayes Model B')"
      ]
     },
     "execution_count": 123,
     "metadata": {},
     "output_type": "execute_result"
    },
    {
     "data": {
      "image/png": "[encoded data removed]",
      "text/plain": [
       "<Figure size 432x288 with 2 Axes>"
      ]
     },
     "metadata": {
      "needs_background": "light"
     },
     "output_type": "display_data"
    }
   ],
   "source": [
    "plot_confusion_matrix(bayes_pipeB, X_test, y_test, display_labels=['neutral','smile'])\n",
    "plt.title('Bayes Model B')"
   ]
  },
  {
   "cell_type": "code",
   "execution_count": 124,
   "metadata": {},
   "outputs": [
    {
     "data": {
      "text/html": [
       "<style  type=\"text/css\" >\n",
       "</style><table id=\"T_9c900b80_5e6a_11eb_9040_acde48001122\" ><thead>    <tr>        <th class=\"col_heading level0 col0\" >Accuracy</th>        <th class=\"col_heading level0 col1\" >F1</th>        <th class=\"col_heading level0 col2\" >Precision</th>        <th class=\"col_heading level0 col3\" >Recall</th>        <th class=\"col_heading level0 col4\" >AUC</th>    </tr></thead><tbody>\n",
       "                <tr>\n",
       "                                <td id=\"T_9c900b80_5e6a_11eb_9040_acde48001122row0_col0\" class=\"data row0 col0\" >0.850000</td>\n",
       "                        <td id=\"T_9c900b80_5e6a_11eb_9040_acde48001122row0_col1\" class=\"data row0 col1\" >0.847458</td>\n",
       "                        <td id=\"T_9c900b80_5e6a_11eb_9040_acde48001122row0_col2\" class=\"data row0 col2\" >0.862069</td>\n",
       "                        <td id=\"T_9c900b80_5e6a_11eb_9040_acde48001122row0_col3\" class=\"data row0 col3\" >0.833333</td>\n",
       "                        <td id=\"T_9c900b80_5e6a_11eb_9040_acde48001122row0_col4\" class=\"data row0 col4\" >0.850000</td>\n",
       "            </tr>\n",
       "    </tbody></table>"
      ],
      "text/plain": [
       "<pandas.io.formats.style.Styler at 0x7ffb628a0d90>"
      ]
     },
     "execution_count": 124,
     "metadata": {},
     "output_type": "execute_result"
    }
   ],
   "source": [
    "pcaC = PCA(n_components=7)\n",
    "bayes_pipeC = Pipeline(steps=[('scaler', scaler),('pca', pcaC), ('bayes', gnb)])\n",
    "bayes_pipeC.fit(X_train, y_train)\n",
    "model_eval(bayes_pipeC, X_test, y_test)"
   ]
  },
  {
   "cell_type": "code",
   "execution_count": 125,
   "metadata": {},
   "outputs": [
    {
     "data": {
      "text/plain": [
       "Text(0.5, 1.0, 'Bayes Model C')"
      ]
     },
     "execution_count": 125,
     "metadata": {},
     "output_type": "execute_result"
    },
    {
     "data": {
      "image/png": "[encoded data removed]",
      "text/plain": [
       "<Figure size 432x288 with 2 Axes>"
      ]
     },
     "metadata": {
      "needs_background": "light"
     },
     "output_type": "display_data"
    }
   ],
   "source": [
    "plot_confusion_matrix(bayes_pipeC, X_test, y_test, display_labels=['neutral','smile'])\n",
    "plt.title('Bayes Model C')"
   ]
  },
  {
   "cell_type": "markdown",
   "metadata": {},
   "source": [
    "# KNN"
   ]
  },
  {
   "cell_type": "code",
   "execution_count": 25,
   "metadata": {},
   "outputs": [
    {
     "name": "stdout",
     "output_type": "stream",
     "text": [
      "Best parameter (CV score=0.917):\n",
      "{'knn__metric': 'manhattan', 'knn__n_neighbors': 10, 'knn__weights': 'uniform', 'pca__n_components': 29}\n"
     ]
    }
   ],
   "source": [
    "scaler = StandardScaler()\n",
    "pca = PCA()\n",
    "knn = KNeighborsClassifier()\n",
    "\n",
    "pipe = Pipeline(steps=[('scaler', scaler),('pca', pca), ('knn', knn)])\n",
    "\n",
    "param_grid = {\n",
    "    'pca__n_components': [i for i in range(1,31)],\n",
    "    'knn__n_neighbors' : [i for i in range(1,11)],  \n",
    "    'knn__metric' : ['euclidean','manhattan','chebyshev','minkowski','wminkowski','seuclidean','mahalanobis'],\n",
    "    'knn__weights' : ['uniform','distance'],\n",
    "    \n",
    "}\n",
    "\n",
    "cv = RepeatedStratifiedKFold(n_splits=5, n_repeats=2, random_state=1)\n",
    "knn_search = GridSearchCV(pipe, param_grid, scoring='roc_auc', cv=5, n_jobs=-1)\n",
    "knn_search.fit(X_train, y_train)\n",
    "print(\"Best parameter (CV score=%0.3f):\" % knn_search.best_score_)\n",
    "print(knn_search.best_params_)"
   ]
  },
  {
   "cell_type": "code",
   "execution_count": 62,
   "metadata": {},
   "outputs": [
    {
     "data": {
      "text/html": [
       "<div>\n",
       "<style scoped>\n",
       "    .dataframe tbody tr th:only-of-type {\n",
       "        vertical-align: middle;\n",
       "    }\n",
       "\n",
       "    .dataframe tbody tr th {\n",
       "        vertical-align: top;\n",
       "    }\n",
       "\n",
       "    .dataframe thead th {\n",
       "        text-align: right;\n",
       "    }\n",
       "</style>\n",
       "<table border=\"1\" class=\"dataframe\">\n",
       "  <thead>\n",
       "    <tr style=\"text-align: right;\">\n",
       "      <th></th>\n",
       "      <th>mean_fit_time</th>\n",
       "      <th>std_fit_time</th>\n",
       "      <th>mean_score_time</th>\n",
       "      <th>std_score_time</th>\n",
       "      <th>param_knn__metric</th>\n",
       "      <th>param_knn__n_neighbors</th>\n",
       "      <th>param_knn__weights</th>\n",
       "      <th>param_pca__n_components</th>\n",
       "      <th>params</th>\n",
       "      <th>split0_test_score</th>\n",
       "      <th>split1_test_score</th>\n",
       "      <th>split2_test_score</th>\n",
       "      <th>split3_test_score</th>\n",
       "      <th>split4_test_score</th>\n",
       "      <th>mean_test_score</th>\n",
       "      <th>std_test_score</th>\n",
       "      <th>rank_test_score</th>\n",
       "    </tr>\n",
       "  </thead>\n",
       "  <tbody>\n",
       "    <tr>\n",
       "      <th>1168</th>\n",
       "      <td>0.019105</td>\n",
       "      <td>0.001732</td>\n",
       "      <td>0.005530</td>\n",
       "      <td>0.000562</td>\n",
       "      <td>manhattan</td>\n",
       "      <td>10</td>\n",
       "      <td>uniform</td>\n",
       "      <td>29</td>\n",
       "      <td>{'knn__metric': 'manhattan', 'knn__n_neighbors...</td>\n",
       "      <td>0.881920</td>\n",
       "      <td>0.946367</td>\n",
       "      <td>0.939879</td>\n",
       "      <td>0.936851</td>\n",
       "      <td>0.877595</td>\n",
       "      <td>0.916522</td>\n",
       "      <td>0.030206</td>\n",
       "      <td>1</td>\n",
       "    </tr>\n",
       "    <tr>\n",
       "      <th>1084</th>\n",
       "      <td>0.018780</td>\n",
       "      <td>0.003986</td>\n",
       "      <td>0.004967</td>\n",
       "      <td>0.001550</td>\n",
       "      <td>manhattan</td>\n",
       "      <td>9</td>\n",
       "      <td>uniform</td>\n",
       "      <td>5</td>\n",
       "      <td>{'knn__metric': 'manhattan', 'knn__n_neighbors...</td>\n",
       "      <td>0.866349</td>\n",
       "      <td>0.888841</td>\n",
       "      <td>0.922145</td>\n",
       "      <td>0.960208</td>\n",
       "      <td>0.939446</td>\n",
       "      <td>0.915398</td>\n",
       "      <td>0.033890</td>\n",
       "      <td>2</td>\n",
       "    </tr>\n",
       "    <tr>\n",
       "      <th>1167</th>\n",
       "      <td>0.019276</td>\n",
       "      <td>0.002062</td>\n",
       "      <td>0.005671</td>\n",
       "      <td>0.001450</td>\n",
       "      <td>manhattan</td>\n",
       "      <td>10</td>\n",
       "      <td>uniform</td>\n",
       "      <td>28</td>\n",
       "      <td>{'knn__metric': 'manhattan', 'knn__n_neighbors...</td>\n",
       "      <td>0.889706</td>\n",
       "      <td>0.942042</td>\n",
       "      <td>0.937284</td>\n",
       "      <td>0.925173</td>\n",
       "      <td>0.881055</td>\n",
       "      <td>0.915052</td>\n",
       "      <td>0.024993</td>\n",
       "      <td>3</td>\n",
       "    </tr>\n",
       "    <tr>\n",
       "      <th>1024</th>\n",
       "      <td>0.019650</td>\n",
       "      <td>0.003902</td>\n",
       "      <td>0.005384</td>\n",
       "      <td>0.000918</td>\n",
       "      <td>manhattan</td>\n",
       "      <td>8</td>\n",
       "      <td>uniform</td>\n",
       "      <td>5</td>\n",
       "      <td>{'knn__metric': 'manhattan', 'knn__n_neighbors...</td>\n",
       "      <td>0.874135</td>\n",
       "      <td>0.902249</td>\n",
       "      <td>0.909602</td>\n",
       "      <td>0.951125</td>\n",
       "      <td>0.935554</td>\n",
       "      <td>0.914533</td>\n",
       "      <td>0.026788</td>\n",
       "      <td>4</td>\n",
       "    </tr>\n",
       "    <tr>\n",
       "      <th>2364</th>\n",
       "      <td>0.028842</td>\n",
       "      <td>0.006493</td>\n",
       "      <td>0.005909</td>\n",
       "      <td>0.002574</td>\n",
       "      <td>minkowski</td>\n",
       "      <td>10</td>\n",
       "      <td>uniform</td>\n",
       "      <td>25</td>\n",
       "      <td>{'knn__metric': 'minkowski', 'knn__n_neighbors...</td>\n",
       "      <td>0.879758</td>\n",
       "      <td>0.959775</td>\n",
       "      <td>0.916090</td>\n",
       "      <td>0.919118</td>\n",
       "      <td>0.895329</td>\n",
       "      <td>0.914014</td>\n",
       "      <td>0.027008</td>\n",
       "      <td>5</td>\n",
       "    </tr>\n",
       "  </tbody>\n",
       "</table>\n",
       "</div>"
      ],
      "text/plain": [
       "      mean_fit_time  std_fit_time  mean_score_time  std_score_time  \\\n",
       "1168       0.019105      0.001732         0.005530        0.000562   \n",
       "1084       0.018780      0.003986         0.004967        0.001550   \n",
       "1167       0.019276      0.002062         0.005671        0.001450   \n",
       "1024       0.019650      0.003902         0.005384        0.000918   \n",
       "2364       0.028842      0.006493         0.005909        0.002574   \n",
       "\n",
       "     param_knn__metric param_knn__n_neighbors param_knn__weights  \\\n",
       "1168         manhattan                     10            uniform   \n",
       "1084         manhattan                      9            uniform   \n",
       "1167         manhattan                     10            uniform   \n",
       "1024         manhattan                      8            uniform   \n",
       "2364         minkowski                     10            uniform   \n",
       "\n",
       "     param_pca__n_components  \\\n",
       "1168                      29   \n",
       "1084                       5   \n",
       "1167                      28   \n",
       "1024                       5   \n",
       "2364                      25   \n",
       "\n",
       "                                                 params  split0_test_score  \\\n",
       "1168  {'knn__metric': 'manhattan', 'knn__n_neighbors...           0.881920   \n",
       "1084  {'knn__metric': 'manhattan', 'knn__n_neighbors...           0.866349   \n",
       "1167  {'knn__metric': 'manhattan', 'knn__n_neighbors...           0.889706   \n",
       "1024  {'knn__metric': 'manhattan', 'knn__n_neighbors...           0.874135   \n",
       "2364  {'knn__metric': 'minkowski', 'knn__n_neighbors...           0.879758   \n",
       "\n",
       "      split1_test_score  split2_test_score  split3_test_score  \\\n",
       "1168           0.946367           0.939879           0.936851   \n",
       "1084           0.888841           0.922145           0.960208   \n",
       "1167           0.942042           0.937284           0.925173   \n",
       "1024           0.902249           0.909602           0.951125   \n",
       "2364           0.959775           0.916090           0.919118   \n",
       "\n",
       "      split4_test_score  mean_test_score  std_test_score  rank_test_score  \n",
       "1168           0.877595         0.916522        0.030206                1  \n",
       "1084           0.939446         0.915398        0.033890                2  \n",
       "1167           0.881055         0.915052        0.024993                3  \n",
       "1024           0.935554         0.914533        0.026788                4  \n",
       "2364           0.895329         0.914014        0.027008                5  "
      ]
     },
     "execution_count": 62,
     "metadata": {},
     "output_type": "execute_result"
    }
   ],
   "source": [
    "df = pd.DataFrame(knn_search.cv_results_)\n",
    "df.sort_values(by='rank_test_score').head(5)"
   ]
  },
  {
   "cell_type": "markdown",
   "metadata": {},
   "source": [
    "#### testing"
   ]
  },
  {
   "cell_type": "code",
   "execution_count": 53,
   "metadata": {},
   "outputs": [
    {
     "data": {
      "text/plain": [
       "Pipeline(steps=[('scaler', StandardScaler()), ('pca', PCA(n_components=29)),\n",
       "                ('knn',\n",
       "                 KNeighborsClassifier(metric='manhattan', n_neighbors=10))])"
      ]
     },
     "execution_count": 53,
     "metadata": {},
     "output_type": "execute_result"
    }
   ],
   "source": [
    "pca = PCA(n_components=29)\n",
    "knn = KNeighborsClassifier(n_neighbors=10, metric='manhattan')\n",
    "knn_modelA = Pipeline(steps=[('scaler', scaler),('pca', pca), ('knn', knn)])\n",
    "knn_modelA.fit(X_train,y_train)"
   ]
  },
  {
   "cell_type": "code",
   "execution_count": 54,
   "metadata": {},
   "outputs": [
    {
     "data": {
      "text/plain": [
       "Pipeline(steps=[('scaler', StandardScaler()), ('pca', PCA(n_components=5)),\n",
       "                ('knn',\n",
       "                 KNeighborsClassifier(metric='manhattan', n_neighbors=9))])"
      ]
     },
     "execution_count": 54,
     "metadata": {},
     "output_type": "execute_result"
    }
   ],
   "source": [
    "pca = PCA(n_components=5)\n",
    "knn = KNeighborsClassifier(n_neighbors=9, metric='manhattan')\n",
    "knn_modelB = Pipeline(steps=[('scaler', scaler),('pca', pca), ('knn', knn)])\n",
    "knn_modelB.fit(X_train,y_train)"
   ]
  },
  {
   "cell_type": "code",
   "execution_count": 63,
   "metadata": {},
   "outputs": [
    {
     "data": {
      "text/plain": [
       "Pipeline(steps=[('scaler', StandardScaler()), ('pca', PCA(n_components=28)),\n",
       "                ('knn',\n",
       "                 KNeighborsClassifier(metric='manhattan', n_neighbors=10))])"
      ]
     },
     "execution_count": 63,
     "metadata": {},
     "output_type": "execute_result"
    }
   ],
   "source": [
    "pca = PCA(n_components=28)\n",
    "knn = KNeighborsClassifier(n_neighbors=10, metric='manhattan')\n",
    "knn_modelC = Pipeline(steps=[('scaler', scaler),('pca', pca), ('knn', knn)])\n",
    "knn_modelC.fit(X_train,y_train)"
   ]
  },
  {
   "cell_type": "code",
   "execution_count": 57,
   "metadata": {},
   "outputs": [
    {
     "data": {
      "text/html": [
       "<style  type=\"text/css\" >\n",
       "</style><table id=\"T_413628e4_5e67_11eb_9040_acde48001122\" ><thead>    <tr>        <th class=\"col_heading level0 col0\" >Accuracy</th>        <th class=\"col_heading level0 col1\" >F1</th>        <th class=\"col_heading level0 col2\" >Precision</th>        <th class=\"col_heading level0 col3\" >Recall</th>        <th class=\"col_heading level0 col4\" >AUC</th>    </tr></thead><tbody>\n",
       "                <tr>\n",
       "                                <td id=\"T_413628e4_5e67_11eb_9040_acde48001122row0_col0\" class=\"data row0 col0\" >0.833333</td>\n",
       "                        <td id=\"T_413628e4_5e67_11eb_9040_acde48001122row0_col1\" class=\"data row0 col1\" >0.814815</td>\n",
       "                        <td id=\"T_413628e4_5e67_11eb_9040_acde48001122row0_col2\" class=\"data row0 col2\" >0.916667</td>\n",
       "                        <td id=\"T_413628e4_5e67_11eb_9040_acde48001122row0_col3\" class=\"data row0 col3\" >0.733333</td>\n",
       "                        <td id=\"T_413628e4_5e67_11eb_9040_acde48001122row0_col4\" class=\"data row0 col4\" >0.833333</td>\n",
       "            </tr>\n",
       "    </tbody></table>"
      ],
      "text/plain": [
       "<pandas.io.formats.style.Styler at 0x7ffb6045f670>"
      ]
     },
     "execution_count": 57,
     "metadata": {},
     "output_type": "execute_result"
    }
   ],
   "source": [
    "model_eval(knn_modelA, X_test, y_test)"
   ]
  },
  {
   "cell_type": "code",
   "execution_count": 58,
   "metadata": {},
   "outputs": [
    {
     "data": {
      "text/html": [
       "<style  type=\"text/css\" >\n",
       "</style><table id=\"T_42559692_5e67_11eb_9040_acde48001122\" ><thead>    <tr>        <th class=\"col_heading level0 col0\" >Accuracy</th>        <th class=\"col_heading level0 col1\" >F1</th>        <th class=\"col_heading level0 col2\" >Precision</th>        <th class=\"col_heading level0 col3\" >Recall</th>        <th class=\"col_heading level0 col4\" >AUC</th>    </tr></thead><tbody>\n",
       "                <tr>\n",
       "                                <td id=\"T_42559692_5e67_11eb_9040_acde48001122row0_col0\" class=\"data row0 col0\" >0.866667</td>\n",
       "                        <td id=\"T_42559692_5e67_11eb_9040_acde48001122row0_col1\" class=\"data row0 col1\" >0.870968</td>\n",
       "                        <td id=\"T_42559692_5e67_11eb_9040_acde48001122row0_col2\" class=\"data row0 col2\" >0.843750</td>\n",
       "                        <td id=\"T_42559692_5e67_11eb_9040_acde48001122row0_col3\" class=\"data row0 col3\" >0.900000</td>\n",
       "                        <td id=\"T_42559692_5e67_11eb_9040_acde48001122row0_col4\" class=\"data row0 col4\" >0.866667</td>\n",
       "            </tr>\n",
       "    </tbody></table>"
      ],
      "text/plain": [
       "<pandas.io.formats.style.Styler at 0x7ffb6173fe80>"
      ]
     },
     "execution_count": 58,
     "metadata": {},
     "output_type": "execute_result"
    }
   ],
   "source": [
    "model_eval(knn_modelB, X_test, y_test)"
   ]
  },
  {
   "cell_type": "code",
   "execution_count": 64,
   "metadata": {},
   "outputs": [
    {
     "data": {
      "text/html": [
       "<style  type=\"text/css\" >\n",
       "</style><table id=\"T_c0ec8858_5e67_11eb_9040_acde48001122\" ><thead>    <tr>        <th class=\"col_heading level0 col0\" >Accuracy</th>        <th class=\"col_heading level0 col1\" >F1</th>        <th class=\"col_heading level0 col2\" >Precision</th>        <th class=\"col_heading level0 col3\" >Recall</th>        <th class=\"col_heading level0 col4\" >AUC</th>    </tr></thead><tbody>\n",
       "                <tr>\n",
       "                                <td id=\"T_c0ec8858_5e67_11eb_9040_acde48001122row0_col0\" class=\"data row0 col0\" >0.866667</td>\n",
       "                        <td id=\"T_c0ec8858_5e67_11eb_9040_acde48001122row0_col1\" class=\"data row0 col1\" >0.851852</td>\n",
       "                        <td id=\"T_c0ec8858_5e67_11eb_9040_acde48001122row0_col2\" class=\"data row0 col2\" >0.958333</td>\n",
       "                        <td id=\"T_c0ec8858_5e67_11eb_9040_acde48001122row0_col3\" class=\"data row0 col3\" >0.766667</td>\n",
       "                        <td id=\"T_c0ec8858_5e67_11eb_9040_acde48001122row0_col4\" class=\"data row0 col4\" >0.866667</td>\n",
       "            </tr>\n",
       "    </tbody></table>"
      ],
      "text/plain": [
       "<pandas.io.formats.style.Styler at 0x7ffb619e97f0>"
      ]
     },
     "execution_count": 64,
     "metadata": {},
     "output_type": "execute_result"
    }
   ],
   "source": [
    "model_eval(knn_modelC, X_test, y_test)"
   ]
  },
  {
   "cell_type": "code",
   "execution_count": 59,
   "metadata": {},
   "outputs": [
    {
     "data": {
      "text/plain": [
       "Text(0.5, 1.0, 'PCA: 29 and KNN:10')"
      ]
     },
     "execution_count": 59,
     "metadata": {},
     "output_type": "execute_result"
    },
    {
     "data": {
      "image/png": "[encoded data removed]",
      "text/plain": [
       "<Figure size 432x288 with 2 Axes>"
      ]
     },
     "metadata": {
      "needs_background": "light"
     },
     "output_type": "display_data"
    }
   ],
   "source": [
    "plot_confusion_matrix(knn_modelA, X_test, y_test, display_labels=['neutral','smile'])\n",
    "plt.title('PCA: 29 and KNN:10')"
   ]
  },
  {
   "cell_type": "code",
   "execution_count": 61,
   "metadata": {},
   "outputs": [
    {
     "data": {
      "text/plain": [
       "Text(0.5, 1.0, 'PCA: 5 and KNN:9')"
      ]
     },
     "execution_count": 61,
     "metadata": {},
     "output_type": "execute_result"
    },
    {
     "data": {
      "image/png": "[encoded data removed]",
      "text/plain": [
       "<Figure size 432x288 with 2 Axes>"
      ]
     },
     "metadata": {
      "needs_background": "light"
     },
     "output_type": "display_data"
    }
   ],
   "source": [
    "plot_confusion_matrix(knn_modelB, X_test, y_test, display_labels=['neutral','smile'])\n",
    "plt.title('PCA: 5 and KNN:9')"
   ]
  },
  {
   "cell_type": "code",
   "execution_count": 65,
   "metadata": {},
   "outputs": [
    {
     "data": {
      "text/plain": [
       "Text(0.5, 1.0, 'PCA: 28 and KNN:10')"
      ]
     },
     "execution_count": 65,
     "metadata": {},
     "output_type": "execute_result"
    },
    {
     "data": {
      "image/png": "[encoded data removed]",
      "text/plain": [
       "<Figure size 432x288 with 2 Axes>"
      ]
     },
     "metadata": {
      "needs_background": "light"
     },
     "output_type": "display_data"
    }
   ],
   "source": [
    "plot_confusion_matrix(knn_modelC, X_test, y_test, display_labels=['neutral','smile'])\n",
    "plt.title('PCA: 28 and KNN:10')"
   ]
  },
  {
   "cell_type": "markdown",
   "metadata": {},
   "source": [
    "# PCA Analysis"
   ]
  },
  {
   "cell_type": "code",
   "execution_count": 42,
   "metadata": {},
   "outputs": [
    {
     "data": {
      "image/png": "[encoded data removed]",
      "text/plain": [
       "<Figure size 432x288 with 1 Axes>"
      ]
     },
     "metadata": {
      "needs_background": "light"
     },
     "output_type": "display_data"
    },
    {
     "data": {
      "image/png": "[encoded data removed]",
      "text/plain": [
       "<Figure size 431.875x360 with 1 Axes>"
      ]
     },
     "metadata": {
      "needs_background": "light"
     },
     "output_type": "display_data"
    }
   ],
   "source": [
    "scree_plot(n_comp=16)\n",
    "pcplot2d()"
   ]
  },
  {
   "cell_type": "code",
   "execution_count": null,
   "metadata": {},
   "outputs": [],
   "source": []
  }
 ],
 "metadata": {
  "kernelspec": {
   "display_name": "Python 3",
   "language": "python",
   "name": "python3"
  },
  "language_info": {
   "codemirror_mode": {
    "name": "ipython",
    "version": 3
   },
   "file_extension": ".py",
   "mimetype": "text/x-python",
   "name": "python",
   "nbconvert_exporter": "python",
   "pygments_lexer": "ipython3",
   "version": "3.8.3"
  }
 },
 "nbformat": 4,
 "nbformat_minor": 4
}
