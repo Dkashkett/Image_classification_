{
 "cells": [
  {
   "cell_type": "markdown",
   "metadata": {},
   "source": [
    "# Task 1"
   ]
  },
  {
   "cell_type": "code",
   "execution_count": 86,
   "metadata": {
    "jupyter": {
     "source_hidden": true
    }
   },
   "outputs": [],
   "source": [
    "import matplotlib.pyplot as plt\n",
    "from mpl_toolkits.mplot3d import Axes3D\n",
    "import numpy as np \n",
    "from scipy.io import loadmat\n",
    "import pandas as pd\n",
    "from mpl_toolkits.axes_grid1 import ImageGrid\n",
    "from sklearn.pipeline import Pipeline\n",
    "from sklearn.decomposition import PCA\n",
    "from sklearn.naive_bayes import GaussianNB\n",
    "from sklearn.metrics import accuracy_score,recall_score,precision_score,f1_score,roc_auc_score, confusion_matrix\n",
    "from sklearn.model_selection import RepeatedStratifiedKFold, GridSearchCV, train_test_split\n",
    "from sklearn.neighbors import KNeighborsClassifier\n",
    "import seaborn as sns\n",
    "from sklearn.preprocessing import StandardScaler\n",
    "from keras.preprocessing.image import ImageDataGenerator\n",
    "import random\n",
    "from sklearn.metrics import plot_confusion_matrix\n",
    "import joblib "
   ]
  },
  {
   "cell_type": "markdown",
   "metadata": {},
   "source": [
    "### Helper Functions"
   ]
  },
  {
   "cell_type": "code",
   "execution_count": 232,
   "metadata": {
    "jupyter": {
     "source_hidden": true
    }
   },
   "outputs": [],
   "source": [
    "def scree_plot(n_comp):\n",
    "    n_comp = 30\n",
    "    pca = PCA(n_components=n_comp)\n",
    "    pc = pca.fit_transform(data)\n",
    "    scree_df = pd.DataFrame({'exp_var':pca.explained_variance_ratio_,\n",
    "                 'PC':[i for i in range(1,n_comp+1)]})\n",
    "    colors = [n_comp * ['blue'] + (20-n_comp) * ['red'] ]\n",
    "    scree_df['colors'] = colors[0]\n",
    "    sns.barplot(x='PC',y=\"exp_var\", \n",
    "               data=scree_df, color=\"c\");\n",
    "    plt.tight_layout()\n",
    "    plt.xlabel('Principal Component')\n",
    "    plt.ylabel('Explained Varaince')\n",
    "\n",
    "def pcplot2d():\n",
    "    n_comp = 20\n",
    "    pca = PCA(n_components=n_comp)\n",
    "    pc = pca.fit_transform(data)\n",
    "    pc_df = pd.DataFrame(data= pc, columns = [('PC' + str(i)) for i in range(1,n_comp+1)])\n",
    "    colors = []\n",
    "    for i in labels:\n",
    "        if i == 0:\n",
    "            colors.append('neutral')\n",
    "        else:\n",
    "            colors.append('smile')\n",
    "    pc_df['class'] =colors\n",
    "    sns.lmplot( x=\"PC1\", y=\"PC2\",\n",
    "      data=pc_df, \n",
    "      fit_reg=False, \n",
    "        hue='class', \n",
    "      legend=True,\n",
    "      scatter_kws={\"s\": 80}) \n",
    "    \n",
    "def pcplot3d():\n",
    "    pca = PCA(n_components=3)\n",
    "    pc = pca.fit_transform(data)\n",
    "    pc_df = pd.DataFrame(data= pc, columns = ['PC1','PC2','PC3'])\n",
    "\n",
    "    fig = plt.figure()\n",
    "    ax = Axes3D(fig)\n",
    "    ax.scatter(pc_df['PC1'], pc_df['PC2'], pc_df['PC3'], c=labels,depthshade=False)\n",
    "    \n",
    "def training_plot(model):\n",
    "    results = pd.DataFrame(model.cv_results_)\n",
    "    x = results['param_pca__n_components']\n",
    "    y = results['mean_test_score']\n",
    "\n",
    "    best_x = results[results['rank_test_score']==1]['param_pca__n_components']\n",
    "    best_y = results[results['rank_test_score']==1]['mean_test_score']\n",
    "\n",
    "    plt.figure(figsize=(6,4))\n",
    "    sns.lineplot(x,y)\n",
    "    plt.scatter(best_x,best_y,c='red',label='Highest Accuracy')\n",
    "    plt.xlabel('Number of Principal Components')\n",
    "    plt.ylabel('Mean Accuracy Score')\n",
    "    # plt.title('Bayes Models: Number of Principal Components')\n",
    "    plt.legend(loc=(.6,0.08))\n",
    "\n",
    "def training_time_plot(model):\n",
    "    results = pd.DataFrame(model.cv_results_)\n",
    "    x = results['param_pca__n_components']\n",
    "    y = results['mean_fit_time']\n",
    "\n",
    "    best_x = results[results['rank_test_score']==1]['param_pca__n_components']\n",
    "    best_y = results[results['rank_test_score']==1]['mean_fit_time']\n",
    "\n",
    "    plt.figure(figsize=(6,4))\n",
    "    sns.lineplot(x,y)\n",
    "    plt.scatter(best_x,best_y,c='red',label='Highest Accuracy')\n",
    "    plt.xlabel('Number of Principal Components')\n",
    "    plt.ylabel('Mean Training Time')\n",
    "    plt.legend()\n",
    "\n",
    "def model_eval(model, X_test, y_test):\n",
    "    ypred = model.predict(X_test)\n",
    "    results = {'Accuracy' : [accuracy_score(y_test, ypred)],\n",
    "               'F1': [f1_score(y_test, ypred)], \n",
    "               'Precision': [precision_score(y_test, ypred)],\n",
    "                'Recall': [recall_score(y_test, ypred)], \n",
    "           'AUC': [roc_auc_score(y_test, ypred)]}\n",
    "    results_df = pd.DataFrame(results)\n",
    "    \n",
    "#     results_df = results_df.style.hide_index()\n",
    "    return results_df\n",
    "\n",
    "def confusion_matrix(model, X_test, y_test, labels_list):\n",
    "    ypred = model.predict(X_test)\n",
    "    mat = confusion_matrix(y_test, ypred) \n",
    "    sns.heatmap(mat.T, square=True, annot=True, fmt='d', cbar=False,\n",
    "                        xticklabels=labels_list,\n",
    "                        yticklabels=labels_list)\n",
    "    plt.xlabel('true label')\n",
    "    plt.ylabel('predicted label');"
   ]
  },
  {
   "cell_type": "code",
   "execution_count": 430,
   "metadata": {
    "jupyter": {
     "source_hidden": true
    }
   },
   "outputs": [],
   "source": [
    "#load data chunks and converts to numpy arrays\n",
    "def load_data_chunks():\n",
    "    raw_face = np.array(loadmat('./data/data.mat')['face'])\n",
    "    raw_pose = np.array(loadmat('./data/pose.mat')['pose'])\n",
    "    raw_illum = np.array(loadmat('./data/illumination.mat')['illum'])\n",
    "    aug_neutral = np.load('data/aug_neutral.npy', allow_pickle=True)\n",
    "    aug_smile = np.load('data/aug_smile.npy', allow_pickle=True)\n",
    "    return raw_face, (raw_pose, raw_illum), (aug_neutral,aug_smile)\n",
    "\n",
    "def make_dataset(raw_face, num_illum, split=.15):\n",
    "    np.random.seed(31)\n",
    "    neutral= list(raw_face[:,:,::3].reshape((24*21,200)).transpose())\n",
    "    smile = list(raw_face[:,:,1::3].reshape((24*21,200)).transpose())\n",
    "    illum = list(raw_face[:,:,2::3].reshape((24*21,200)).transpose())\n",
    "    np.random.shuffle(neutral) \n",
    "    np.random.shuffle(smile)\n",
    "    np.random.shuffle(illum)\n",
    "    X_train, y_train, X_test, y_test = [],[],[],[]\n",
    "    split_half = int((400*split)/2)\n",
    "    \n",
    "    for i in range(split_half):\n",
    "        X_test.append(neutral.pop())\n",
    "        y_test.append(0)\n",
    "        X_test.append(smile.pop())\n",
    "        y_test.append(1)\n",
    "    for i in range(200-split_half):\n",
    "        X_train.append(neutral.pop())\n",
    "        y_train.append(0)\n",
    "        X_train.append(smile.pop())\n",
    "        y_train.append(1)\n",
    "    for i in range(num_illum):\n",
    "        X_train.append(illum.pop())\n",
    "        y_train.append(0)\n",
    "    \n",
    "    train = list(zip(X_train, y_train))\n",
    "    np.random.shuffle(train)\n",
    "    train = np.array(train)\n",
    "    X_train, y_train = train[:,0], train[:,1]\n",
    "    X_train = np.array([X_train[i].reshape(504) for i in range(((200-split_half)*2) +num_illum)])\n",
    "    \n",
    "    test = list(zip(X_test, y_test))\n",
    "    np.random.shuffle(test)\n",
    "    test = np.array(test)\n",
    "    X_test, y_test = test[:,0], test[:,1]\n",
    "    X_test = np.array([X_test[i].reshape(504) for i in range(split_half*2)])\n",
    "#     X_test, y_test = np.array(X_test), np.array(y_test)\n",
    "    \n",
    "    print(X_train.shape, y_train.shape, X_test.shape, y_test.shape)\n",
    "    return X_train, y_train.astype(int), X_test, y_test.astype(int)"
   ]
  },
  {
   "cell_type": "markdown",
   "metadata": {},
   "source": [
    "### load data and create dataset\n"
   ]
  },
  {
   "cell_type": "code",
   "execution_count": 470,
   "metadata": {},
   "outputs": [
    {
     "name": "stdout",
     "output_type": "stream",
     "text": [
      "(540, 504) (540,) (60, 504) (60,)\n"
     ]
    }
   ],
   "source": [
    "X_train, y_train, X_test, y_test = make_dataset(raw_face, num_illum=200, split=.15)\n",
    "X_train = X_train/255\n",
    "X_test = X_test/255"
   ]
  },
  {
   "cell_type": "markdown",
   "metadata": {},
   "source": [
    "## Data Exploration"
   ]
  },
  {
   "cell_type": "code",
   "execution_count": 471,
   "metadata": {},
   "outputs": [],
   "source": [
    "# scree_plot(n_comp=16)\n",
    "# pcplot2d()"
   ]
  },
  {
   "cell_type": "code",
   "execution_count": 432,
   "metadata": {},
   "outputs": [],
   "source": [
    "bayes_testing_log = []\n",
    "knn_testing_log = []"
   ]
  },
  {
   "cell_type": "markdown",
   "metadata": {},
   "source": [
    "# Gaussian Bayes"
   ]
  },
  {
   "cell_type": "code",
   "execution_count": 465,
   "metadata": {},
   "outputs": [
    {
     "name": "stdout",
     "output_type": "stream",
     "text": [
      "Best parameter (CV score=0.917):\n",
      "{'pca__n_components': 15}\n",
      "0.9166666666666666\n"
     ]
    }
   ],
   "source": [
    "#Gaussian Bayes pipeline components\n",
    "scaler = StandardScaler()\n",
    "pca = PCA()\n",
    "gnb = GaussianNB()\n",
    "#Parameter grid for grid search below\n",
    "param_grid = {\n",
    "    'pca__n_components': [i for i in range(1,40)]\n",
    "}\n",
    "pipe = Pipeline(steps=[('pca', pca), ('bayes', gnb)])\n",
    "cv = RepeatedStratifiedKFold(n_splits=5, n_repeats=2, random_state=1)\n",
    "bayes_search = GridSearchCV(pipe, param_grid, scoring='accuracy', n_jobs=-1, cv=5)\n",
    "bayes_search.fit(X_train, y_train)\n",
    "print(\"Best parameter (CV score=%0.3f):\" % bayes_search.best_score_)\n",
    "print(bayes_search.best_params_)\n",
    "print(bayes_search.best_score_)"
   ]
  },
  {
   "cell_type": "code",
   "execution_count": 466,
   "metadata": {},
   "outputs": [
    {
     "data": {
      "image/png": "[encoded data removed]",
      "text/plain": [
       "<Figure size 432x288 with 1 Axes>"
      ]
     },
     "metadata": {
      "needs_background": "light"
     },
     "output_type": "display_data"
    },
    {
     "data": {
      "image/png": "[encoded data removed]",
      "text/plain": [
       "<Figure size 432x288 with 1 Axes>"
      ]
     },
     "metadata": {
      "needs_background": "light"
     },
     "output_type": "display_data"
    }
   ],
   "source": [
    "training_plot(bayes_search)\n",
    "training_time_plot(bayes_search)"
   ]
  },
  {
   "cell_type": "code",
   "execution_count": 467,
   "metadata": {},
   "outputs": [
    {
     "data": {
      "text/html": [
       "<div>\n",
       "<style scoped>\n",
       "    .dataframe tbody tr th:only-of-type {\n",
       "        vertical-align: middle;\n",
       "    }\n",
       "\n",
       "    .dataframe tbody tr th {\n",
       "        vertical-align: top;\n",
       "    }\n",
       "\n",
       "    .dataframe thead th {\n",
       "        text-align: right;\n",
       "    }\n",
       "</style>\n",
       "<table border=\"1\" class=\"dataframe\">\n",
       "  <thead>\n",
       "    <tr style=\"text-align: right;\">\n",
       "      <th></th>\n",
       "      <th>mean_test_score</th>\n",
       "      <th>std_test_score</th>\n",
       "      <th>param_pca__n_components</th>\n",
       "    </tr>\n",
       "    <tr>\n",
       "      <th>rank_test_score</th>\n",
       "      <th></th>\n",
       "      <th></th>\n",
       "      <th></th>\n",
       "    </tr>\n",
       "  </thead>\n",
       "  <tbody>\n",
       "    <tr>\n",
       "      <th>1</th>\n",
       "      <td>0.916667</td>\n",
       "      <td>0.021114</td>\n",
       "      <td>15</td>\n",
       "    </tr>\n",
       "    <tr>\n",
       "      <th>1</th>\n",
       "      <td>0.916667</td>\n",
       "      <td>0.021114</td>\n",
       "      <td>16</td>\n",
       "    </tr>\n",
       "    <tr>\n",
       "      <th>3</th>\n",
       "      <td>0.914815</td>\n",
       "      <td>0.025793</td>\n",
       "      <td>17</td>\n",
       "    </tr>\n",
       "    <tr>\n",
       "      <th>4</th>\n",
       "      <td>0.907407</td>\n",
       "      <td>0.030429</td>\n",
       "      <td>18</td>\n",
       "    </tr>\n",
       "    <tr>\n",
       "      <th>4</th>\n",
       "      <td>0.907407</td>\n",
       "      <td>0.029280</td>\n",
       "      <td>14</td>\n",
       "    </tr>\n",
       "  </tbody>\n",
       "</table>\n",
       "</div>"
      ],
      "text/plain": [
       "                 mean_test_score  std_test_score param_pca__n_components\n",
       "rank_test_score                                                         \n",
       "1                       0.916667        0.021114                      15\n",
       "1                       0.916667        0.021114                      16\n",
       "3                       0.914815        0.025793                      17\n",
       "4                       0.907407        0.030429                      18\n",
       "4                       0.907407        0.029280                      14"
      ]
     },
     "execution_count": 467,
     "metadata": {},
     "output_type": "execute_result"
    }
   ],
   "source": [
    "bayes_search_results = pd.DataFrame(bayes_search.cv_results_).sort_values(by='rank_test_score')[['rank_test_score',\n",
    "                                                        'mean_test_score',\n",
    "                                                        'std_test_score',\n",
    "                                                        'param_pca__n_components']].head(5).set_index('rank_test_score')\n",
    "bayes_search_results"
   ]
  },
  {
   "cell_type": "markdown",
   "metadata": {},
   "source": [
    "### Testing"
   ]
  },
  {
   "cell_type": "code",
   "execution_count": 468,
   "metadata": {},
   "outputs": [
    {
     "data": {
      "text/html": [
       "<div>\n",
       "<style scoped>\n",
       "    .dataframe tbody tr th:only-of-type {\n",
       "        vertical-align: middle;\n",
       "    }\n",
       "\n",
       "    .dataframe tbody tr th {\n",
       "        vertical-align: top;\n",
       "    }\n",
       "\n",
       "    .dataframe thead th {\n",
       "        text-align: right;\n",
       "    }\n",
       "</style>\n",
       "<table border=\"1\" class=\"dataframe\">\n",
       "  <thead>\n",
       "    <tr style=\"text-align: right;\">\n",
       "      <th></th>\n",
       "      <th># of PC</th>\n",
       "      <th>Accuracy</th>\n",
       "      <th>F1</th>\n",
       "      <th>Precision</th>\n",
       "      <th>Recall</th>\n",
       "      <th>AUC</th>\n",
       "    </tr>\n",
       "  </thead>\n",
       "  <tbody>\n",
       "    <tr>\n",
       "      <th>0</th>\n",
       "      <td>15</td>\n",
       "      <td>0.850000</td>\n",
       "      <td>0.836364</td>\n",
       "      <td>0.920000</td>\n",
       "      <td>0.766667</td>\n",
       "      <td>0.850000</td>\n",
       "    </tr>\n",
       "    <tr>\n",
       "      <th>1</th>\n",
       "      <td>16</td>\n",
       "      <td>0.833333</td>\n",
       "      <td>0.821429</td>\n",
       "      <td>0.884615</td>\n",
       "      <td>0.766667</td>\n",
       "      <td>0.833333</td>\n",
       "    </tr>\n",
       "    <tr>\n",
       "      <th>2</th>\n",
       "      <td>17</td>\n",
       "      <td>0.833333</td>\n",
       "      <td>0.821429</td>\n",
       "      <td>0.884615</td>\n",
       "      <td>0.766667</td>\n",
       "      <td>0.833333</td>\n",
       "    </tr>\n",
       "    <tr>\n",
       "      <th>3</th>\n",
       "      <td>18</td>\n",
       "      <td>0.816667</td>\n",
       "      <td>0.800000</td>\n",
       "      <td>0.880000</td>\n",
       "      <td>0.733333</td>\n",
       "      <td>0.816667</td>\n",
       "    </tr>\n",
       "    <tr>\n",
       "      <th>4</th>\n",
       "      <td>14</td>\n",
       "      <td>0.816667</td>\n",
       "      <td>0.800000</td>\n",
       "      <td>0.880000</td>\n",
       "      <td>0.733333</td>\n",
       "      <td>0.816667</td>\n",
       "    </tr>\n",
       "  </tbody>\n",
       "</table>\n",
       "</div>"
      ],
      "text/plain": [
       "   # of PC  Accuracy        F1  Precision    Recall       AUC\n",
       "0       15  0.850000  0.836364   0.920000  0.766667  0.850000\n",
       "1       16  0.833333  0.821429   0.884615  0.766667  0.833333\n",
       "2       17  0.833333  0.821429   0.884615  0.766667  0.833333\n",
       "3       18  0.816667  0.800000   0.880000  0.733333  0.816667\n",
       "4       14  0.816667  0.800000   0.880000  0.733333  0.816667"
      ]
     },
     "execution_count": 468,
     "metadata": {},
     "output_type": "execute_result"
    }
   ],
   "source": [
    "top_pca = list(bayes_search_results['param_pca__n_components'])\n",
    "accuracy, f1, precision, recall, auc = [], [], [], [], [] \n",
    "for i in range(5):\n",
    "    pca = PCA(n_components=top_pca[i])\n",
    "    model = Pipeline(steps=[('pca', pca), ('bayes', gnb)])\n",
    "    model.fit(X_train, y_train)\n",
    "    results = model_eval(model, X_test, y_test)\n",
    "    accuracy.append(results['Accuracy'][0])\n",
    "    f1.append(results['F1'][0])\n",
    "    precision.append(results['Precision'][0])\n",
    "    recall.append(results['Recall'][0])\n",
    "    auc.append(results['AUC'][0])\n",
    "    \n",
    "testing_results = pd.DataFrame({'# of PC':top_pca, 'Accuracy':accuracy, \n",
    "                                'F1':f1,'Precision':precision, 'Recall':recall, 'AUC':auc})\n",
    "testing_results = testing_results.sort_values(by=\"AUC\", ascending =False)\n",
    "# bayes_testing_log.append((list(testing_results.loc[0][:2]),'no augmented data'))\n",
    "testing_results"
   ]
  },
  {
   "cell_type": "markdown",
   "metadata": {},
   "source": [
    "#### Best Model"
   ]
  },
  {
   "cell_type": "code",
   "execution_count": 439,
   "metadata": {},
   "outputs": [
    {
     "data": {
      "image/png": "[encoded data removed]",
      "text/plain": [
       "<Figure size 432x288 with 2 Axes>"
      ]
     },
     "metadata": {
      "needs_background": "light"
     },
     "output_type": "display_data"
    }
   ],
   "source": [
    "pca = PCA(n_components=14)\n",
    "bayes_pipe = Pipeline(steps=[('pca', pcaB), ('bayes', gnb)])\n",
    "bayes_pipe.fit(X_train, y_train)\n",
    "plot_confusion_matrix(bayes_pipe, X_test, y_test, display_labels=['neutral','smile'])\n",
    "plt.title('Bayes Model')\n",
    "plt.show()"
   ]
  },
  {
   "cell_type": "code",
   "execution_count": 440,
   "metadata": {},
   "outputs": [
    {
     "data": {
      "text/plain": [
       "['./models/smile_bayes_aug50.pkl']"
      ]
     },
     "execution_count": 440,
     "metadata": {},
     "output_type": "execute_result"
    }
   ],
   "source": [
    "#save best bayes model\n",
    "joblib.dump(knn_modelA, './models/smile_bayes_aug50.pkl')"
   ]
  },
  {
   "cell_type": "markdown",
   "metadata": {},
   "source": [
    "# KNN"
   ]
  },
  {
   "cell_type": "code",
   "execution_count": 450,
   "metadata": {},
   "outputs": [
    {
     "ename": "WorkerInterrupt",
     "evalue": "",
     "output_type": "error",
     "traceback": [
      "\u001b[0;31m---------------------------------------------------------------------------\u001b[0m",
      "\u001b[0;31m_RemoteTraceback\u001b[0m                          Traceback (most recent call last)",
      "\u001b[0;31m_RemoteTraceback\u001b[0m: \n\"\"\"\nTraceback (most recent call last):\n  File \"/opt/anaconda3/lib/python3.8/site-packages/joblib/_parallel_backends.py\", line 595, in __call__\n    return self.func(*args, **kwargs)\n  File \"/opt/anaconda3/lib/python3.8/site-packages/joblib/parallel.py\", line 252, in __call__\n    return [func(*args, **kwargs)\n  File \"/opt/anaconda3/lib/python3.8/site-packages/joblib/parallel.py\", line 252, in <listcomp>\n    return [func(*args, **kwargs)\n  File \"/opt/anaconda3/lib/python3.8/site-packages/sklearn/model_selection/_validation.py\", line 531, in _fit_and_score\n    estimator.fit(X_train, y_train, **fit_params)\n  File \"/opt/anaconda3/lib/python3.8/site-packages/sklearn/pipeline.py\", line 330, in fit\n    Xt = self._fit(X, y, **fit_params_steps)\n  File \"/opt/anaconda3/lib/python3.8/site-packages/sklearn/pipeline.py\", line 292, in _fit\n    X, fitted_transformer = fit_transform_one_cached(\n  File \"/opt/anaconda3/lib/python3.8/site-packages/joblib/memory.py\", line 352, in __call__\n    return self.func(*args, **kwargs)\n  File \"/opt/anaconda3/lib/python3.8/site-packages/sklearn/pipeline.py\", line 740, in _fit_transform_one\n    res = transformer.fit_transform(X, y, **fit_params)\n  File \"/opt/anaconda3/lib/python3.8/site-packages/sklearn/decomposition/_pca.py\", line 376, in fit_transform\n    U, S, V = self._fit(X)\n  File \"/opt/anaconda3/lib/python3.8/site-packages/sklearn/decomposition/_pca.py\", line 425, in _fit\n    return self._fit_truncated(X, n_components, self._fit_svd_solver)\n  File \"/opt/anaconda3/lib/python3.8/site-packages/sklearn/decomposition/_pca.py\", line 542, in _fit_truncated\n    U, S, V = randomized_svd(X, n_components=n_components,\n  File \"/opt/anaconda3/lib/python3.8/site-packages/sklearn/utils/validation.py\", line 73, in inner_f\n    return f(**kwargs)\n  File \"/opt/anaconda3/lib/python3.8/site-packages/sklearn/utils/extmath.py\", line 349, in randomized_svd\n    Q = randomized_range_finder(\n  File \"/opt/anaconda3/lib/python3.8/site-packages/sklearn/utils/validation.py\", line 73, in inner_f\n    return f(**kwargs)\n  File \"/opt/anaconda3/lib/python3.8/site-packages/sklearn/utils/extmath.py\", line 235, in randomized_range_finder\n    Q, _ = linalg.lu(safe_sparse_dot(A.T, Q), permute_l=True)\n  File \"/opt/anaconda3/lib/python3.8/site-packages/sklearn/utils/validation.py\", line 73, in inner_f\n    return f(**kwargs)\n  File \"/opt/anaconda3/lib/python3.8/site-packages/sklearn/utils/extmath.py\", line 153, in safe_sparse_dot\n    ret = a @ b\nKeyboardInterrupt\n\nThe above exception was the direct cause of the following exception:\n\nTraceback (most recent call last):\n  File \"/opt/anaconda3/lib/python3.8/site-packages/joblib/externals/loky/process_executor.py\", line 431, in _process_worker\n    r = call_item()\n  File \"/opt/anaconda3/lib/python3.8/site-packages/joblib/externals/loky/process_executor.py\", line 285, in __call__\n    return self.fn(*self.args, **self.kwargs)\n  File \"/opt/anaconda3/lib/python3.8/site-packages/joblib/_parallel_backends.py\", line 600, in __call__\n    raise WorkerInterrupt() from e\njoblib.my_exceptions.WorkerInterrupt\n\"\"\"",
      "\nThe above exception was the direct cause of the following exception:\n",
      "\u001b[0;31mWorkerInterrupt\u001b[0m                           Traceback (most recent call last)",
      "\u001b[0;32m<ipython-input-450-a61e7ee970ba>\u001b[0m in \u001b[0;36m<module>\u001b[0;34m\u001b[0m\n\u001b[1;32m      9\u001b[0m \u001b[0mknn_search\u001b[0m \u001b[0;34m=\u001b[0m \u001b[0mGridSearchCV\u001b[0m\u001b[0;34m(\u001b[0m\u001b[0mpipe\u001b[0m\u001b[0;34m,\u001b[0m \u001b[0mparam_grid\u001b[0m\u001b[0;34m,\u001b[0m \u001b[0mscoring\u001b[0m\u001b[0;34m=\u001b[0m\u001b[0;34m'accuracy'\u001b[0m\u001b[0;34m,\u001b[0m \u001b[0mcv\u001b[0m\u001b[0;34m=\u001b[0m\u001b[0;36m5\u001b[0m\u001b[0;34m,\u001b[0m \u001b[0mn_jobs\u001b[0m\u001b[0;34m=\u001b[0m\u001b[0;34m-\u001b[0m\u001b[0;36m1\u001b[0m\u001b[0;34m)\u001b[0m\u001b[0;34m\u001b[0m\u001b[0;34m\u001b[0m\u001b[0m\n\u001b[1;32m     10\u001b[0m \u001b[0;31m#training\u001b[0m\u001b[0;34m\u001b[0m\u001b[0;34m\u001b[0m\u001b[0;34m\u001b[0m\u001b[0m\n\u001b[0;32m---> 11\u001b[0;31m \u001b[0mknn_search\u001b[0m\u001b[0;34m.\u001b[0m\u001b[0mfit\u001b[0m\u001b[0;34m(\u001b[0m\u001b[0mX_train\u001b[0m\u001b[0;34m,\u001b[0m \u001b[0my_train\u001b[0m\u001b[0;34m)\u001b[0m\u001b[0;34m\u001b[0m\u001b[0;34m\u001b[0m\u001b[0m\n\u001b[0m\u001b[1;32m     12\u001b[0m \u001b[0mknn_search_results\u001b[0m \u001b[0;34m=\u001b[0m \u001b[0mpd\u001b[0m\u001b[0;34m.\u001b[0m\u001b[0mDataFrame\u001b[0m\u001b[0;34m(\u001b[0m\u001b[0mknn_search\u001b[0m\u001b[0;34m.\u001b[0m\u001b[0mcv_results_\u001b[0m\u001b[0;34m)\u001b[0m\u001b[0;34m\u001b[0m\u001b[0;34m\u001b[0m\u001b[0m\n\u001b[1;32m     13\u001b[0m knn_search_results = knn_search_results.sort_values(by='rank_test_score')[['rank_test_score',\n",
      "\u001b[0;32m/opt/anaconda3/lib/python3.8/site-packages/sklearn/utils/validation.py\u001b[0m in \u001b[0;36minner_f\u001b[0;34m(*args, **kwargs)\u001b[0m\n\u001b[1;32m     71\u001b[0m                           FutureWarning)\n\u001b[1;32m     72\u001b[0m         \u001b[0mkwargs\u001b[0m\u001b[0;34m.\u001b[0m\u001b[0mupdate\u001b[0m\u001b[0;34m(\u001b[0m\u001b[0;34m{\u001b[0m\u001b[0mk\u001b[0m\u001b[0;34m:\u001b[0m \u001b[0marg\u001b[0m \u001b[0;32mfor\u001b[0m \u001b[0mk\u001b[0m\u001b[0;34m,\u001b[0m \u001b[0marg\u001b[0m \u001b[0;32min\u001b[0m \u001b[0mzip\u001b[0m\u001b[0;34m(\u001b[0m\u001b[0msig\u001b[0m\u001b[0;34m.\u001b[0m\u001b[0mparameters\u001b[0m\u001b[0;34m,\u001b[0m \u001b[0margs\u001b[0m\u001b[0;34m)\u001b[0m\u001b[0;34m}\u001b[0m\u001b[0;34m)\u001b[0m\u001b[0;34m\u001b[0m\u001b[0;34m\u001b[0m\u001b[0m\n\u001b[0;32m---> 73\u001b[0;31m         \u001b[0;32mreturn\u001b[0m \u001b[0mf\u001b[0m\u001b[0;34m(\u001b[0m\u001b[0;34m**\u001b[0m\u001b[0mkwargs\u001b[0m\u001b[0;34m)\u001b[0m\u001b[0;34m\u001b[0m\u001b[0;34m\u001b[0m\u001b[0m\n\u001b[0m\u001b[1;32m     74\u001b[0m     \u001b[0;32mreturn\u001b[0m \u001b[0minner_f\u001b[0m\u001b[0;34m\u001b[0m\u001b[0;34m\u001b[0m\u001b[0m\n\u001b[1;32m     75\u001b[0m \u001b[0;34m\u001b[0m\u001b[0m\n",
      "\u001b[0;32m/opt/anaconda3/lib/python3.8/site-packages/sklearn/model_selection/_search.py\u001b[0m in \u001b[0;36mfit\u001b[0;34m(self, X, y, groups, **fit_params)\u001b[0m\n\u001b[1;32m    734\u001b[0m                 \u001b[0;32mreturn\u001b[0m \u001b[0mresults\u001b[0m\u001b[0;34m\u001b[0m\u001b[0;34m\u001b[0m\u001b[0m\n\u001b[1;32m    735\u001b[0m \u001b[0;34m\u001b[0m\u001b[0m\n\u001b[0;32m--> 736\u001b[0;31m             \u001b[0mself\u001b[0m\u001b[0;34m.\u001b[0m\u001b[0m_run_search\u001b[0m\u001b[0;34m(\u001b[0m\u001b[0mevaluate_candidates\u001b[0m\u001b[0;34m)\u001b[0m\u001b[0;34m\u001b[0m\u001b[0;34m\u001b[0m\u001b[0m\n\u001b[0m\u001b[1;32m    737\u001b[0m \u001b[0;34m\u001b[0m\u001b[0m\n\u001b[1;32m    738\u001b[0m         \u001b[0;31m# For multi-metric evaluation, store the best_index_, best_params_ and\u001b[0m\u001b[0;34m\u001b[0m\u001b[0;34m\u001b[0m\u001b[0;34m\u001b[0m\u001b[0m\n",
      "\u001b[0;32m/opt/anaconda3/lib/python3.8/site-packages/sklearn/model_selection/_search.py\u001b[0m in \u001b[0;36m_run_search\u001b[0;34m(self, evaluate_candidates)\u001b[0m\n\u001b[1;32m   1186\u001b[0m     \u001b[0;32mdef\u001b[0m \u001b[0m_run_search\u001b[0m\u001b[0;34m(\u001b[0m\u001b[0mself\u001b[0m\u001b[0;34m,\u001b[0m \u001b[0mevaluate_candidates\u001b[0m\u001b[0;34m)\u001b[0m\u001b[0;34m:\u001b[0m\u001b[0;34m\u001b[0m\u001b[0;34m\u001b[0m\u001b[0m\n\u001b[1;32m   1187\u001b[0m         \u001b[0;34m\"\"\"Search all candidates in param_grid\"\"\"\u001b[0m\u001b[0;34m\u001b[0m\u001b[0;34m\u001b[0m\u001b[0m\n\u001b[0;32m-> 1188\u001b[0;31m         \u001b[0mevaluate_candidates\u001b[0m\u001b[0;34m(\u001b[0m\u001b[0mParameterGrid\u001b[0m\u001b[0;34m(\u001b[0m\u001b[0mself\u001b[0m\u001b[0;34m.\u001b[0m\u001b[0mparam_grid\u001b[0m\u001b[0;34m)\u001b[0m\u001b[0;34m)\u001b[0m\u001b[0;34m\u001b[0m\u001b[0;34m\u001b[0m\u001b[0m\n\u001b[0m\u001b[1;32m   1189\u001b[0m \u001b[0;34m\u001b[0m\u001b[0m\n\u001b[1;32m   1190\u001b[0m \u001b[0;34m\u001b[0m\u001b[0m\n",
      "\u001b[0;32m/opt/anaconda3/lib/python3.8/site-packages/sklearn/model_selection/_search.py\u001b[0m in \u001b[0;36mevaluate_candidates\u001b[0;34m(candidate_params)\u001b[0m\n\u001b[1;32m    706\u001b[0m                               n_splits, n_candidates, n_candidates * n_splits))\n\u001b[1;32m    707\u001b[0m \u001b[0;34m\u001b[0m\u001b[0m\n\u001b[0;32m--> 708\u001b[0;31m                 out = parallel(delayed(_fit_and_score)(clone(base_estimator),\n\u001b[0m\u001b[1;32m    709\u001b[0m                                                        \u001b[0mX\u001b[0m\u001b[0;34m,\u001b[0m \u001b[0my\u001b[0m\u001b[0;34m,\u001b[0m\u001b[0;34m\u001b[0m\u001b[0;34m\u001b[0m\u001b[0m\n\u001b[1;32m    710\u001b[0m                                                        \u001b[0mtrain\u001b[0m\u001b[0;34m=\u001b[0m\u001b[0mtrain\u001b[0m\u001b[0;34m,\u001b[0m \u001b[0mtest\u001b[0m\u001b[0;34m=\u001b[0m\u001b[0mtest\u001b[0m\u001b[0;34m,\u001b[0m\u001b[0;34m\u001b[0m\u001b[0;34m\u001b[0m\u001b[0m\n",
      "\u001b[0;32m/opt/anaconda3/lib/python3.8/site-packages/joblib/parallel.py\u001b[0m in \u001b[0;36m__call__\u001b[0;34m(self, iterable)\u001b[0m\n\u001b[1;32m   1040\u001b[0m \u001b[0;34m\u001b[0m\u001b[0m\n\u001b[1;32m   1041\u001b[0m             \u001b[0;32mwith\u001b[0m \u001b[0mself\u001b[0m\u001b[0;34m.\u001b[0m\u001b[0m_backend\u001b[0m\u001b[0;34m.\u001b[0m\u001b[0mretrieval_context\u001b[0m\u001b[0;34m(\u001b[0m\u001b[0;34m)\u001b[0m\u001b[0;34m:\u001b[0m\u001b[0;34m\u001b[0m\u001b[0;34m\u001b[0m\u001b[0m\n\u001b[0;32m-> 1042\u001b[0;31m                 \u001b[0mself\u001b[0m\u001b[0;34m.\u001b[0m\u001b[0mretrieve\u001b[0m\u001b[0;34m(\u001b[0m\u001b[0;34m)\u001b[0m\u001b[0;34m\u001b[0m\u001b[0;34m\u001b[0m\u001b[0m\n\u001b[0m\u001b[1;32m   1043\u001b[0m             \u001b[0;31m# Make sure that we get a last message telling us we are done\u001b[0m\u001b[0;34m\u001b[0m\u001b[0;34m\u001b[0m\u001b[0;34m\u001b[0m\u001b[0m\n\u001b[1;32m   1044\u001b[0m             \u001b[0melapsed_time\u001b[0m \u001b[0;34m=\u001b[0m \u001b[0mtime\u001b[0m\u001b[0;34m.\u001b[0m\u001b[0mtime\u001b[0m\u001b[0;34m(\u001b[0m\u001b[0;34m)\u001b[0m \u001b[0;34m-\u001b[0m \u001b[0mself\u001b[0m\u001b[0;34m.\u001b[0m\u001b[0m_start_time\u001b[0m\u001b[0;34m\u001b[0m\u001b[0;34m\u001b[0m\u001b[0m\n",
      "\u001b[0;32m/opt/anaconda3/lib/python3.8/site-packages/joblib/parallel.py\u001b[0m in \u001b[0;36mretrieve\u001b[0;34m(self)\u001b[0m\n\u001b[1;32m    919\u001b[0m             \u001b[0;32mtry\u001b[0m\u001b[0;34m:\u001b[0m\u001b[0;34m\u001b[0m\u001b[0;34m\u001b[0m\u001b[0m\n\u001b[1;32m    920\u001b[0m                 \u001b[0;32mif\u001b[0m \u001b[0mgetattr\u001b[0m\u001b[0;34m(\u001b[0m\u001b[0mself\u001b[0m\u001b[0;34m.\u001b[0m\u001b[0m_backend\u001b[0m\u001b[0;34m,\u001b[0m \u001b[0;34m'supports_timeout'\u001b[0m\u001b[0;34m,\u001b[0m \u001b[0;32mFalse\u001b[0m\u001b[0;34m)\u001b[0m\u001b[0;34m:\u001b[0m\u001b[0;34m\u001b[0m\u001b[0;34m\u001b[0m\u001b[0m\n\u001b[0;32m--> 921\u001b[0;31m                     \u001b[0mself\u001b[0m\u001b[0;34m.\u001b[0m\u001b[0m_output\u001b[0m\u001b[0;34m.\u001b[0m\u001b[0mextend\u001b[0m\u001b[0;34m(\u001b[0m\u001b[0mjob\u001b[0m\u001b[0;34m.\u001b[0m\u001b[0mget\u001b[0m\u001b[0;34m(\u001b[0m\u001b[0mtimeout\u001b[0m\u001b[0;34m=\u001b[0m\u001b[0mself\u001b[0m\u001b[0;34m.\u001b[0m\u001b[0mtimeout\u001b[0m\u001b[0;34m)\u001b[0m\u001b[0;34m)\u001b[0m\u001b[0;34m\u001b[0m\u001b[0;34m\u001b[0m\u001b[0m\n\u001b[0m\u001b[1;32m    922\u001b[0m                 \u001b[0;32melse\u001b[0m\u001b[0;34m:\u001b[0m\u001b[0;34m\u001b[0m\u001b[0;34m\u001b[0m\u001b[0m\n\u001b[1;32m    923\u001b[0m                     \u001b[0mself\u001b[0m\u001b[0;34m.\u001b[0m\u001b[0m_output\u001b[0m\u001b[0;34m.\u001b[0m\u001b[0mextend\u001b[0m\u001b[0;34m(\u001b[0m\u001b[0mjob\u001b[0m\u001b[0;34m.\u001b[0m\u001b[0mget\u001b[0m\u001b[0;34m(\u001b[0m\u001b[0;34m)\u001b[0m\u001b[0;34m)\u001b[0m\u001b[0;34m\u001b[0m\u001b[0;34m\u001b[0m\u001b[0m\n",
      "\u001b[0;32m/opt/anaconda3/lib/python3.8/site-packages/joblib/_parallel_backends.py\u001b[0m in \u001b[0;36mwrap_future_result\u001b[0;34m(future, timeout)\u001b[0m\n\u001b[1;32m    540\u001b[0m         AsyncResults.get from multiprocessing.\"\"\"\n\u001b[1;32m    541\u001b[0m         \u001b[0;32mtry\u001b[0m\u001b[0;34m:\u001b[0m\u001b[0;34m\u001b[0m\u001b[0;34m\u001b[0m\u001b[0m\n\u001b[0;32m--> 542\u001b[0;31m             \u001b[0;32mreturn\u001b[0m \u001b[0mfuture\u001b[0m\u001b[0;34m.\u001b[0m\u001b[0mresult\u001b[0m\u001b[0;34m(\u001b[0m\u001b[0mtimeout\u001b[0m\u001b[0;34m=\u001b[0m\u001b[0mtimeout\u001b[0m\u001b[0;34m)\u001b[0m\u001b[0;34m\u001b[0m\u001b[0;34m\u001b[0m\u001b[0m\n\u001b[0m\u001b[1;32m    543\u001b[0m         \u001b[0;32mexcept\u001b[0m \u001b[0mCfTimeoutError\u001b[0m \u001b[0;32mas\u001b[0m \u001b[0me\u001b[0m\u001b[0;34m:\u001b[0m\u001b[0;34m\u001b[0m\u001b[0;34m\u001b[0m\u001b[0m\n\u001b[1;32m    544\u001b[0m             \u001b[0;32mraise\u001b[0m \u001b[0mTimeoutError\u001b[0m \u001b[0;32mfrom\u001b[0m \u001b[0me\u001b[0m\u001b[0;34m\u001b[0m\u001b[0;34m\u001b[0m\u001b[0m\n",
      "\u001b[0;32m/opt/anaconda3/lib/python3.8/concurrent/futures/_base.py\u001b[0m in \u001b[0;36mresult\u001b[0;34m(self, timeout)\u001b[0m\n\u001b[1;32m    437\u001b[0m                 \u001b[0;32mraise\u001b[0m \u001b[0mCancelledError\u001b[0m\u001b[0;34m(\u001b[0m\u001b[0;34m)\u001b[0m\u001b[0;34m\u001b[0m\u001b[0;34m\u001b[0m\u001b[0m\n\u001b[1;32m    438\u001b[0m             \u001b[0;32melif\u001b[0m \u001b[0mself\u001b[0m\u001b[0;34m.\u001b[0m\u001b[0m_state\u001b[0m \u001b[0;34m==\u001b[0m \u001b[0mFINISHED\u001b[0m\u001b[0;34m:\u001b[0m\u001b[0;34m\u001b[0m\u001b[0;34m\u001b[0m\u001b[0m\n\u001b[0;32m--> 439\u001b[0;31m                 \u001b[0;32mreturn\u001b[0m \u001b[0mself\u001b[0m\u001b[0;34m.\u001b[0m\u001b[0m__get_result\u001b[0m\u001b[0;34m(\u001b[0m\u001b[0;34m)\u001b[0m\u001b[0;34m\u001b[0m\u001b[0;34m\u001b[0m\u001b[0m\n\u001b[0m\u001b[1;32m    440\u001b[0m             \u001b[0;32melse\u001b[0m\u001b[0;34m:\u001b[0m\u001b[0;34m\u001b[0m\u001b[0;34m\u001b[0m\u001b[0m\n\u001b[1;32m    441\u001b[0m                 \u001b[0;32mraise\u001b[0m \u001b[0mTimeoutError\u001b[0m\u001b[0;34m(\u001b[0m\u001b[0;34m)\u001b[0m\u001b[0;34m\u001b[0m\u001b[0;34m\u001b[0m\u001b[0m\n",
      "\u001b[0;32m/opt/anaconda3/lib/python3.8/concurrent/futures/_base.py\u001b[0m in \u001b[0;36m__get_result\u001b[0;34m(self)\u001b[0m\n\u001b[1;32m    386\u001b[0m     \u001b[0;32mdef\u001b[0m \u001b[0m__get_result\u001b[0m\u001b[0;34m(\u001b[0m\u001b[0mself\u001b[0m\u001b[0;34m)\u001b[0m\u001b[0;34m:\u001b[0m\u001b[0;34m\u001b[0m\u001b[0;34m\u001b[0m\u001b[0m\n\u001b[1;32m    387\u001b[0m         \u001b[0;32mif\u001b[0m \u001b[0mself\u001b[0m\u001b[0;34m.\u001b[0m\u001b[0m_exception\u001b[0m\u001b[0;34m:\u001b[0m\u001b[0;34m\u001b[0m\u001b[0;34m\u001b[0m\u001b[0m\n\u001b[0;32m--> 388\u001b[0;31m             \u001b[0;32mraise\u001b[0m \u001b[0mself\u001b[0m\u001b[0;34m.\u001b[0m\u001b[0m_exception\u001b[0m\u001b[0;34m\u001b[0m\u001b[0;34m\u001b[0m\u001b[0m\n\u001b[0m\u001b[1;32m    389\u001b[0m         \u001b[0;32melse\u001b[0m\u001b[0;34m:\u001b[0m\u001b[0;34m\u001b[0m\u001b[0;34m\u001b[0m\u001b[0m\n\u001b[1;32m    390\u001b[0m             \u001b[0;32mreturn\u001b[0m \u001b[0mself\u001b[0m\u001b[0;34m.\u001b[0m\u001b[0m_result\u001b[0m\u001b[0;34m\u001b[0m\u001b[0;34m\u001b[0m\u001b[0m\n",
      "\u001b[0;31mWorkerInterrupt\u001b[0m: "
     ]
    }
   ],
   "source": [
    "pca = PCA()\n",
    "knn = KNeighborsClassifier()\n",
    "pipe = Pipeline(steps=[('pca', pca), ('knn', knn)])\n",
    "param_grid = {\n",
    "    'pca__n_components': [i for i in range(1,81)],\n",
    "    'knn__n_neighbors' : [i for i in range(1,81)],     \n",
    "}\n",
    "\n",
    "knn_search = GridSearchCV(pipe, param_grid, scoring='accuracy', cv=5, n_jobs=-1)\n",
    "#training\n",
    "knn_search.fit(X_train, y_train)\n",
    "knn_search_results = pd.DataFrame(knn_search.cv_results_)\n",
    "knn_search_results = knn_search_results.sort_values(by='rank_test_score')[['rank_test_score',\n",
    "                                                      'mean_test_score',\n",
    "                                                      'param_pca__n_components',\n",
    "                                                      'param_knn__n_neighbors']].head(5).set_index('rank_test_score')\n",
    "knn_search_results"
   ]
  },
  {
   "cell_type": "markdown",
   "metadata": {},
   "source": [
    "#### Testing"
   ]
  },
  {
   "cell_type": "code",
   "execution_count": 442,
   "metadata": {},
   "outputs": [
    {
     "data": {
      "text/html": [
       "<div>\n",
       "<style scoped>\n",
       "    .dataframe tbody tr th:only-of-type {\n",
       "        vertical-align: middle;\n",
       "    }\n",
       "\n",
       "    .dataframe tbody tr th {\n",
       "        vertical-align: top;\n",
       "    }\n",
       "\n",
       "    .dataframe thead th {\n",
       "        text-align: right;\n",
       "    }\n",
       "</style>\n",
       "<table border=\"1\" class=\"dataframe\">\n",
       "  <thead>\n",
       "    <tr style=\"text-align: right;\">\n",
       "      <th></th>\n",
       "      <th># of PC</th>\n",
       "      <th># of Neighbors</th>\n",
       "      <th>Accuracy</th>\n",
       "      <th>F1</th>\n",
       "      <th>Precision</th>\n",
       "      <th>Recall</th>\n",
       "      <th>AUC</th>\n",
       "    </tr>\n",
       "  </thead>\n",
       "  <tbody>\n",
       "    <tr>\n",
       "      <th>1</th>\n",
       "      <td>78</td>\n",
       "      <td>45</td>\n",
       "      <td>0.850000</td>\n",
       "      <td>0.823529</td>\n",
       "      <td>1.000000</td>\n",
       "      <td>0.700000</td>\n",
       "      <td>0.850000</td>\n",
       "    </tr>\n",
       "    <tr>\n",
       "      <th>0</th>\n",
       "      <td>80</td>\n",
       "      <td>48</td>\n",
       "      <td>0.833333</td>\n",
       "      <td>0.800000</td>\n",
       "      <td>1.000000</td>\n",
       "      <td>0.666667</td>\n",
       "      <td>0.833333</td>\n",
       "    </tr>\n",
       "    <tr>\n",
       "      <th>2</th>\n",
       "      <td>53</td>\n",
       "      <td>51</td>\n",
       "      <td>0.833333</td>\n",
       "      <td>0.807692</td>\n",
       "      <td>0.954545</td>\n",
       "      <td>0.700000</td>\n",
       "      <td>0.833333</td>\n",
       "    </tr>\n",
       "    <tr>\n",
       "      <th>3</th>\n",
       "      <td>64</td>\n",
       "      <td>48</td>\n",
       "      <td>0.833333</td>\n",
       "      <td>0.800000</td>\n",
       "      <td>1.000000</td>\n",
       "      <td>0.666667</td>\n",
       "      <td>0.833333</td>\n",
       "    </tr>\n",
       "    <tr>\n",
       "      <th>4</th>\n",
       "      <td>79</td>\n",
       "      <td>47</td>\n",
       "      <td>0.833333</td>\n",
       "      <td>0.800000</td>\n",
       "      <td>1.000000</td>\n",
       "      <td>0.666667</td>\n",
       "      <td>0.833333</td>\n",
       "    </tr>\n",
       "  </tbody>\n",
       "</table>\n",
       "</div>"
      ],
      "text/plain": [
       "   # of PC  # of Neighbors  Accuracy        F1  Precision    Recall       AUC\n",
       "1       78              45  0.850000  0.823529   1.000000  0.700000  0.850000\n",
       "0       80              48  0.833333  0.800000   1.000000  0.666667  0.833333\n",
       "2       53              51  0.833333  0.807692   0.954545  0.700000  0.833333\n",
       "3       64              48  0.833333  0.800000   1.000000  0.666667  0.833333\n",
       "4       79              47  0.833333  0.800000   1.000000  0.666667  0.833333"
      ]
     },
     "execution_count": 442,
     "metadata": {},
     "output_type": "execute_result"
    }
   ],
   "source": [
    "top_pca = list(knn_search_results['param_pca__n_components'])\n",
    "top_n_knn = list(knn_search_results['param_knn__n_neighbors'])\n",
    "accuracy, f1, precision, recall, auc = [], [], [], [], [] \n",
    "for i in range(5):\n",
    "    pca = PCA(n_components=top_pca[i])\n",
    "    knn = KNeighborsClassifier(n_neighbors=top_n_knn[i])\n",
    "    model = Pipeline(steps=[('pca', pca), ('knn', knn)])\n",
    "    model.fit(X_train, y_train)\n",
    "    results = model_eval(model, X_test, y_test)\n",
    "    accuracy.append(results['Accuracy'][0])\n",
    "    f1.append(results['F1'][0])\n",
    "    precision.append(results['Precision'][0])\n",
    "    recall.append(results['Recall'][0])\n",
    "    auc.append(results['AUC'][0])\n",
    "    \n",
    "testing_results = pd.DataFrame({'# of PC':top_pca, '# of Neighbors': top_n_knn, 'Accuracy':accuracy, \n",
    "                                'F1':f1,'Precision':precision, 'Recall':recall, 'AUC':auc })\n",
    "# knn_testing_log.append(list(testing_results.loc[0][:3]))\n",
    "testing_results = testing_results.sort_values(by=\"Accuracy\", ascending =False)\n",
    "testing_results"
   ]
  },
  {
   "cell_type": "code",
   "execution_count": 446,
   "metadata": {},
   "outputs": [
    {
     "data": {
      "text/plain": [
       "[80.0, 48.0, 0.8333333333333334]"
      ]
     },
     "execution_count": 446,
     "metadata": {},
     "output_type": "execute_result"
    }
   ],
   "source": [
    "list(testing_results.loc[0][:3])"
   ]
  },
  {
   "cell_type": "markdown",
   "metadata": {},
   "source": [
    "## Best Model"
   ]
  },
  {
   "cell_type": "code",
   "execution_count": 449,
   "metadata": {},
   "outputs": [
    {
     "data": {
      "text/plain": [
       "Text(0.5, 1.0, 'knn')"
      ]
     },
     "execution_count": 449,
     "metadata": {},
     "output_type": "execute_result"
    },
    {
     "data": {
      "image/png": "[encoded data removed]",
      "text/plain": [
       "<Figure size 432x288 with 2 Axes>"
      ]
     },
     "metadata": {
      "needs_background": "light"
     },
     "output_type": "display_data"
    }
   ],
   "source": [
    "pca = PCA(n_components=78)\n",
    "knn = KNeighborsClassifier(n_neighbors=45)\n",
    "knn_model = Pipeline(steps=[('pca', pca), ('knn', knn)])\n",
    "knn_model.fit(X_train,y_train)\n",
    "plot_confusion_matrix(knn_model, X_test, y_test, display_labels=['neutral','smile'])\n",
    "plt.title('knn')"
   ]
  },
  {
   "cell_type": "code",
   "execution_count": 444,
   "metadata": {},
   "outputs": [
    {
     "data": {
      "text/plain": [
       "[[80.0, 48.0, 0.8333333333333334]]"
      ]
     },
     "execution_count": 444,
     "metadata": {},
     "output_type": "execute_result"
    }
   ],
   "source": [
    "knn_testing_log"
   ]
  },
  {
   "cell_type": "code",
   "execution_count": 422,
   "metadata": {},
   "outputs": [
    {
     "data": {
      "text/plain": [
       "['./models/smile_knn_no_aug.pkl']"
      ]
     },
     "execution_count": 422,
     "metadata": {},
     "output_type": "execute_result"
    }
   ],
   "source": [
    "#save best knn model\n",
    "joblib.dump(knn_modelA, './models/smile_knn_no_aug.pkl')"
   ]
  },
  {
   "cell_type": "markdown",
   "metadata": {},
   "source": [
    "# Face Dataset with No Augmentation"
   ]
  },
  {
   "cell_type": "code",
   "execution_count": null,
   "metadata": {},
   "outputs": [],
   "source": [
    "X_train, y_train, X_test, y_test = make_dataset(raw_face, num_illum=0, split=.15)\n",
    "X_train = X_train/255\n",
    "X_test = X_test/255"
   ]
  },
  {
   "cell_type": "markdown",
   "metadata": {},
   "source": [
    "#### Bayes"
   ]
  },
  {
   "cell_type": "code",
   "execution_count": 472,
   "metadata": {},
   "outputs": [
    {
     "data": {
      "text/html": [
       "<div>\n",
       "<style scoped>\n",
       "    .dataframe tbody tr th:only-of-type {\n",
       "        vertical-align: middle;\n",
       "    }\n",
       "\n",
       "    .dataframe tbody tr th {\n",
       "        vertical-align: top;\n",
       "    }\n",
       "\n",
       "    .dataframe thead th {\n",
       "        text-align: right;\n",
       "    }\n",
       "</style>\n",
       "<table border=\"1\" class=\"dataframe\">\n",
       "  <thead>\n",
       "    <tr style=\"text-align: right;\">\n",
       "      <th></th>\n",
       "      <th># of PC</th>\n",
       "      <th>Accuracy</th>\n",
       "      <th>F1</th>\n",
       "      <th>Precision</th>\n",
       "      <th>Recall</th>\n",
       "      <th>AUC</th>\n",
       "    </tr>\n",
       "  </thead>\n",
       "  <tbody>\n",
       "    <tr>\n",
       "      <th>1</th>\n",
       "      <td>15</td>\n",
       "      <td>0.850000</td>\n",
       "      <td>0.836364</td>\n",
       "      <td>0.920000</td>\n",
       "      <td>0.766667</td>\n",
       "      <td>0.850000</td>\n",
       "    </tr>\n",
       "    <tr>\n",
       "      <th>0</th>\n",
       "      <td>16</td>\n",
       "      <td>0.833333</td>\n",
       "      <td>0.821429</td>\n",
       "      <td>0.884615</td>\n",
       "      <td>0.766667</td>\n",
       "      <td>0.833333</td>\n",
       "    </tr>\n",
       "    <tr>\n",
       "      <th>2</th>\n",
       "      <td>17</td>\n",
       "      <td>0.833333</td>\n",
       "      <td>0.821429</td>\n",
       "      <td>0.884615</td>\n",
       "      <td>0.766667</td>\n",
       "      <td>0.833333</td>\n",
       "    </tr>\n",
       "    <tr>\n",
       "      <th>3</th>\n",
       "      <td>14</td>\n",
       "      <td>0.816667</td>\n",
       "      <td>0.800000</td>\n",
       "      <td>0.880000</td>\n",
       "      <td>0.733333</td>\n",
       "      <td>0.816667</td>\n",
       "    </tr>\n",
       "    <tr>\n",
       "      <th>4</th>\n",
       "      <td>13</td>\n",
       "      <td>0.816667</td>\n",
       "      <td>0.800000</td>\n",
       "      <td>0.880000</td>\n",
       "      <td>0.733333</td>\n",
       "      <td>0.816667</td>\n",
       "    </tr>\n",
       "  </tbody>\n",
       "</table>\n",
       "</div>"
      ],
      "text/plain": [
       "   # of PC  Accuracy        F1  Precision    Recall       AUC\n",
       "1       15  0.850000  0.836364   0.920000  0.766667  0.850000\n",
       "0       16  0.833333  0.821429   0.884615  0.766667  0.833333\n",
       "2       17  0.833333  0.821429   0.884615  0.766667  0.833333\n",
       "3       14  0.816667  0.800000   0.880000  0.733333  0.816667\n",
       "4       13  0.816667  0.800000   0.880000  0.733333  0.816667"
      ]
     },
     "execution_count": 472,
     "metadata": {},
     "output_type": "execute_result"
    }
   ],
   "source": [
    "#Gaussian Bayes pipeline components\n",
    "scaler = StandardScaler()\n",
    "pca = PCA()\n",
    "gnb = GaussianNB()\n",
    "#Parameter grid for grid search below\n",
    "param_grid = {\n",
    "    'pca__n_components': [i for i in range(1,40)]\n",
    "}\n",
    "pipe = Pipeline(steps=[('pca', pca), ('bayes', gnb)])\n",
    "cv = RepeatedStratifiedKFold(n_splits=5, n_repeats=2, random_state=1)\n",
    "bayes_search = GridSearchCV(pipe, param_grid, scoring='accuracy', n_jobs=-1, cv=5)\n",
    "bayes_search.fit(X_train, y_train)\n",
    "\n",
    "bayes_search_results = pd.DataFrame(bayes_search.cv_results_).sort_values(by='rank_test_score')[['rank_test_score',\n",
    "                                                        'mean_test_score',\n",
    "                                                        'std_test_score',\n",
    "                                                        'param_pca__n_components']].head(5).set_index('rank_test_score')\n",
    "\n",
    "top_pca = list(bayes_search_results['param_pca__n_components'])\n",
    "accuracy, f1, precision, recall, auc = [], [], [], [], [] \n",
    "for i in range(5):\n",
    "    pca = PCA(n_components=top_pca[i])\n",
    "    model = Pipeline(steps=[('pca', pca), ('bayes', gnb)])\n",
    "    model.fit(X_train, y_train)\n",
    "    results = model_eval(model, X_test, y_test)\n",
    "    accuracy.append(results['Accuracy'][0])\n",
    "    f1.append(results['F1'][0])\n",
    "    precision.append(results['Precision'][0])\n",
    "    recall.append(results['Recall'][0])\n",
    "    auc.append(results['AUC'][0])\n",
    "    \n",
    "testing_results = pd.DataFrame({'# of PC':top_pca, 'Accuracy':accuracy, \n",
    "                                'F1':f1,'Precision':precision, 'Recall':recall, 'AUC':auc})\n",
    "testing_results = testing_results.sort_values(by=\"AUC\", ascending =False)\n",
    "# bayes_testing_log.append((list(testing_results.loc[0][:2]),'no augmented data'))\n",
    "testing_results"
   ]
  },
  {
   "cell_type": "code",
   "execution_count": null,
   "metadata": {},
   "outputs": [],
   "source": [
    "pca = PCA(n_components=20)\n",
    "bayes_pipe = Pipeline(steps=[('pca', pcaB), ('bayes', gnb)])\n",
    "bayes_pipe.fit(X_train, y_train)\n",
    "#save best knn model\n",
    "joblib.dump(bayes_pipe, './models/smile_bayes.pkl')"
   ]
  },
  {
   "cell_type": "markdown",
   "metadata": {},
   "source": [
    "#### KNN"
   ]
  },
  {
   "cell_type": "code",
   "execution_count": null,
   "metadata": {},
   "outputs": [],
   "source": [
    "pca = PCA()\n",
    "knn = KNeighborsClassifier()\n",
    "pipe = Pipeline(steps=[('pca', pca), ('knn', knn)])\n",
    "param_grid = {\n",
    "    'pca__n_components': [i for i in range(1,81)],\n",
    "    'knn__n_neighbors' : [i for i in range(1,81)],     \n",
    "}\n",
    "\n",
    "knn_search = GridSearchCV(pipe, param_grid, scoring='accuracy', cv=5, n_jobs=-1)\n",
    "#training\n",
    "knn_search.fit(X_train, y_train)\n",
    "knn_search_results = pd.DataFrame(knn_search.cv_results_)\n",
    "knn_search_results = knn_search_results.sort_values(by='rank_test_score')[['rank_test_score',\n",
    "                                                      'mean_test_score',\n",
    "                                                      'param_pca__n_components',\n",
    "                                                      'param_knn__n_neighbors']].head(5).set_index('rank_test_score')\n",
    "\n",
    "top_pca = list(knn_search_results['param_pca__n_components'])\n",
    "top_n_knn = list(knn_search_results['param_knn__n_neighbors'])\n",
    "accuracy, f1, precision, recall, auc = [], [], [], [], [] \n",
    "for i in range(5):\n",
    "    pca = PCA(n_components=top_pca[i])\n",
    "    knn = KNeighborsClassifier(n_neighbors=top_n_knn[i])\n",
    "    model = Pipeline(steps=[('pca', pca), ('knn', knn)])\n",
    "    model.fit(X_train, y_train)\n",
    "    results = model_eval(model, X_test, y_test)\n",
    "    accuracy.append(results['Accuracy'][0])\n",
    "    f1.append(results['F1'][0])\n",
    "    precision.append(results['Precision'][0])\n",
    "    recall.append(results['Recall'][0])\n",
    "    auc.append(results['AUC'][0])\n",
    "    \n",
    "testing_results = pd.DataFrame({'# of PC':top_pca, '# of Neighbors': top_n_knn, 'Accuracy':accuracy, \n",
    "                                'F1':f1,'Precision':precision, 'Recall':recall, 'AUC':auc })\n",
    "# knn_testing_log.append(list(testing_results.loc[0][:3]))\n",
    "testing_results = testing_results.sort_values(by=\"Accuracy\", ascending =False)\n",
    "testing_results"
   ]
  },
  {
   "cell_type": "code",
   "execution_count": null,
   "metadata": {},
   "outputs": [],
   "source": [
    "pca = PCA(n_components=26)\n",
    "knn = KNeighborsClassifier(n_neighbors=45)\n",
    "knn_model = Pipeline(steps=[('pca', pca), ('knn', knn)])\n",
    "knn_model.fit(X_train,y_train)\n",
    "plot_confusion_matrix(knn_model, X_test, y_test, display_labels=['neutral','smile'])\n",
    "plt.title('knn')"
   ]
  },
  {
   "cell_type": "code",
   "execution_count": null,
   "metadata": {},
   "outputs": [],
   "source": [
    "#save best knn model\n",
    "joblib.dump(knn_model, './models/smile_knn.pkl')"
   ]
  },
  {
   "cell_type": "markdown",
   "metadata": {},
   "source": [
    "# Original Data With 100 Augmented Samples Added"
   ]
  },
  {
   "cell_type": "code",
   "execution_count": 474,
   "metadata": {},
   "outputs": [
    {
     "name": "stdout",
     "output_type": "stream",
     "text": [
      "(440, 504) (440,) (60, 504) (60,)\n"
     ]
    }
   ],
   "source": [
    "X_train, y_train, X_test, y_test = make_dataset(raw_face, num_illum=100, split=.15)\n",
    "X_train = X_train/255\n",
    "X_test = X_test/255"
   ]
  },
  {
   "cell_type": "markdown",
   "metadata": {},
   "source": [
    "#### Bayes"
   ]
  },
  {
   "cell_type": "code",
   "execution_count": 455,
   "metadata": {},
   "outputs": [
    {
     "data": {
      "text/html": [
       "<div>\n",
       "<style scoped>\n",
       "    .dataframe tbody tr th:only-of-type {\n",
       "        vertical-align: middle;\n",
       "    }\n",
       "\n",
       "    .dataframe tbody tr th {\n",
       "        vertical-align: top;\n",
       "    }\n",
       "\n",
       "    .dataframe thead th {\n",
       "        text-align: right;\n",
       "    }\n",
       "</style>\n",
       "<table border=\"1\" class=\"dataframe\">\n",
       "  <thead>\n",
       "    <tr style=\"text-align: right;\">\n",
       "      <th></th>\n",
       "      <th># of PC</th>\n",
       "      <th>Accuracy</th>\n",
       "      <th>F1</th>\n",
       "      <th>Precision</th>\n",
       "      <th>Recall</th>\n",
       "      <th>AUC</th>\n",
       "    </tr>\n",
       "  </thead>\n",
       "  <tbody>\n",
       "    <tr>\n",
       "      <th>1</th>\n",
       "      <td>20</td>\n",
       "      <td>0.816667</td>\n",
       "      <td>0.813559</td>\n",
       "      <td>0.827586</td>\n",
       "      <td>0.800000</td>\n",
       "      <td>0.816667</td>\n",
       "    </tr>\n",
       "    <tr>\n",
       "      <th>4</th>\n",
       "      <td>18</td>\n",
       "      <td>0.816667</td>\n",
       "      <td>0.813559</td>\n",
       "      <td>0.827586</td>\n",
       "      <td>0.800000</td>\n",
       "      <td>0.816667</td>\n",
       "    </tr>\n",
       "    <tr>\n",
       "      <th>0</th>\n",
       "      <td>12</td>\n",
       "      <td>0.800000</td>\n",
       "      <td>0.785714</td>\n",
       "      <td>0.846154</td>\n",
       "      <td>0.733333</td>\n",
       "      <td>0.800000</td>\n",
       "    </tr>\n",
       "    <tr>\n",
       "      <th>2</th>\n",
       "      <td>21</td>\n",
       "      <td>0.800000</td>\n",
       "      <td>0.800000</td>\n",
       "      <td>0.800000</td>\n",
       "      <td>0.800000</td>\n",
       "      <td>0.800000</td>\n",
       "    </tr>\n",
       "    <tr>\n",
       "      <th>3</th>\n",
       "      <td>19</td>\n",
       "      <td>0.800000</td>\n",
       "      <td>0.800000</td>\n",
       "      <td>0.800000</td>\n",
       "      <td>0.800000</td>\n",
       "      <td>0.800000</td>\n",
       "    </tr>\n",
       "  </tbody>\n",
       "</table>\n",
       "</div>"
      ],
      "text/plain": [
       "   # of PC  Accuracy        F1  Precision    Recall       AUC\n",
       "1       20  0.816667  0.813559   0.827586  0.800000  0.816667\n",
       "4       18  0.816667  0.813559   0.827586  0.800000  0.816667\n",
       "0       12  0.800000  0.785714   0.846154  0.733333  0.800000\n",
       "2       21  0.800000  0.800000   0.800000  0.800000  0.800000\n",
       "3       19  0.800000  0.800000   0.800000  0.800000  0.800000"
      ]
     },
     "execution_count": 455,
     "metadata": {},
     "output_type": "execute_result"
    }
   ],
   "source": [
    "#Gaussian Bayes pipeline components\n",
    "scaler = StandardScaler()\n",
    "pca = PCA()\n",
    "gnb = GaussianNB()\n",
    "#Parameter grid for grid search below\n",
    "param_grid = {\n",
    "    'pca__n_components': [i for i in range(1,40)]\n",
    "}\n",
    "pipe = Pipeline(steps=[('pca', pca), ('bayes', gnb)])\n",
    "cv = RepeatedStratifiedKFold(n_splits=5, n_repeats=2, random_state=1)\n",
    "bayes_search = GridSearchCV(pipe, param_grid, scoring='accuracy', n_jobs=-1, cv=5)\n",
    "bayes_search.fit(X_train, y_train)\n",
    "\n",
    "bayes_search_results = pd.DataFrame(bayes_search.cv_results_).sort_values(by='rank_test_score')[['rank_test_score',\n",
    "                                                        'mean_test_score',\n",
    "                                                        'std_test_score',\n",
    "                                                        'param_pca__n_components']].head(5).set_index('rank_test_score')\n",
    "\n",
    "top_pca = list(bayes_search_results['param_pca__n_components'])\n",
    "accuracy, f1, precision, recall, auc = [], [], [], [], [] \n",
    "for i in range(5):\n",
    "    pca = PCA(n_components=top_pca[i])\n",
    "    model = Pipeline(steps=[('pca', pca), ('bayes', gnb)])\n",
    "    model.fit(X_train, y_train)\n",
    "    results = model_eval(model, X_test, y_test)\n",
    "    accuracy.append(results['Accuracy'][0])\n",
    "    f1.append(results['F1'][0])\n",
    "    precision.append(results['Precision'][0])\n",
    "    recall.append(results['Recall'][0])\n",
    "    auc.append(results['AUC'][0])\n",
    "    \n",
    "testing_results = pd.DataFrame({'# of PC':top_pca, 'Accuracy':accuracy, \n",
    "                                'F1':f1,'Precision':precision, 'Recall':recall, 'AUC':auc})\n",
    "testing_results = testing_results.sort_values(by=\"AUC\", ascending =False)\n",
    "# bayes_testing_log.append((list(testing_results.loc[0][:2]),'no augmented data'))\n",
    "testing_results"
   ]
  },
  {
   "cell_type": "code",
   "execution_count": 456,
   "metadata": {},
   "outputs": [
    {
     "data": {
      "image/png": "[encoded data removed]",
      "text/plain": [
       "<Figure size 432x288 with 2 Axes>"
      ]
     },
     "metadata": {
      "needs_background": "light"
     },
     "output_type": "display_data"
    }
   ],
   "source": [
    "pca = PCA(n_components=20)\n",
    "bayes_pipe = Pipeline(steps=[('pca', pcaB), ('bayes', gnb)])\n",
    "bayes_pipe.fit(X_train, y_train)\n",
    "plot_confusion_matrix(bayes_pipe, X_test, y_test, display_labels=['neutral','smile'])\n",
    "plt.title('Bayes Model')\n",
    "plt.show()"
   ]
  },
  {
   "cell_type": "code",
   "execution_count": null,
   "metadata": {},
   "outputs": [],
   "source": [
    "#save best bayes model\n",
    "joblib.dump(bayes_pipe, './models/smile_bayes.pkl')"
   ]
  },
  {
   "cell_type": "markdown",
   "metadata": {},
   "source": [
    "#### KNN"
   ]
  },
  {
   "cell_type": "code",
   "execution_count": 453,
   "metadata": {},
   "outputs": [
    {
     "data": {
      "text/html": [
       "<div>\n",
       "<style scoped>\n",
       "    .dataframe tbody tr th:only-of-type {\n",
       "        vertical-align: middle;\n",
       "    }\n",
       "\n",
       "    .dataframe tbody tr th {\n",
       "        vertical-align: top;\n",
       "    }\n",
       "\n",
       "    .dataframe thead th {\n",
       "        text-align: right;\n",
       "    }\n",
       "</style>\n",
       "<table border=\"1\" class=\"dataframe\">\n",
       "  <thead>\n",
       "    <tr style=\"text-align: right;\">\n",
       "      <th></th>\n",
       "      <th># of PC</th>\n",
       "      <th># of Neighbors</th>\n",
       "      <th>Accuracy</th>\n",
       "      <th>F1</th>\n",
       "      <th>Precision</th>\n",
       "      <th>Recall</th>\n",
       "      <th>AUC</th>\n",
       "    </tr>\n",
       "  </thead>\n",
       "  <tbody>\n",
       "    <tr>\n",
       "      <th>0</th>\n",
       "      <td>26</td>\n",
       "      <td>45</td>\n",
       "      <td>0.900000</td>\n",
       "      <td>0.892857</td>\n",
       "      <td>0.961538</td>\n",
       "      <td>0.833333</td>\n",
       "      <td>0.900000</td>\n",
       "    </tr>\n",
       "    <tr>\n",
       "      <th>1</th>\n",
       "      <td>29</td>\n",
       "      <td>43</td>\n",
       "      <td>0.900000</td>\n",
       "      <td>0.892857</td>\n",
       "      <td>0.961538</td>\n",
       "      <td>0.833333</td>\n",
       "      <td>0.900000</td>\n",
       "    </tr>\n",
       "    <tr>\n",
       "      <th>2</th>\n",
       "      <td>27</td>\n",
       "      <td>45</td>\n",
       "      <td>0.900000</td>\n",
       "      <td>0.892857</td>\n",
       "      <td>0.961538</td>\n",
       "      <td>0.833333</td>\n",
       "      <td>0.900000</td>\n",
       "    </tr>\n",
       "    <tr>\n",
       "      <th>3</th>\n",
       "      <td>25</td>\n",
       "      <td>39</td>\n",
       "      <td>0.866667</td>\n",
       "      <td>0.857143</td>\n",
       "      <td>0.923077</td>\n",
       "      <td>0.800000</td>\n",
       "      <td>0.866667</td>\n",
       "    </tr>\n",
       "    <tr>\n",
       "      <th>4</th>\n",
       "      <td>57</td>\n",
       "      <td>35</td>\n",
       "      <td>0.850000</td>\n",
       "      <td>0.836364</td>\n",
       "      <td>0.920000</td>\n",
       "      <td>0.766667</td>\n",
       "      <td>0.850000</td>\n",
       "    </tr>\n",
       "  </tbody>\n",
       "</table>\n",
       "</div>"
      ],
      "text/plain": [
       "   # of PC  # of Neighbors  Accuracy        F1  Precision    Recall       AUC\n",
       "0       26              45  0.900000  0.892857   0.961538  0.833333  0.900000\n",
       "1       29              43  0.900000  0.892857   0.961538  0.833333  0.900000\n",
       "2       27              45  0.900000  0.892857   0.961538  0.833333  0.900000\n",
       "3       25              39  0.866667  0.857143   0.923077  0.800000  0.866667\n",
       "4       57              35  0.850000  0.836364   0.920000  0.766667  0.850000"
      ]
     },
     "execution_count": 453,
     "metadata": {},
     "output_type": "execute_result"
    }
   ],
   "source": [
    "pca = PCA()\n",
    "knn = KNeighborsClassifier()\n",
    "pipe = Pipeline(steps=[('pca', pca), ('knn', knn)])\n",
    "param_grid = {\n",
    "    'pca__n_components': [i for i in range(1,81)],\n",
    "    'knn__n_neighbors' : [i for i in range(1,81)],     \n",
    "}\n",
    "\n",
    "knn_search = GridSearchCV(pipe, param_grid, scoring='accuracy', cv=5, n_jobs=-1)\n",
    "#training\n",
    "knn_search.fit(X_train, y_train)\n",
    "knn_search_results = pd.DataFrame(knn_search.cv_results_)\n",
    "knn_search_results = knn_search_results.sort_values(by='rank_test_score')[['rank_test_score',\n",
    "                                                      'mean_test_score',\n",
    "                                                      'param_pca__n_components',\n",
    "                                                      'param_knn__n_neighbors']].head(5).set_index('rank_test_score')\n",
    "\n",
    "top_pca = list(knn_search_results['param_pca__n_components'])\n",
    "top_n_knn = list(knn_search_results['param_knn__n_neighbors'])\n",
    "accuracy, f1, precision, recall, auc = [], [], [], [], [] \n",
    "for i in range(5):\n",
    "    pca = PCA(n_components=top_pca[i])\n",
    "    knn = KNeighborsClassifier(n_neighbors=top_n_knn[i])\n",
    "    model = Pipeline(steps=[('pca', pca), ('knn', knn)])\n",
    "    model.fit(X_train, y_train)\n",
    "    results = model_eval(model, X_test, y_test)\n",
    "    accuracy.append(results['Accuracy'][0])\n",
    "    f1.append(results['F1'][0])\n",
    "    precision.append(results['Precision'][0])\n",
    "    recall.append(results['Recall'][0])\n",
    "    auc.append(results['AUC'][0])\n",
    "    \n",
    "testing_results = pd.DataFrame({'# of PC':top_pca, '# of Neighbors': top_n_knn, 'Accuracy':accuracy, \n",
    "                                'F1':f1,'Precision':precision, 'Recall':recall, 'AUC':auc })\n",
    "# knn_testing_log.append(list(testing_results.loc[0][:3]))\n",
    "testing_results = testing_results.sort_values(by=\"Accuracy\", ascending =False)\n",
    "testing_results"
   ]
  },
  {
   "cell_type": "code",
   "execution_count": 458,
   "metadata": {},
   "outputs": [
    {
     "data": {
      "text/plain": [
       "Text(0.5, 1.0, 'knn')"
      ]
     },
     "execution_count": 458,
     "metadata": {},
     "output_type": "execute_result"
    },
    {
     "data": {
      "image/png": "[encoded data removed]",
      "text/plain": [
       "<Figure size 432x288 with 2 Axes>"
      ]
     },
     "metadata": {
      "needs_background": "light"
     },
     "output_type": "display_data"
    }
   ],
   "source": [
    "pca = PCA(n_components=26)\n",
    "knn = KNeighborsClassifier(n_neighbors=45)\n",
    "knn_model = Pipeline(steps=[('pca', pca), ('knn', knn)])\n",
    "knn_model.fit(X_train,y_train)\n",
    "plot_confusion_matrix(knn_model, X_test, y_test, display_labels=['neutral','smile'])\n",
    "plt.title('knn')"
   ]
  },
  {
   "cell_type": "code",
   "execution_count": 457,
   "metadata": {},
   "outputs": [
    {
     "data": {
      "text/plain": [
       "['./models/smile_knn_aug50.pkl']"
      ]
     },
     "execution_count": 457,
     "metadata": {},
     "output_type": "execute_result"
    }
   ],
   "source": [
    "#save best knn model\n",
    "joblib.dump(knn_model, './models/smile_knn_aug100.pkl')"
   ]
  },
  {
   "cell_type": "markdown",
   "metadata": {},
   "source": [
    "# Original Data with 200 Augmented Samples Added"
   ]
  },
  {
   "cell_type": "code",
   "execution_count": 475,
   "metadata": {},
   "outputs": [
    {
     "name": "stdout",
     "output_type": "stream",
     "text": [
      "(440, 504) (440,) (60, 504) (60,)\n"
     ]
    }
   ],
   "source": [
    "X_train, y_train, X_test, y_test = make_dataset(raw_face, num_illum=100, split=.15)\n",
    "X_train = X_train/255\n",
    "X_test = X_test/255"
   ]
  },
  {
   "cell_type": "markdown",
   "metadata": {},
   "source": [
    "#### Bayes"
   ]
  },
  {
   "cell_type": "code",
   "execution_count": null,
   "metadata": {},
   "outputs": [],
   "source": [
    "#Gaussian Bayes pipeline components\n",
    "scaler = StandardScaler()\n",
    "pca = PCA()\n",
    "gnb = GaussianNB()\n",
    "#Parameter grid for grid search below\n",
    "param_grid = {\n",
    "    'pca__n_components': [i for i in range(1,40)]\n",
    "}\n",
    "pipe = Pipeline(steps=[('pca', pca), ('bayes', gnb)])\n",
    "cv = RepeatedStratifiedKFold(n_splits=5, n_repeats=2, random_state=1)\n",
    "bayes_search = GridSearchCV(pipe, param_grid, scoring='accuracy', n_jobs=-1, cv=5)\n",
    "bayes_search.fit(X_train, y_train)\n",
    "\n",
    "bayes_search_results = pd.DataFrame(bayes_search.cv_results_).sort_values(by='rank_test_score')[['rank_test_score',\n",
    "                                                        'mean_test_score',\n",
    "                                                        'std_test_score',\n",
    "                                                        'param_pca__n_components']].head(5).set_index('rank_test_score')\n",
    "\n",
    "top_pca = list(bayes_search_results['param_pca__n_components'])\n",
    "accuracy, f1, precision, recall, auc = [], [], [], [], [] \n",
    "for i in range(5):\n",
    "    pca = PCA(n_components=top_pca[i])\n",
    "    model = Pipeline(steps=[('pca', pca), ('bayes', gnb)])\n",
    "    model.fit(X_train, y_train)\n",
    "    results = model_eval(model, X_test, y_test)\n",
    "    accuracy.append(results['Accuracy'][0])\n",
    "    f1.append(results['F1'][0])\n",
    "    precision.append(results['Precision'][0])\n",
    "    recall.append(results['Recall'][0])\n",
    "    auc.append(results['AUC'][0])\n",
    "    \n",
    "testing_results = pd.DataFrame({'# of PC':top_pca, 'Accuracy':accuracy, \n",
    "                                'F1':f1,'Precision':precision, 'Recall':recall, 'AUC':auc})\n",
    "testing_results = testing_results.sort_values(by=\"AUC\", ascending =False)\n",
    "# bayes_testing_log.append((list(testing_results.loc[0][:2]),'no augmented data'))\n",
    "testing_results"
   ]
  },
  {
   "cell_type": "code",
   "execution_count": null,
   "metadata": {},
   "outputs": [],
   "source": [
    "pca = PCA(n_components=20)\n",
    "bayes_pipe = Pipeline(steps=[('pca', pcaB), ('bayes', gnb)])\n",
    "bayes_pipe.fit(X_train, y_train)\n",
    "plot_confusion_matrix(bayes_pipe, X_test, y_test, display_labels=['neutral','smile'])\n",
    "plt.title('Bayes Model')\n",
    "plt.show()"
   ]
  },
  {
   "cell_type": "code",
   "execution_count": null,
   "metadata": {},
   "outputs": [],
   "source": [
    "#save best bayes model\n",
    "joblib.dump(bayes_pipe, './models/smile_bayes.pkl')"
   ]
  },
  {
   "cell_type": "markdown",
   "metadata": {},
   "source": [
    "#### KNN"
   ]
  },
  {
   "cell_type": "code",
   "execution_count": null,
   "metadata": {},
   "outputs": [],
   "source": [
    "pca = PCA()\n",
    "knn = KNeighborsClassifier()\n",
    "pipe = Pipeline(steps=[('pca', pca), ('knn', knn)])\n",
    "param_grid = {\n",
    "    'pca__n_components': [i for i in range(1,81)],\n",
    "    'knn__n_neighbors' : [i for i in range(1,81)],     \n",
    "}\n",
    "\n",
    "knn_search = GridSearchCV(pipe, param_grid, scoring='accuracy', cv=5, n_jobs=-1)\n",
    "#training\n",
    "knn_search.fit(X_train, y_train)\n",
    "knn_search_results = pd.DataFrame(knn_search.cv_results_)\n",
    "knn_search_results = knn_search_results.sort_values(by='rank_test_score')[['rank_test_score',\n",
    "                                                      'mean_test_score',\n",
    "                                                      'param_pca__n_components',\n",
    "                                                      'param_knn__n_neighbors']].head(5).set_index('rank_test_score')\n",
    "\n",
    "top_pca = list(knn_search_results['param_pca__n_components'])\n",
    "top_n_knn = list(knn_search_results['param_knn__n_neighbors'])\n",
    "accuracy, f1, precision, recall, auc = [], [], [], [], [] \n",
    "for i in range(5):\n",
    "    pca = PCA(n_components=top_pca[i])\n",
    "    knn = KNeighborsClassifier(n_neighbors=top_n_knn[i])\n",
    "    model = Pipeline(steps=[('pca', pca), ('knn', knn)])\n",
    "    model.fit(X_train, y_train)\n",
    "    results = model_eval(model, X_test, y_test)\n",
    "    accuracy.append(results['Accuracy'][0])\n",
    "    f1.append(results['F1'][0])\n",
    "    precision.append(results['Precision'][0])\n",
    "    recall.append(results['Recall'][0])\n",
    "    auc.append(results['AUC'][0])\n",
    "    \n",
    "testing_results = pd.DataFrame({'# of PC':top_pca, '# of Neighbors': top_n_knn, 'Accuracy':accuracy, \n",
    "                                'F1':f1,'Precision':precision, 'Recall':recall, 'AUC':auc })\n",
    "# knn_testing_log.append(list(testing_results.loc[0][:3]))\n",
    "testing_results = testing_results.sort_values(by=\"Accuracy\", ascending =False)\n",
    "testing_results"
   ]
  },
  {
   "cell_type": "code",
   "execution_count": null,
   "metadata": {},
   "outputs": [],
   "source": [
    "pca = PCA(n_components=26)\n",
    "knn = KNeighborsClassifier(n_neighbors=45)\n",
    "knn_model = Pipeline(steps=[('pca', pca), ('knn', knn)])\n",
    "knn_model.fit(X_train,y_train)\n",
    "plot_confusion_matrix(knn_model, X_test, y_test, display_labels=['neutral','smile'])\n",
    "plt.title('KNN')"
   ]
  },
  {
   "cell_type": "code",
   "execution_count": null,
   "metadata": {},
   "outputs": [],
   "source": [
    "#save best knn model\n",
    "joblib.dump(knn_model, './models/smile_knn_aug200.pkl')"
   ]
  },
  {
   "cell_type": "code",
   "execution_count": null,
   "metadata": {},
   "outputs": [],
   "source": []
  }
 ],
 "metadata": {
  "kernelspec": {
   "display_name": "Python 3",
   "language": "python",
   "name": "python3"
  },
  "language_info": {
   "codemirror_mode": {
    "name": "ipython",
    "version": 3
   },
   "file_extension": ".py",
   "mimetype": "text/x-python",
   "name": "python",
   "nbconvert_exporter": "python",
   "pygments_lexer": "ipython3",
   "version": "3.8.3"
  }
 },
 "nbformat": 4,
 "nbformat_minor": 4
}
