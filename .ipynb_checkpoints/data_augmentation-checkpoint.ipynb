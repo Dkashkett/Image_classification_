{
 "cells": [
  {
   "cell_type": "code",
   "execution_count": 184,
   "metadata": {},
   "outputs": [],
   "source": [
    "import matplotlib.pyplot as plt\n",
    "import numpy as np \n",
    "from scipy.io import loadmat\n",
    "import pandas as pd\n",
    "from mpl_toolkits.axes_grid1 import ImageGrid\n",
    "from sklearn.pipeline import Pipeline\n",
    "from sklearn.decomposition import PCA\n",
    "from sklearn.naive_bayes import GaussianNB\n",
    "from sklearn.metrics import accuracy_score,recall_score,precision_score,f1_score, confusion_matrix\n",
    "from sklearn.model_selection import RepeatedStratifiedKFold, GridSearchCV, train_test_split\n",
    "from sklearn.neighbors import KNeighborsClassifier\n",
    "import seaborn as sns\n",
    "from keras.preprocessing.image import ImageDataGenerator"
   ]
  },
  {
   "cell_type": "code",
   "execution_count": 185,
   "metadata": {},
   "outputs": [],
   "source": [
    "#load data chunks and converts to numpy arrays\n",
    "def load_data_chunks():\n",
    "    raw_face = np.array(loadmat('./data/data.mat')['face'])\n",
    "    raw_pose = np.array(loadmat('./data/pose.mat')['pose'])\n",
    "    raw_illum = np.array(loadmat('./data/illumination.mat')['illum'])\n",
    "    return raw_face, (raw_pose, raw_illum)\n",
    "raw_face, raw_pose = load_data_chunks()"
   ]
  },
  {
   "cell_type": "code",
   "execution_count": 247,
   "metadata": {},
   "outputs": [],
   "source": [
    "def make_augmented_smile(raw_face):\n",
    "    smile = raw_face[:,:,1::3]\n",
    "    smile = np.array(np.dsplit(smile,smile.shape[-1])).reshape((200,24,21))\n",
    "    data = []\n",
    "#     labels = []\n",
    "\n",
    "    data_to_augment = smile.reshape((200,24,21,1))\n",
    "    brightness_gen = ImageDataGenerator(brightness_range=[0.2,1.0])\n",
    "    zoom_gen = ImageDataGenerator(zoom_range=[0.5,1.0])\n",
    "    rotation_gen = ImageDataGenerator(rotation_range=90)\n",
    "    \n",
    "    bright_it = brightness_gen.flow(data_to_augment, batch_size=200)\n",
    "    zoom_it = zoom_gen.flow(data_to_augment, batch_size=200)\n",
    "    rotation_it = rotation_gen.flow(data_to_augment, batch_size=200)\n",
    "    \n",
    "    bright_batch, zoom_batch, rotation_batch = bright_it.next(), zoom_it.next(), rotation_it.next()\n",
    "            \n",
    "    for i in range(200):\n",
    "        data.append(bright_batch[i])\n",
    "        data.append(zoom_batch[i])\n",
    "        data.append(rotation_batch[i])\n",
    "        \n",
    "#         labels.append(0)\n",
    "#         labels.append(0)\n",
    "#         labels.append(0)\n",
    "    \n",
    "    \n",
    "        \n",
    "#     labels = np.ravel(np.array(labels))\n",
    "    data = np.array(data).reshape((600,24*21))\n",
    "    return data"
   ]
  },
  {
   "cell_type": "code",
   "execution_count": 248,
   "metadata": {},
   "outputs": [],
   "source": [
    "def make_augmented_neutral(raw_face):\n",
    "    neutral= raw_face[:,:,::3]\n",
    "    neutral = np.array(np.dsplit(neutral,neutral.shape[-1])).reshape((200,24,21))\n",
    "    \n",
    "    data = []\n",
    "    labels = []\n",
    "    \n",
    "    \n",
    "    data_to_augment = neutral.reshape((200,24,21,1))\n",
    "    brightness_gen = ImageDataGenerator(brightness_range=[0.2,1.0])\n",
    "    zoom_gen = ImageDataGenerator(zoom_range=[0.5,1.0])\n",
    "    rotation_gen = ImageDataGenerator(rotation_range=90)\n",
    "    \n",
    "    bright_it = brightness_gen.flow(data_to_augment, batch_size=200)\n",
    "    zoom_it = zoom_gen.flow(data_to_augment, batch_size=200)\n",
    "    rotation_it = rotation_gen.flow(data_to_augment, batch_size=200)\n",
    "    \n",
    "    bright_batch, zoom_batch, rotation_batch = bright_it.next(), zoom_it.next(), rotation_it.next()\n",
    "            \n",
    "    for i in range(200):\n",
    "        data.append(bright_batch[i])\n",
    "        data.append(zoom_batch[i])\n",
    "        data.append(rotation_batch[i])\n",
    "        \n",
    "#         labels.append(0)\n",
    "#         labels.append(0)\n",
    "#         labels.append(0)\n",
    "    \n",
    "    \n",
    "        \n",
    "#     labels = np.ravel(np.array(labels))\n",
    "    data = np.array(data).reshape((600,24*21))\n",
    "    return data"
   ]
  },
  {
   "cell_type": "code",
   "execution_count": 249,
   "metadata": {},
   "outputs": [],
   "source": [
    "aug_smile = make_augmented_smile(raw_face)\n",
    "aug_neutral = make_augmented_neutral(raw_face)"
   ]
  },
  {
   "cell_type": "code",
   "execution_count": 240,
   "metadata": {},
   "outputs": [],
   "source": [
    "np.save('data/aug_smile.npy',aug_smile, allow_pickle=True)\n",
    "np.save('data/aug_neutral.npy',aug_neutral, allow_pickle=True)"
   ]
  },
  {
   "cell_type": "code",
   "execution_count": 241,
   "metadata": {},
   "outputs": [],
   "source": [
    "smile = np.load('data/aug_smile.npy', allow_pickle=True)"
   ]
  },
  {
   "cell_type": "code",
   "execution_count": 242,
   "metadata": {},
   "outputs": [
    {
     "data": {
      "text/plain": [
       "(600, 504)"
      ]
     },
     "execution_count": 242,
     "metadata": {},
     "output_type": "execute_result"
    }
   ],
   "source": [
    "d.shape"
   ]
  },
  {
   "cell_type": "code",
   "execution_count": 246,
   "metadata": {},
   "outputs": [
    {
     "data": {
      "text/plain": [
       "<matplotlib.image.AxesImage at 0x7fc28a2f80a0>"
      ]
     },
     "execution_count": 246,
     "metadata": {},
     "output_type": "execute_result"
    },
    {
     "data": {
      "image/png": "[encoded data removed]",
      "text/plain": [
       "<Figure size 432x288 with 1 Axes>"
      ]
     },
     "metadata": {
      "needs_background": "light"
     },
     "output_type": "display_data"
    }
   ],
   "source": [
    "plt.imshow(d[100].reshape((24,21)))"
   ]
  },
  {
   "cell_type": "code",
   "execution_count": null,
   "metadata": {},
   "outputs": [],
   "source": []
  }
 ],
 "metadata": {
  "kernelspec": {
   "display_name": "Python 3",
   "language": "python",
   "name": "python3"
  },
  "language_info": {
   "codemirror_mode": {
    "name": "ipython",
    "version": 3
   },
   "file_extension": ".py",
   "mimetype": "text/x-python",
   "name": "python",
   "nbconvert_exporter": "python",
   "pygments_lexer": "ipython3",
   "version": "3.8.3"
  }
 },
 "nbformat": 4,
 "nbformat_minor": 4
}
