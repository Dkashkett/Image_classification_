{
 "cells": [
  {
   "cell_type": "code",
   "execution_count": 632,
   "metadata": {},
   "outputs": [],
   "source": [
    "import matplotlib.pyplot as plt\n",
    "import numpy as np \n",
    "from scipy.io import loadmat\n",
    "import pandas as pd\n",
    "from mpl_toolkits.axes_grid1 import ImageGrid\n",
    "from sklearn.pipeline import Pipeline\n",
    "from sklearn.decomposition import PCA\n",
    "from sklearn.naive_bayes import GaussianNB\n",
    "from sklearn.metrics import accuracy_score,recall_score,precision_score,f1_score, confusion_matrix\n",
    "from sklearn.model_selection import RepeatedStratifiedKFold, GridSearchCV, train_test_split\n",
    "from sklearn.neighbors import KNeighborsClassifier\n",
    "import seaborn as sns\n",
    "from keras.preprocessing.image import ImageDataGenerator\n",
    "import random"
   ]
  },
  {
   "cell_type": "code",
   "execution_count": 633,
   "metadata": {},
   "outputs": [],
   "source": [
    "def confusion_matrix(model, X_test, y_test, labels_list):\n",
    "    ypred = model.predict(X_test)\n",
    "    mat = confusion_matrix(y_test, ypred) \n",
    "    sns.heatmap(mat.T, square=True, annot=True, fmt='d', cbar=False,\n",
    "                        xticklabels=labels_list,\n",
    "                        yticklabels=labels_list)\n",
    "    plt.xlabel('true label')\n",
    "    plt.ylabel('predicted label');\n",
    "    \n",
    "def evaluate(model, X_test, y_test, labels_list):\n",
    "    ypred = model.predict(X_test)\n",
    "    print('Accuracy: ', accuracy_score(y_test, ypred))\n",
    "    print('F1: ', f1_score(y_test, ypred))\n",
    "    print('Precision: ', precision_score(y_test, ypred))\n",
    "    print('Recall: ', recall_score(y_test, ypred)) "
   ]
  },
  {
   "cell_type": "code",
   "execution_count": 634,
   "metadata": {},
   "outputs": [],
   "source": [
    "#load data chunks and converts to numpy arrays\n",
    "def load_data_chunks():\n",
    "    raw_face = np.array(loadmat('./data/data.mat')['face'])\n",
    "    raw_pose = np.array(loadmat('./data/pose.mat')['pose'])\n",
    "    raw_illum = np.array(loadmat('./data/illumination.mat')['illum'])\n",
    "    aug_neutral = np.load('data/aug_neutral.npy', allow_pickle=True)\n",
    "    aug_smile = np.load('data/aug_smile.npy', allow_pickle=True)\n",
    "    return raw_face, (raw_pose, raw_illum), (aug_neutral,aug_smile)\n",
    "raw_face, raw_pose, aug_data = load_data_chunks()"
   ]
  },
  {
   "cell_type": "code",
   "execution_count": 724,
   "metadata": {},
   "outputs": [],
   "source": [
    "# creates face dataset and returns a tuple of \n",
    "def make_face_dataset(raw_face, augmented=False):\n",
    "    neutral= raw_face[:,:,::3]\n",
    "    smile = raw_face[:,:,1::3]\n",
    "    variation = raw_face[:,:,2::3]\n",
    "    \n",
    "    \n",
    "    test = []\n",
    "    test_labels = []\n",
    "    \n",
    "    \n",
    "    if augmented == True:\n",
    "        face_data = np.dstack((neutral, variation, smile))\n",
    "        face_data = np.array(np.dsplit(face_data,face_data.shape[-1])).reshape((600,24,21))\n",
    "        face_data = face_data/255\n",
    "        face_data = face_data.reshape((600,24*21))\n",
    "        face_labels = np.ravel(np.array([400 * [0] + 200 * [1]]))\n",
    "        return face_data, face_labels\n",
    "    else:\n",
    "        face_data = np.dstack((neutral, smile))\n",
    "        face_data = np.array(np.dsplit(face_data,face_data.shape[-1])).reshape((400,24,21))\n",
    "        face_data = face_data/255\n",
    "        face_data = face_data.reshape((400,24*21))\n",
    "        face_labels = np.ravel(np.array([200 * [0] + 200 * [1]]))\n",
    "        return face_data, face_labels"
   ]
  },
  {
   "cell_type": "code",
   "execution_count": 839,
   "metadata": {},
   "outputs": [],
   "source": [
    "data, labels = make_face_dataset(raw_face, augmented=True)"
   ]
  },
  {
   "cell_type": "code",
   "execution_count": 815,
   "metadata": {},
   "outputs": [],
   "source": [
    "# creates face dataset and returns a tuple of \n",
    "def make(raw_face):\n",
    "    neutral= raw_face[:,:,::3]\n",
    "    neutral = list(neutral.reshape((200,24*21)))\n",
    "    smile = raw_face[:,:,1::3]\n",
    "    smile = list(smile.reshape((200,24*21)))\n",
    "    \n",
    "    variation = raw_face[:,:,2::3]\n",
    "    \n",
    "    np.random.shuffle(neutral)\n",
    "    np.random.shuffle(smile)\n",
    "    \n",
    "    X_test = []\n",
    "    y_test = []\n",
    "    X_train = []\n",
    "    y_train = []\n",
    "    \n",
    "    test_idx = random.sample([i for i in range(175)], 30)\n",
    "\n",
    "    for i in test_idx:\n",
    "        X_test.append(neutral[i])\n",
    "        y_test.append(0)\n",
    "        neutral.pop(i)\n",
    "        \n",
    "        X_test.append(smile[0])\n",
    "        y_test.append(1)\n",
    "        smile.pop(i)\n",
    "    for i in range(170):\n",
    "        X_train.append(neutral.pop())\n",
    "        y_train.append(0)\n",
    "        \n",
    "        X_train.append(smile.pop())\n",
    "        y_train.append(1)\n",
    "    \n",
    "    return X_test, y_test, X_train, y_train         "
   ]
  },
  {
   "cell_type": "code",
   "execution_count": 816,
   "metadata": {},
   "outputs": [],
   "source": [
    "X_test, y_test, X_train, y_train = make(raw_face)"
   ]
  },
  {
   "cell_type": "code",
   "execution_count": 819,
   "metadata": {},
   "outputs": [],
   "source": [
    "X_test = np.array(X_test)\n",
    "X_train = np.array(X_train)\n",
    "y_train = np.array(y_train)\n",
    "y_test = np.array(y_test)"
   ]
  },
  {
   "cell_type": "code",
   "execution_count": 636,
   "metadata": {},
   "outputs": [],
   "source": [
    "def make_face_list(raw_face):\n",
    "    neutral= raw_face[:,:,::3]\n",
    "    smile = raw_face[:,:,1::3]\n",
    "    variation = raw_face[:,:,2::3]\n",
    "    face_data = np.dstack((neutral, smile))\n",
    "    face_data = np.dsplit(face_data,face_data.shape[-1])\n",
    "    face_data = [img.reshape((24*21)) for img in face_data]\n",
    "    face_labels = list(np.array([200 * [0] + 200 * [1]])[0])\n",
    "    \n",
    "    return face_data, face_labels"
   ]
  },
  {
   "cell_type": "code",
   "execution_count": 637,
   "metadata": {},
   "outputs": [],
   "source": [
    "def make_composite_dataset(raw_face, aug_data, num_augmented=0):\n",
    "    aug_neutral = list(aug_data[0])\n",
    "    aug_smile = list(aug_data[1])\n",
    "    data, labels = make_face_list(raw_face)\n",
    "    num = int(num_augmented)\n",
    "    \n",
    "    if num_augmented==0:\n",
    "        real_data = np.array(data)\n",
    "        real_labels = np.ravel(np.array(labels))\n",
    "        return real_data, real_labels\n",
    "    else:\n",
    "        if (num//2) != 0:\n",
    "            num+=1\n",
    "        for i in range(num//2):\n",
    "            neutral_idx = random.sample([i for i in range(600)], num//2)\n",
    "            for idx in neutral_idx:\n",
    "                data.append(aug_neutral[idx])\n",
    "                labels.append(0)\n",
    "        for i in range(num//2):\n",
    "            smile_idx = random.sample([i for i in range(600)], num//2)\n",
    "            for idx in smile_idx:\n",
    "                data.append(aug_smile[idx])\n",
    "                labels.append(1)\n",
    "        \n",
    "        data = np.array(data)\n",
    "        labels = np.array(labels)\n",
    "        \n",
    "        return data, labels"
   ]
  },
  {
   "cell_type": "code",
   "execution_count": 717,
   "metadata": {},
   "outputs": [],
   "source": [
    "def make_all_data(raw_face, aug_data):\n",
    "    aug_neutral = list(aug_data[0])\n",
    "    aug_smile = list(aug_data[1])\n",
    "    data, labels = make_face_list(raw_face)\n",
    "    \n",
    "    for i in range(100):\n",
    "        data.append(aug_neutral[i])\n",
    "        labels.append(0)\n",
    "    for i in range(100):\n",
    "        data.append(aug_smile[i])\n",
    "        labels.append(1)\n",
    "    ds = np.array(list(zip(data,labels)))\n",
    "    data = np.array(data)\n",
    "    labels = np.array(labels)\n",
    "    return ds"
   ]
  },
  {
   "cell_type": "code",
   "execution_count": 823,
   "metadata": {},
   "outputs": [
    {
     "name": "stdout",
     "output_type": "stream",
     "text": [
      "(600, 504)\n",
      "(600,)\n"
     ]
    }
   ],
   "source": [
    "#make dataset\n",
    "ds = make_all_data(raw_face, aug_data)\n",
    "\n",
    "#preprocess data\n",
    "shuffled_data = np.random.shuffle(ds)\n",
    "data = np.array(list(ds[:,0]))\n",
    "labels = np.array(list(ds[:,1]))\n",
    "data = data/255\n",
    "print(data.shape)\n",
    "print(labels.shape)"
   ]
  },
  {
   "cell_type": "code",
   "execution_count": 719,
   "metadata": {},
   "outputs": [
    {
     "data": {
      "text/plain": [
       "(600,)"
      ]
     },
     "execution_count": 719,
     "metadata": {},
     "output_type": "execute_result"
    }
   ],
   "source": [
    "labels.shape"
   ]
  },
  {
   "cell_type": "code",
   "execution_count": 840,
   "metadata": {},
   "outputs": [
    {
     "name": "stdout",
     "output_type": "stream",
     "text": [
      "(420, 504)\n",
      "(180, 504)\n"
     ]
    }
   ],
   "source": [
    "#set dataset here\n",
    "X_train, X_test, y_train, y_test = train_test_split(data, labels, \n",
    "                                                    test_size=0.3, random_state=42, shuffle='true', stratify=labels)\n",
    "print(X_train.shape)\n",
    "print(X_test.shape)"
   ]
  },
  {
   "cell_type": "code",
   "execution_count": 841,
   "metadata": {},
   "outputs": [],
   "source": [
    "#Bayes pipe\n",
    "pca = PCA()\n",
    "gnb = GaussianNB()\n",
    "pipe = Pipeline(steps=[('pca', pca), ('bayes', gnb)])\n",
    "param_grid = {\n",
    "    'pca__n_components': [i for i in range(1,40)]\n",
    "}"
   ]
  },
  {
   "cell_type": "code",
   "execution_count": 842,
   "metadata": {},
   "outputs": [
    {
     "name": "stdout",
     "output_type": "stream",
     "text": [
      "Best parameter (CV score=0.914):\n",
      "{'pca__n_components': 17}\n",
      "0.9142857142857143\n"
     ]
    }
   ],
   "source": [
    "cv = RepeatedStratifiedKFold(n_splits=5, n_repeats=2, random_state=1)\n",
    "bayes_search = GridSearchCV(pipe, param_grid, scoring='accuracy', n_jobs=-1, cv=5)\n",
    "bayes_search.fit(X_train, y_train)\n",
    "print(\"Best parameter (CV score=%0.3f):\" % bayes_search.best_score_)\n",
    "print(bayes_search.best_params_)\n",
    "print(bayes_search.best_score_)"
   ]
  },
  {
   "cell_type": "code",
   "execution_count": 838,
   "metadata": {},
   "outputs": [
    {
     "name": "stdout",
     "output_type": "stream",
     "text": [
      "Best parameter (CV score=0.829):\n",
      "{'knn__metric': 'chebyshev', 'knn__n_neighbors': 10, 'knn__weights': 'uniform', 'pca__n_components': 28}\n"
     ]
    }
   ],
   "source": [
    "pca = PCA()\n",
    "knn = KNeighborsClassifier()\n",
    "\n",
    "pipe = Pipeline(steps=[('pca', pca), ('knn', knn)])\n",
    "\n",
    "param_grid = {\n",
    "    'pca__n_components': [i for i in range(1,31)],\n",
    "    'knn__n_neighbors' : [i for i in range(1,11)],  \n",
    "    'knn__metric' : ['euclidean','manhattan','chebyshev','minkowski','wminkowski','seuclidean','mahalanobis'],\n",
    "    'knn__weights' : ['uniform','distance'],\n",
    "    \n",
    "}\n",
    "\n",
    "cv = RepeatedStratifiedKFold(n_splits=5, n_repeats=2, random_state=1)\n",
    "knn_search = GridSearchCV(pipe, param_grid, scoring='accuracy', cv=5, n_jobs=-1)\n",
    "knn_search.fit(X_train, y_train)\n",
    "print(\"Best parameter (CV score=%0.3f):\" % knn_search.best_score_)\n",
    "print(knn_search.best_params_)"
   ]
  },
  {
   "cell_type": "code",
   "execution_count": null,
   "metadata": {},
   "outputs": [],
   "source": []
  },
  {
   "cell_type": "code",
   "execution_count": null,
   "metadata": {},
   "outputs": [],
   "source": []
  }
 ],
 "metadata": {
  "kernelspec": {
   "display_name": "Python 3",
   "language": "python",
   "name": "python3"
  },
  "language_info": {
   "codemirror_mode": {
    "name": "ipython",
    "version": 3
   },
   "file_extension": ".py",
   "mimetype": "text/x-python",
   "name": "python",
   "nbconvert_exporter": "python",
   "pygments_lexer": "ipython3",
   "version": "3.8.3"
  }
 },
 "nbformat": 4,
 "nbformat_minor": 4
}
