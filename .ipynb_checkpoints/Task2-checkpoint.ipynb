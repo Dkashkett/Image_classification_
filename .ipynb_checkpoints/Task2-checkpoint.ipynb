{
 "cells": [
  {
   "cell_type": "markdown",
   "metadata": {},
   "source": [
    "# Task 2"
   ]
  },
  {
   "cell_type": "code",
   "execution_count": null,
   "metadata": {},
   "outputs": [],
   "source": [
    "import matplotlib.pyplot as plt\n",
    "from mpl_toolkits.mplot3d import Axes3D\n",
    "import numpy as np \n",
    "from scipy.io import loadmat\n",
    "import pandas as pd\n",
    "from sklearn.pipeline import Pipeline\n",
    "from sklearn.decomposition import PCA\n",
    "from sklearn.manifold import MDS\n",
    "from sklearn.naive_bayes import GaussianNB\n",
    "from sklearn.metrics import accuracy_score,recall_score,precision_score,f1_score,roc_auc_score, confusion_matrix\n",
    "from sklearn.model_selection import RepeatedStratifiedKFold, GridSearchCV, train_test_split\n",
    "from sklearn.neighbors import KNeighborsClassifier\n",
    "import seaborn as sns\n",
    "from sklearn.preprocessing import StandardScaler\n",
    "from keras.preprocessing.image import ImageDataGenerator\n",
    "import random\n",
    "from sklearn.metrics import plot_confusion_matrix"
   ]
  },
  {
   "cell_type": "code",
   "execution_count": 2,
   "metadata": {},
   "outputs": [],
   "source": [
    "np.random.seed(31415)"
   ]
  },
  {
   "cell_type": "markdown",
   "metadata": {},
   "source": [
    "### Helper Functions"
   ]
  },
  {
   "cell_type": "code",
   "execution_count": 3,
   "metadata": {
    "jupyter": {
     "source_hidden": true
    }
   },
   "outputs": [],
   "source": [
    "def scree_plot(n_comp):\n",
    "    n_comp = 20\n",
    "    pca = PCA(n_components=n_comp)\n",
    "    pc = pca.fit_transform(data)\n",
    "    scree_df = pd.DataFrame({'exp_var':pca.explained_variance_ratio_,\n",
    "                 'PC':[i for i in range(1,n_comp+1)]})\n",
    "    colors = [n_comp * ['blue'] + (20-n_comp) * ['red'] ]\n",
    "    scree_df['colors'] = colors[0]\n",
    "    sns.barplot(x='PC',y=\"exp_var\", \n",
    "               data=scree_df, color=\"c\");\n",
    "    plt.tight_layout()\n",
    "    plt.xlabel('Principal Component')\n",
    "    plt.ylabel('Explained Varaince')\n",
    "\n",
    "def pcplot2d():\n",
    "    pca = PCA(n_components=2)\n",
    "    pc = pca.fit_transform(data)\n",
    "    pc_df = pd.DataFrame(data= pc, columns = ['PC1','PC2'])\n",
    "    \n",
    "    pc_df['class'] =labels\n",
    "    sns.lmplot( x=\"PC1\", y=\"PC2\",\n",
    "      data=pc_df, \n",
    "      fit_reg=False, \n",
    "        hue='class', \n",
    "      legend=True,\n",
    "      scatter_kws={\"s\": 80}) \n",
    "    \n",
    "def pcplot3d():\n",
    "    pca = PCA(n_components=3)\n",
    "    pc = pca.fit_transform(data)\n",
    "    pc_df = pd.DataFrame(data= pc, columns = ['PC1','PC2','PC3'])\n",
    "\n",
    "    fig = plt.figure()\n",
    "    ax = Axes3D(fig)\n",
    "    ax.scatter(pc_df['PC1'], pc_df['PC2'], pc_df['PC3'], c=labels,depthshade=False)\n",
    "    \n",
    "def training_plot(model):\n",
    "    results = pd.DataFrame(model.cv_results_)\n",
    "    x = results['param_pca__n_components']\n",
    "    y = results['mean_test_score']\n",
    "\n",
    "    best_x = results[results['rank_test_score']==1]['param_pca__n_components']\n",
    "    best_y = results[results['rank_test_score']==1]['mean_test_score']\n",
    "\n",
    "    plt.figure(figsize=(6,4),dpi=100)\n",
    "    sns.lineplot(x,y)\n",
    "    plt.scatter(best_x,best_y,c='red',label='Highest Accuracy')\n",
    "    plt.xlabel('Number of Principal Components')\n",
    "    plt.ylabel('Mean Accuracy Score')\n",
    "    # plt.title('Bayes Models: Number of Principal Components')\n",
    "    plt.legend(loc=(.6,0.08))\n",
    "\n",
    "def training_time_plot(model):\n",
    "    results = pd.DataFrame(model.cv_results_)\n",
    "    x = results['param_pca__n_components']\n",
    "    y = results['mean_fit_time']\n",
    "\n",
    "    best_x = results[results['rank_test_score']==1]['param_pca__n_components']\n",
    "    best_y = results[results['rank_test_score']==1]['mean_fit_time']\n",
    "\n",
    "    plt.figure(figsize=(6,4),dpi=100)\n",
    "    sns.lineplot(x,y)\n",
    "    plt.scatter(best_x,best_y,c='red',label='Highest Accuracy')\n",
    "    plt.xlabel('Number of Principal Components')\n",
    "    plt.ylabel('Mean Training Time')\n",
    "    plt.legend(loc=(.6,0.08))\n",
    "\n",
    "def model_eval(model, X_test, y_test):\n",
    "    ypred = model.predict(X_test)\n",
    "    results = {'Accuracy' : [accuracy_score(y_test, ypred)],\n",
    "               'F1': [f1_score(y_test, ypred, average='micro')], \n",
    "               'Precision': [precision_score(y_test, ypred, average='micro')],\n",
    "                'Recall': [recall_score(y_test, ypred, average='micro')]}\n",
    "    results_df = pd.DataFrame(results)\n",
    "    \n",
    "    results_df = results_df.style.hide_index()\n",
    "    return results_df\n",
    "\n",
    "def confusion_matrix(model, X_test, y_test, labels_list):\n",
    "    ypred = model.predict(X_test)\n",
    "    mat = confusion_matrix(y_test, ypred) \n",
    "    sns.heatmap(mat.T, square=True, annot=True, fmt='d', cbar=False,\n",
    "                        xticklabels=labels_list,\n",
    "                        yticklabels=labels_list)\n",
    "    plt.xlabel('true label')\n",
    "    plt.ylabel('predicted label');"
   ]
  },
  {
   "cell_type": "code",
   "execution_count": 4,
   "metadata": {
    "jupyter": {
     "source_hidden": true
    }
   },
   "outputs": [],
   "source": [
    "#load data chunks and converts to numpy arrays\n",
    "def load_data_chunks():\n",
    "    raw_face = np.array(loadmat('./data/data.mat')['face'])\n",
    "    raw_pose = np.array(loadmat('./data/pose.mat')['pose'])\n",
    "    raw_illum = np.array(loadmat('./data/illumination.mat')['illum'])\n",
    "    aug_neutral = np.load('data/aug_neutral.npy', allow_pickle=True)\n",
    "    aug_smile = np.load('data/aug_smile.npy', allow_pickle=True)\n",
    "    return raw_face, (raw_pose, raw_illum), (aug_neutral,aug_smile)\n",
    "\n",
    "def make_pose_dataset(raw_pose, num_subjects, augmented=False):\n",
    "    pose_dataset = []\n",
    "    pose_labels = []\n",
    "    if augmented == False:\n",
    "        for subject in range(num_subjects):\n",
    "            for pose in range(13):\n",
    "                pose_dataset.append(raw_pose[0][:,:,pose,subject].reshape((48*40)))\n",
    "                pose_labels.append(subject)\n",
    "    else:\n",
    "        for subject in range(num_subjects):\n",
    "            for pose in range(13):\n",
    "                pose_dataset.append(raw_pose[0][:,:,pose,subject].reshape((48*40)))\n",
    "                pose_labels.append(subject)\n",
    "        for subject in range(num_subjects):\n",
    "            for pose in range(21):\n",
    "                img = raw_pose[1][:,pose,subject].reshape((40,48))\n",
    "                img = np.flip(np.rot90(img)).reshape((48*40))\n",
    "                pose_dataset.append(img)\n",
    "                pose_labels.append(subject)\n",
    "                \n",
    "    pose_dataset = np.array(pose_dataset)\n",
    "    pose_labels = np.transpose(np.array(pose_labels))\n",
    "    return pose_dataset, pose_labels"
   ]
  },
  {
   "cell_type": "markdown",
   "metadata": {},
   "source": [
    "### load data and create dataset\n"
   ]
  },
  {
   "cell_type": "code",
   "execution_count": 5,
   "metadata": {},
   "outputs": [],
   "source": [
    "#load data chunks\n",
    "_, raw_pose, _ = load_data_chunks()"
   ]
  },
  {
   "cell_type": "markdown",
   "metadata": {},
   "source": [
    "# Data Exploration"
   ]
  },
  {
   "cell_type": "code",
   "execution_count": 6,
   "metadata": {
    "collapsed": true,
    "jupyter": {
     "outputs_hidden": true,
     "source_hidden": true
    }
   },
   "outputs": [
    {
     "ename": "NameError",
     "evalue": "name 'data' is not defined",
     "output_type": "error",
     "traceback": [
      "\u001b[0;31m---------------------------------------------------------------------------\u001b[0m",
      "\u001b[0;31mNameError\u001b[0m                                 Traceback (most recent call last)",
      "\u001b[0;32m<ipython-input-6-c17a9714eaeb>\u001b[0m in \u001b[0;36m<module>\u001b[0;34m\u001b[0m\n\u001b[0;32m----> 1\u001b[0;31m \u001b[0mscree_plot\u001b[0m\u001b[0;34m(\u001b[0m\u001b[0mn_comp\u001b[0m\u001b[0;34m=\u001b[0m\u001b[0;36m16\u001b[0m\u001b[0;34m)\u001b[0m\u001b[0;34m\u001b[0m\u001b[0;34m\u001b[0m\u001b[0m\n\u001b[0m\u001b[1;32m      2\u001b[0m \u001b[0mpcplot2d\u001b[0m\u001b[0;34m(\u001b[0m\u001b[0;34m)\u001b[0m\u001b[0;34m\u001b[0m\u001b[0;34m\u001b[0m\u001b[0m\n\u001b[1;32m      3\u001b[0m \u001b[0mpcplot3d\u001b[0m\u001b[0;34m(\u001b[0m\u001b[0;34m)\u001b[0m\u001b[0;34m\u001b[0m\u001b[0;34m\u001b[0m\u001b[0m\n",
      "\u001b[0;32m<ipython-input-3-dfc7670446a1>\u001b[0m in \u001b[0;36mscree_plot\u001b[0;34m(n_comp)\u001b[0m\n\u001b[1;32m      2\u001b[0m     \u001b[0mn_comp\u001b[0m \u001b[0;34m=\u001b[0m \u001b[0;36m20\u001b[0m\u001b[0;34m\u001b[0m\u001b[0;34m\u001b[0m\u001b[0m\n\u001b[1;32m      3\u001b[0m     \u001b[0mpca\u001b[0m \u001b[0;34m=\u001b[0m \u001b[0mPCA\u001b[0m\u001b[0;34m(\u001b[0m\u001b[0mn_components\u001b[0m\u001b[0;34m=\u001b[0m\u001b[0mn_comp\u001b[0m\u001b[0;34m)\u001b[0m\u001b[0;34m\u001b[0m\u001b[0;34m\u001b[0m\u001b[0m\n\u001b[0;32m----> 4\u001b[0;31m     \u001b[0mpc\u001b[0m \u001b[0;34m=\u001b[0m \u001b[0mpca\u001b[0m\u001b[0;34m.\u001b[0m\u001b[0mfit_transform\u001b[0m\u001b[0;34m(\u001b[0m\u001b[0mdata\u001b[0m\u001b[0;34m)\u001b[0m\u001b[0;34m\u001b[0m\u001b[0;34m\u001b[0m\u001b[0m\n\u001b[0m\u001b[1;32m      5\u001b[0m     scree_df = pd.DataFrame({'exp_var':pca.explained_variance_ratio_,\n\u001b[1;32m      6\u001b[0m                  'PC':[i for i in range(1,n_comp+1)]})\n",
      "\u001b[0;31mNameError\u001b[0m: name 'data' is not defined"
     ]
    }
   ],
   "source": [
    "scree_plot(n_comp=16)\n",
    "pcplot2d()\n",
    "pcplot3d()"
   ]
  },
  {
   "cell_type": "code",
   "execution_count": 7,
   "metadata": {},
   "outputs": [
    {
     "name": "stdout",
     "output_type": "stream",
     "text": [
      "(117, 1920)\n",
      "(13, 1920)\n"
     ]
    }
   ],
   "source": [
    "#create face dataset\n",
    "data, labels = make_pose_dataset(raw_pose, num_subjects=10, augmented=False)\n",
    "#split data into train and test\n",
    "X_train, X_test, y_train, y_test = train_test_split(data, labels, \n",
    "                                                    test_size=0.1, random_state=42, shuffle='true', stratify=labels)\n",
    "X_train = X_train/255\n",
    "X_test = X_test/255\n",
    "print(X_train.shape)\n",
    "print(X_test.shape)"
   ]
  },
  {
   "cell_type": "markdown",
   "metadata": {},
   "source": [
    "# Gaussian Bayes"
   ]
  },
  {
   "cell_type": "code",
   "execution_count": 35,
   "metadata": {},
   "outputs": [],
   "source": [
    "def bayes_training():\n",
    "    best_score = []\n",
    "    best_params = []\n",
    "    with_scaling = []\n",
    "    num_sub = [10, 15, 20, 25, 30, 35, 40, 45, 50, 55, 60, 65]\n",
    "    trained_models = []\n",
    "    \n",
    "    param_grid = {\n",
    "    'pca__n_components': [i for i in range(1,100)]\n",
    "    }\n",
    "    \n",
    "    for i in range(len(num_sub)):\n",
    "        data, labels = make_pose_dataset(raw_pose, num_subjects=num_sub[i], augmented=False)\n",
    "        X_train, X_test, y_train, y_test = train_test_split(data, labels, \n",
    "                                                        test_size=0.15, \n",
    "                                                        random_state=42, \n",
    "                                                        shuffle='true', \n",
    "                                                        stratify=labels)\n",
    "        gnb = GaussianNB()\n",
    "        pca = PCA()\n",
    "        \n",
    "        X_train = X_train/255\n",
    "        X_test = X_test/255\n",
    "\n",
    "        pipe = Pipeline(steps=[('pca', pca), ('bayes', gnb)])\n",
    "        search = GridSearchCV(pipe, param_grid, scoring='accuracy', n_jobs=-1, cv=5)\n",
    "        search.fit(X_train, y_train)\n",
    "        best_score.append(search.best_score_)\n",
    "        best_params.append(search.best_params_)\n",
    "        trained_models.append(search)\n",
    "\n",
    "    results_og = pd.DataFrame({'Number of Subjects':num_sub, \n",
    "                               'Best Params':[i['pca__n_components'] for i in best_params], \n",
    "                               'Best Training Score': best_score})\n",
    "    \n",
    "    return results_og, trained_models"
   ]
  },
  {
   "cell_type": "code",
   "execution_count": 33,
   "metadata": {},
   "outputs": [],
   "source": [
    "def bayes_testing(models, results, X_test, y_test):\n",
    "    test_accuracy = []\n",
    "    for model in models:\n",
    "        ypred = model.predict(X_test)\n",
    "        test_accuracy.append(accuracy_score(y_test, ypred))\n",
    "    results['Testing Accuracy'] = test_accuracy\n",
    "    \n",
    "    return results"
   ]
  },
  {
   "cell_type": "code",
   "execution_count": 13,
   "metadata": {},
   "outputs": [],
   "source": [
    "results, models = bayes_training()"
   ]
  },
  {
   "cell_type": "code",
   "execution_count": 14,
   "metadata": {},
   "outputs": [
    {
     "data": {
      "text/html": [
       "<div>\n",
       "<style scoped>\n",
       "    .dataframe tbody tr th:only-of-type {\n",
       "        vertical-align: middle;\n",
       "    }\n",
       "\n",
       "    .dataframe tbody tr th {\n",
       "        vertical-align: top;\n",
       "    }\n",
       "\n",
       "    .dataframe thead th {\n",
       "        text-align: right;\n",
       "    }\n",
       "</style>\n",
       "<table border=\"1\" class=\"dataframe\">\n",
       "  <thead>\n",
       "    <tr style=\"text-align: right;\">\n",
       "      <th></th>\n",
       "      <th>Number of Subjects</th>\n",
       "      <th>Best Params</th>\n",
       "      <th>Best Score</th>\n",
       "    </tr>\n",
       "  </thead>\n",
       "  <tbody>\n",
       "    <tr>\n",
       "      <th>0</th>\n",
       "      <td>10</td>\n",
       "      <td>75</td>\n",
       "      <td>0.881522</td>\n",
       "    </tr>\n",
       "    <tr>\n",
       "      <th>1</th>\n",
       "      <td>15</td>\n",
       "      <td>69</td>\n",
       "      <td>0.817143</td>\n",
       "    </tr>\n",
       "    <tr>\n",
       "      <th>2</th>\n",
       "      <td>20</td>\n",
       "      <td>92</td>\n",
       "      <td>0.765032</td>\n",
       "    </tr>\n",
       "    <tr>\n",
       "      <th>3</th>\n",
       "      <td>25</td>\n",
       "      <td>81</td>\n",
       "      <td>0.753536</td>\n",
       "    </tr>\n",
       "    <tr>\n",
       "      <th>4</th>\n",
       "      <td>30</td>\n",
       "      <td>73</td>\n",
       "      <td>0.698028</td>\n",
       "    </tr>\n",
       "    <tr>\n",
       "      <th>5</th>\n",
       "      <td>35</td>\n",
       "      <td>79</td>\n",
       "      <td>0.677386</td>\n",
       "    </tr>\n",
       "    <tr>\n",
       "      <th>6</th>\n",
       "      <td>40</td>\n",
       "      <td>88</td>\n",
       "      <td>0.685930</td>\n",
       "    </tr>\n",
       "    <tr>\n",
       "      <th>7</th>\n",
       "      <td>45</td>\n",
       "      <td>96</td>\n",
       "      <td>0.703414</td>\n",
       "    </tr>\n",
       "    <tr>\n",
       "      <th>8</th>\n",
       "      <td>50</td>\n",
       "      <td>85</td>\n",
       "      <td>0.687179</td>\n",
       "    </tr>\n",
       "    <tr>\n",
       "      <th>9</th>\n",
       "      <td>55</td>\n",
       "      <td>96</td>\n",
       "      <td>0.674830</td>\n",
       "    </tr>\n",
       "    <tr>\n",
       "      <th>10</th>\n",
       "      <td>60</td>\n",
       "      <td>92</td>\n",
       "      <td>0.652432</td>\n",
       "    </tr>\n",
       "    <tr>\n",
       "      <th>11</th>\n",
       "      <td>65</td>\n",
       "      <td>85</td>\n",
       "      <td>0.650000</td>\n",
       "    </tr>\n",
       "  </tbody>\n",
       "</table>\n",
       "</div>"
      ],
      "text/plain": [
       "    Number of Subjects  Best Params  Best Score\n",
       "0                   10           75    0.881522\n",
       "1                   15           69    0.817143\n",
       "2                   20           92    0.765032\n",
       "3                   25           81    0.753536\n",
       "4                   30           73    0.698028\n",
       "5                   35           79    0.677386\n",
       "6                   40           88    0.685930\n",
       "7                   45           96    0.703414\n",
       "8                   50           85    0.687179\n",
       "9                   55           96    0.674830\n",
       "10                  60           92    0.652432\n",
       "11                  65           85    0.650000"
      ]
     },
     "execution_count": 14,
     "metadata": {},
     "output_type": "execute_result"
    }
   ],
   "source": [
    "results"
   ]
  },
  {
   "cell_type": "code",
   "execution_count": 34,
   "metadata": {},
   "outputs": [
    {
     "data": {
      "text/html": [
       "<div>\n",
       "<style scoped>\n",
       "    .dataframe tbody tr th:only-of-type {\n",
       "        vertical-align: middle;\n",
       "    }\n",
       "\n",
       "    .dataframe tbody tr th {\n",
       "        vertical-align: top;\n",
       "    }\n",
       "\n",
       "    .dataframe thead th {\n",
       "        text-align: right;\n",
       "    }\n",
       "</style>\n",
       "<table border=\"1\" class=\"dataframe\">\n",
       "  <thead>\n",
       "    <tr style=\"text-align: right;\">\n",
       "      <th></th>\n",
       "      <th>Number of Subjects</th>\n",
       "      <th>Best Params</th>\n",
       "      <th>Best Score</th>\n",
       "      <th>Testing Accuracy</th>\n",
       "    </tr>\n",
       "  </thead>\n",
       "  <tbody>\n",
       "    <tr>\n",
       "      <th>0</th>\n",
       "      <td>10</td>\n",
       "      <td>75</td>\n",
       "      <td>0.881522</td>\n",
       "      <td>0.846154</td>\n",
       "    </tr>\n",
       "    <tr>\n",
       "      <th>1</th>\n",
       "      <td>15</td>\n",
       "      <td>69</td>\n",
       "      <td>0.817143</td>\n",
       "      <td>1.000000</td>\n",
       "    </tr>\n",
       "    <tr>\n",
       "      <th>2</th>\n",
       "      <td>20</td>\n",
       "      <td>92</td>\n",
       "      <td>0.765032</td>\n",
       "      <td>1.000000</td>\n",
       "    </tr>\n",
       "    <tr>\n",
       "      <th>3</th>\n",
       "      <td>25</td>\n",
       "      <td>81</td>\n",
       "      <td>0.753536</td>\n",
       "      <td>0.923077</td>\n",
       "    </tr>\n",
       "    <tr>\n",
       "      <th>4</th>\n",
       "      <td>30</td>\n",
       "      <td>73</td>\n",
       "      <td>0.698028</td>\n",
       "      <td>0.923077</td>\n",
       "    </tr>\n",
       "    <tr>\n",
       "      <th>5</th>\n",
       "      <td>35</td>\n",
       "      <td>79</td>\n",
       "      <td>0.677386</td>\n",
       "      <td>1.000000</td>\n",
       "    </tr>\n",
       "    <tr>\n",
       "      <th>6</th>\n",
       "      <td>40</td>\n",
       "      <td>88</td>\n",
       "      <td>0.685930</td>\n",
       "      <td>1.000000</td>\n",
       "    </tr>\n",
       "    <tr>\n",
       "      <th>7</th>\n",
       "      <td>45</td>\n",
       "      <td>96</td>\n",
       "      <td>0.703414</td>\n",
       "      <td>1.000000</td>\n",
       "    </tr>\n",
       "    <tr>\n",
       "      <th>8</th>\n",
       "      <td>50</td>\n",
       "      <td>85</td>\n",
       "      <td>0.687179</td>\n",
       "      <td>1.000000</td>\n",
       "    </tr>\n",
       "    <tr>\n",
       "      <th>9</th>\n",
       "      <td>55</td>\n",
       "      <td>96</td>\n",
       "      <td>0.674830</td>\n",
       "      <td>0.923077</td>\n",
       "    </tr>\n",
       "    <tr>\n",
       "      <th>10</th>\n",
       "      <td>60</td>\n",
       "      <td>92</td>\n",
       "      <td>0.652432</td>\n",
       "      <td>0.923077</td>\n",
       "    </tr>\n",
       "    <tr>\n",
       "      <th>11</th>\n",
       "      <td>65</td>\n",
       "      <td>85</td>\n",
       "      <td>0.650000</td>\n",
       "      <td>0.923077</td>\n",
       "    </tr>\n",
       "  </tbody>\n",
       "</table>\n",
       "</div>"
      ],
      "text/plain": [
       "    Number of Subjects  Best Params  Best Score  Testing Accuracy\n",
       "0                   10           75    0.881522          0.846154\n",
       "1                   15           69    0.817143          1.000000\n",
       "2                   20           92    0.765032          1.000000\n",
       "3                   25           81    0.753536          0.923077\n",
       "4                   30           73    0.698028          0.923077\n",
       "5                   35           79    0.677386          1.000000\n",
       "6                   40           88    0.685930          1.000000\n",
       "7                   45           96    0.703414          1.000000\n",
       "8                   50           85    0.687179          1.000000\n",
       "9                   55           96    0.674830          0.923077\n",
       "10                  60           92    0.652432          0.923077\n",
       "11                  65           85    0.650000          0.923077"
      ]
     },
     "execution_count": 34,
     "metadata": {},
     "output_type": "execute_result"
    }
   ],
   "source": [
    "bayes_testing(models, results, X_test, y_test)"
   ]
  },
  {
   "cell_type": "code",
   "execution_count": null,
   "metadata": {},
   "outputs": [],
   "source": []
  },
  {
   "cell_type": "code",
   "execution_count": 37,
   "metadata": {},
   "outputs": [
    {
     "name": "stdout",
     "output_type": "stream",
     "text": [
      "    Number of Subjects  Best Params  Best Score\n",
      "0                   10           72    0.881522\n",
      "1                   15           92    0.828571\n",
      "2                   20           75    0.756614\n",
      "3                   25           71    0.753594\n",
      "4                   30           69    0.703662\n",
      "5                   35           86    0.672569\n",
      "6                   40           91    0.698696\n",
      "7                   45           93    0.703396\n",
      "8                   50           81    0.685470\n",
      "9                   55           83    0.673316\n",
      "10                  60           93    0.653830\n",
      "11                  65           95    0.661842\n"
     ]
    }
   ],
   "source": [
    "best_score = []\n",
    "best_params = []\n",
    "with_scaling = []\n",
    "num_sub = [10, 15, 20, 25, 30, 35, 40, 45, 50, 55, 60, 65]\n",
    "for i in range(len(num_sub)):\n",
    "    data, labels = make_pose_dataset(raw_pose, num_subjects=num_sub[i], augmented=False)\n",
    "    X_train, X_test, y_train, y_test = train_test_split(data, labels, \n",
    "                                                    test_size=0.1, \n",
    "                                                    random_state=42, \n",
    "                                                    shuffle='true', \n",
    "                                                    stratify=labels)\n",
    "    X_train = X_train/255\n",
    "    X_test = X_test/255\n",
    "    \n",
    "    search = GridSearchCV(pipe, param_grid, scoring='accuracy', n_jobs=-1, cv=5)\n",
    "    search.fit(X_train, y_train)\n",
    "    best_score.append(search.best_score_)\n",
    "    best_params.append(search.best_params_)\n",
    "    \n",
    "results_og = pd.DataFrame({'Number of Subjects':num_sub, \n",
    "                           'Best Params':[i['pca__n_components'] for i in best_params], \n",
    "                           'Best Score': best_score})\n",
    "print(results_og)"
   ]
  },
  {
   "cell_type": "code",
   "execution_count": 38,
   "metadata": {},
   "outputs": [
    {
     "data": {
      "text/plain": [
       "[<matplotlib.lines.Line2D at 0x7fd5bcd9c610>]"
      ]
     },
     "execution_count": 38,
     "metadata": {},
     "output_type": "execute_result"
    },
    {
     "data": {
      "image/png": "[encoded data removed]",
      "text/plain": [
       "<Figure size 432x288 with 1 Axes>"
      ]
     },
     "metadata": {
      "needs_background": "light"
     },
     "output_type": "display_data"
    }
   ],
   "source": [
    "plt.plot(results_og['Number of Subjects'], results_og['Best Score'])"
   ]
  },
  {
   "cell_type": "code",
   "execution_count": 39,
   "metadata": {},
   "outputs": [
    {
     "name": "stdout",
     "output_type": "stream",
     "text": [
      "    Number of Subjects  Best Params  Best Score\n",
      "0                   10           44    0.892015\n",
      "1                   15           41    0.873555\n",
      "2                   20           55    0.830108\n",
      "3                   25           67    0.831373\n",
      "4                   30           93    0.803908\n",
      "5                   35           85    0.794597\n",
      "6                   40           96    0.766363\n",
      "7                   45           81    0.766870\n",
      "8                   50           90    0.769935\n",
      "9                   55           95    0.777174\n",
      "10                  60           84    0.771237\n",
      "11                  65           98    0.761689\n"
     ]
    }
   ],
   "source": [
    "best_score = []\n",
    "best_params = []\n",
    "with_scaling = []\n",
    "num_sub = [10, 15, 20, 25, 30, 35, 40, 45, 50, 55, 60, 65]\n",
    "for i in range(len(num_sub)):\n",
    "    data, labels = make_pose_dataset(raw_pose, num_subjects=num_sub[i], augmented=True)\n",
    "    X_train, X_test, y_train, y_test = train_test_split(data, labels, \n",
    "                                                    test_size=0.1, \n",
    "                                                    random_state=42, \n",
    "                                                    shuffle='true', \n",
    "                                                    stratify=labels)\n",
    "    X_train = X_train/255\n",
    "    X_test = X_test/255\n",
    "    \n",
    "    search = GridSearchCV(pipe, param_grid, scoring='accuracy', n_jobs=-1, cv=5)\n",
    "    search.fit(X_train, y_train)\n",
    "    best_score.append(search.best_score_)\n",
    "    best_params.append(search.best_params_)\n",
    "    \n",
    "results_aug = pd.DataFrame({'Number of Subjects':num_sub, \n",
    "                              'Best Params':[i['pca__n_components'] for i in best_params], \n",
    "                              'Best Score': best_score})\n",
    "print(results_aug)"
   ]
  },
  {
   "cell_type": "code",
   "execution_count": 40,
   "metadata": {},
   "outputs": [
    {
     "data": {
      "text/plain": [
       "<matplotlib.legend.Legend at 0x7fd5ca420610>"
      ]
     },
     "execution_count": 40,
     "metadata": {},
     "output_type": "execute_result"
    },
    {
     "data": {
      "image/png": "[encoded data removed]",
      "text/plain": [
       "<Figure size 432x288 with 1 Axes>"
      ]
     },
     "metadata": {
      "needs_background": "light"
     },
     "output_type": "display_data"
    }
   ],
   "source": [
    "x1, y1, = results_og['Number of Subjects'], results_og['Best Score']\n",
    "x2, y2, = results_aug['Number of Subjects'], results_aug['Best Score']\n",
    "plt.plot(x1,y1,c='orange',label ='Original Data')\n",
    "plt.plot(x2,y2, label='Augmented Data')\n",
    "plt.xlabel('Number of Subjects')\n",
    "plt.ylabel('Mean Accuracy Score')\n",
    "plt.title('stuff')\n",
    "plt.legend()"
   ]
  },
  {
   "cell_type": "markdown",
   "metadata": {},
   "source": [
    "## Best Bayes Model"
   ]
  },
  {
   "cell_type": "code",
   "execution_count": 60,
   "metadata": {},
   "outputs": [],
   "source": [
    "data, labels = make_pose_dataset(raw_pose, num_subjects=35, augmented=True)\n",
    "X_train, X_test, y_train, y_test = train_test_split(data, labels, \n",
    "                                                    test_size=0.1, \n",
    "                                                    random_state=42, \n",
    "                                                    shuffle='true', \n",
    "                                                    stratify=labels)\n",
    "X_train = X_train/255\n",
    "X_test = X_test/255"
   ]
  },
  {
   "cell_type": "code",
   "execution_count": 61,
   "metadata": {},
   "outputs": [],
   "source": [
    "pca = PCA(n_components=85)\n",
    "gnb = GaussianNB()\n",
    "best_pipe = Pipeline(steps=[('pca', pca), ('bayes', gnb)])"
   ]
  },
  {
   "cell_type": "code",
   "execution_count": 62,
   "metadata": {},
   "outputs": [
    {
     "data": {
      "text/plain": [
       "Pipeline(steps=[('pca', PCA(n_components=85)), ('bayes', GaussianNB())])"
      ]
     },
     "execution_count": 62,
     "metadata": {},
     "output_type": "execute_result"
    }
   ],
   "source": [
    "best_pipe.fit(X_train, y_train)"
   ]
  },
  {
   "cell_type": "code",
   "execution_count": 66,
   "metadata": {},
   "outputs": [
    {
     "data": {
      "text/html": [
       "<style  type=\"text/css\" >\n",
       "</style><table id=\"T_47fdbfbe_5ed2_11eb_bfcd_acde48001122\" ><thead>    <tr>        <th class=\"col_heading level0 col0\" >Accuracy</th>        <th class=\"col_heading level0 col1\" >F1</th>        <th class=\"col_heading level0 col2\" >Precision</th>        <th class=\"col_heading level0 col3\" >Recall</th>    </tr></thead><tbody>\n",
       "                <tr>\n",
       "                                <td id=\"T_47fdbfbe_5ed2_11eb_bfcd_acde48001122row0_col0\" class=\"data row0 col0\" >0.806723</td>\n",
       "                        <td id=\"T_47fdbfbe_5ed2_11eb_bfcd_acde48001122row0_col1\" class=\"data row0 col1\" >0.806723</td>\n",
       "                        <td id=\"T_47fdbfbe_5ed2_11eb_bfcd_acde48001122row0_col2\" class=\"data row0 col2\" >0.806723</td>\n",
       "                        <td id=\"T_47fdbfbe_5ed2_11eb_bfcd_acde48001122row0_col3\" class=\"data row0 col3\" >0.806723</td>\n",
       "            </tr>\n",
       "    </tbody></table>"
      ],
      "text/plain": [
       "<pandas.io.formats.style.Styler at 0x7fd5c5206ee0>"
      ]
     },
     "execution_count": 66,
     "metadata": {},
     "output_type": "execute_result"
    }
   ],
   "source": [
    "model_eval(best_pipe, X_test, y_test)"
   ]
  },
  {
   "cell_type": "code",
   "execution_count": 65,
   "metadata": {},
   "outputs": [],
   "source": [
    "# plot_confusion_matrix(best_pipe, X_test, y_test)"
   ]
  },
  {
   "cell_type": "markdown",
   "metadata": {},
   "source": [
    "### Bayes Model Selection"
   ]
  },
  {
   "cell_type": "code",
   "execution_count": 67,
   "metadata": {},
   "outputs": [
    {
     "ename": "NameError",
     "evalue": "name 'bayes_search' is not defined",
     "output_type": "error",
     "traceback": [
      "\u001b[0;31m---------------------------------------------------------------------------\u001b[0m",
      "\u001b[0;31mNameError\u001b[0m                                 Traceback (most recent call last)",
      "\u001b[0;32m<ipython-input-67-63d2602eb00b>\u001b[0m in \u001b[0;36m<module>\u001b[0;34m\u001b[0m\n\u001b[0;32m----> 1\u001b[0;31m \u001b[0mtraining_plot\u001b[0m\u001b[0;34m(\u001b[0m\u001b[0mbayes_search\u001b[0m\u001b[0;34m)\u001b[0m\u001b[0;34m\u001b[0m\u001b[0;34m\u001b[0m\u001b[0m\n\u001b[0m\u001b[1;32m      2\u001b[0m \u001b[0mtraining_time_plot\u001b[0m\u001b[0;34m(\u001b[0m\u001b[0mbayes_search\u001b[0m\u001b[0;34m)\u001b[0m\u001b[0;34m\u001b[0m\u001b[0;34m\u001b[0m\u001b[0m\n",
      "\u001b[0;31mNameError\u001b[0m: name 'bayes_search' is not defined"
     ]
    }
   ],
   "source": [
    "training_plot(bayes_search)\n",
    "training_time_plot(bayes_search)"
   ]
  },
  {
   "cell_type": "markdown",
   "metadata": {},
   "source": [
    "#### testing"
   ]
  },
  {
   "cell_type": "code",
   "execution_count": 102,
   "metadata": {},
   "outputs": [
    {
     "data": {
      "text/html": [
       "<style  type=\"text/css\" >\n",
       "</style><table id=\"T_ec19d18c_5d01_11eb_b6dd_acde48001122\" ><thead>    <tr>        <th class=\"col_heading level0 col0\" >Accuracy</th>        <th class=\"col_heading level0 col1\" >F1</th>        <th class=\"col_heading level0 col2\" >Precision</th>        <th class=\"col_heading level0 col3\" >Recall</th>    </tr></thead><tbody>\n",
       "                <tr>\n",
       "                                <td id=\"T_ec19d18c_5d01_11eb_b6dd_acde48001122row0_col0\" class=\"data row0 col0\" >0.823529</td>\n",
       "                        <td id=\"T_ec19d18c_5d01_11eb_b6dd_acde48001122row0_col1\" class=\"data row0 col1\" >0.823529</td>\n",
       "                        <td id=\"T_ec19d18c_5d01_11eb_b6dd_acde48001122row0_col2\" class=\"data row0 col2\" >0.823529</td>\n",
       "                        <td id=\"T_ec19d18c_5d01_11eb_b6dd_acde48001122row0_col3\" class=\"data row0 col3\" >0.823529</td>\n",
       "            </tr>\n",
       "    </tbody></table>"
      ],
      "text/plain": [
       "<pandas.io.formats.style.Styler at 0x7fe5e0d7e190>"
      ]
     },
     "execution_count": 102,
     "metadata": {},
     "output_type": "execute_result"
    }
   ],
   "source": [
    "model_eval(bayes_search, X_test, y_test)"
   ]
  },
  {
   "cell_type": "markdown",
   "metadata": {},
   "source": [
    "# KNN"
   ]
  },
  {
   "cell_type": "code",
   "execution_count": null,
   "metadata": {},
   "outputs": [],
   "source": [
    "distances = ['euclidean','manhattan','chebyshev','minkowski']"
   ]
  },
  {
   "cell_type": "code",
   "execution_count": 68,
   "metadata": {},
   "outputs": [],
   "source": [
    "scaler = StandardScaler()\n",
    "pca = PCA()\n",
    "knn = KNeighborsClassifier()\n",
    "param_grid = {\n",
    "    'pca__n_components': [i for i in range(5,30,5)],\n",
    "    'knn__n_neighbors' : [i for i in range(1,11)],  \n",
    "    'knn__metric' : ['euclidean','manhattan','chebyshev','minkowski'],\n",
    "    'knn__weights' : ['uniform','distance'],\n",
    "}\n",
    "cv = RepeatedStratifiedKFold(n_splits=5, n_repeats=2, random_state=1)"
   ]
  },
  {
   "cell_type": "code",
   "execution_count": 69,
   "metadata": {},
   "outputs": [],
   "source": [
    "pipe = Pipeline(steps=[('pca', pca), ('knn', knn)])\n",
    "knn_search = GridSearchCV(pipe, param_grid, scoring='accuracy', cv=5, n_jobs=-1)"
   ]
  },
  {
   "cell_type": "code",
   "execution_count": 71,
   "metadata": {},
   "outputs": [
    {
     "data": {
      "text/html": [
       "<div>\n",
       "<style scoped>\n",
       "    .dataframe tbody tr th:only-of-type {\n",
       "        vertical-align: middle;\n",
       "    }\n",
       "\n",
       "    .dataframe tbody tr th {\n",
       "        vertical-align: top;\n",
       "    }\n",
       "\n",
       "    .dataframe thead th {\n",
       "        text-align: right;\n",
       "    }\n",
       "</style>\n",
       "<table border=\"1\" class=\"dataframe\">\n",
       "  <thead>\n",
       "    <tr style=\"text-align: right;\">\n",
       "      <th></th>\n",
       "      <th>Number of Subjects</th>\n",
       "      <th>Best Params</th>\n",
       "      <th>Best Score</th>\n",
       "    </tr>\n",
       "  </thead>\n",
       "  <tbody>\n",
       "    <tr>\n",
       "      <th>0</th>\n",
       "      <td>10</td>\n",
       "      <td>{'knn__metric': 'manhattan', 'knn__n_neighbors...</td>\n",
       "      <td>0.869170</td>\n",
       "    </tr>\n",
       "    <tr>\n",
       "      <th>1</th>\n",
       "      <td>20</td>\n",
       "      <td>{'knn__metric': 'manhattan', 'knn__n_neighbors...</td>\n",
       "      <td>0.833440</td>\n",
       "    </tr>\n",
       "    <tr>\n",
       "      <th>2</th>\n",
       "      <td>30</td>\n",
       "      <td>{'knn__metric': 'manhattan', 'knn__n_neighbors...</td>\n",
       "      <td>0.747280</td>\n",
       "    </tr>\n",
       "    <tr>\n",
       "      <th>3</th>\n",
       "      <td>40</td>\n",
       "      <td>{'knn__metric': 'manhattan', 'knn__n_neighbors...</td>\n",
       "      <td>0.751643</td>\n",
       "    </tr>\n",
       "    <tr>\n",
       "      <th>4</th>\n",
       "      <td>50</td>\n",
       "      <td>{'knn__metric': 'manhattan', 'knn__n_neighbors...</td>\n",
       "      <td>0.755556</td>\n",
       "    </tr>\n",
       "    <tr>\n",
       "      <th>5</th>\n",
       "      <td>60</td>\n",
       "      <td>{'knn__metric': 'manhattan', 'knn__n_neighbors...</td>\n",
       "      <td>0.747281</td>\n",
       "    </tr>\n",
       "  </tbody>\n",
       "</table>\n",
       "</div>"
      ],
      "text/plain": [
       "   Number of Subjects                                        Best Params  \\\n",
       "0                  10  {'knn__metric': 'manhattan', 'knn__n_neighbors...   \n",
       "1                  20  {'knn__metric': 'manhattan', 'knn__n_neighbors...   \n",
       "2                  30  {'knn__metric': 'manhattan', 'knn__n_neighbors...   \n",
       "3                  40  {'knn__metric': 'manhattan', 'knn__n_neighbors...   \n",
       "4                  50  {'knn__metric': 'manhattan', 'knn__n_neighbors...   \n",
       "5                  60  {'knn__metric': 'manhattan', 'knn__n_neighbors...   \n",
       "\n",
       "   Best Score  \n",
       "0    0.869170  \n",
       "1    0.833440  \n",
       "2    0.747280  \n",
       "3    0.751643  \n",
       "4    0.755556  \n",
       "5    0.747281  "
      ]
     },
     "execution_count": 71,
     "metadata": {},
     "output_type": "execute_result"
    }
   ],
   "source": [
    "best_score = []\n",
    "best_params = []\n",
    "with_scaling = []\n",
    "num_sub = [10, 20, 30, 40, 50, 60 ]\n",
    "for i in range(len(num_sub)):\n",
    "    data, labels = make_pose_dataset(raw_pose, num_subjects=num_sub[i], augmented=True)\n",
    "    X_train, X_test, y_train, y_test = train_test_split(data, labels, \n",
    "                                                    test_size=0.1, \n",
    "                                                    random_state=42, \n",
    "                                                    shuffle='true', \n",
    "                                                    stratify=labels)\n",
    "    search = GridSearchCV(pipe, param_grid, scoring='accuracy', n_jobs=-1, cv=5)\n",
    "    search.fit(X_train, y_train)\n",
    "    best_score.append(search.best_score_)\n",
    "    best_params.append((search.best_params_['knn_n_neighbors'],search.best_params_['pca_n_components']))\n",
    "knn_results = pd.DataFrame({'Number of Subjects':num_sub, 'Best Params':best_params, 'Best Score': best_score})\n",
    "knn_results"
   ]
  },
  {
   "cell_type": "code",
   "execution_count": 76,
   "metadata": {},
   "outputs": [],
   "source": [
    "nn =  [i['knn__n_neighbors'] for i in knn_results['Best Params']]\n",
    "pc = [i['pca__n_components'] for i in knn_results['Best Params']]"
   ]
  },
  {
   "cell_type": "code",
   "execution_count": 79,
   "metadata": {},
   "outputs": [
    {
     "name": "stdout",
     "output_type": "stream",
     "text": [
      "[25, 25, 25, 25, 25, 25]\n",
      "[1, 1, 1, 2, 1, 2]\n"
     ]
    }
   ],
   "source": [
    "print(pc)\n",
    "print(nn)"
   ]
  },
  {
   "cell_type": "code",
   "execution_count": 80,
   "metadata": {},
   "outputs": [
    {
     "ename": "AttributeError",
     "evalue": "'GridSearchCV' object has no attribute 'cv_results_'",
     "output_type": "error",
     "traceback": [
      "\u001b[0;31m---------------------------------------------------------------------------\u001b[0m",
      "\u001b[0;31mAttributeError\u001b[0m                            Traceback (most recent call last)",
      "\u001b[0;32m<ipython-input-80-d2d83e9ebf54>\u001b[0m in \u001b[0;36m<module>\u001b[0;34m\u001b[0m\n\u001b[0;32m----> 1\u001b[0;31m \u001b[0mresults\u001b[0m \u001b[0;34m=\u001b[0m \u001b[0mpd\u001b[0m\u001b[0;34m.\u001b[0m\u001b[0mDataFrame\u001b[0m\u001b[0;34m(\u001b[0m\u001b[0mknn_search\u001b[0m\u001b[0;34m.\u001b[0m\u001b[0mcv_results_\u001b[0m\u001b[0;34m)\u001b[0m\u001b[0;34m\u001b[0m\u001b[0;34m\u001b[0m\u001b[0m\n\u001b[0m\u001b[1;32m      2\u001b[0m results = results[['param_knn__n_neighbors',\n\u001b[1;32m      3\u001b[0m                    \u001b[0;34m'param_pca__n_components'\u001b[0m\u001b[0;34m,\u001b[0m \u001b[0;34m'mean_test_score'\u001b[0m\u001b[0;34m,\u001b[0m\u001b[0;34m\u001b[0m\u001b[0;34m\u001b[0m\u001b[0m\n\u001b[1;32m      4\u001b[0m                    'mean_fit_time','mean_score_time']]\n\u001b[1;32m      5\u001b[0m \u001b[0mresults\u001b[0m\u001b[0;34m.\u001b[0m\u001b[0msort_values\u001b[0m\u001b[0;34m(\u001b[0m\u001b[0mby\u001b[0m\u001b[0;34m=\u001b[0m\u001b[0;34m[\u001b[0m\u001b[0;34m'mean_test_score'\u001b[0m\u001b[0;34m]\u001b[0m\u001b[0;34m,\u001b[0m \u001b[0minplace\u001b[0m\u001b[0;34m=\u001b[0m\u001b[0;32mTrue\u001b[0m\u001b[0;34m,\u001b[0m \u001b[0mascending\u001b[0m\u001b[0;34m=\u001b[0m\u001b[0;32mFalse\u001b[0m\u001b[0;34m)\u001b[0m\u001b[0;34m\u001b[0m\u001b[0;34m\u001b[0m\u001b[0m\n",
      "\u001b[0;31mAttributeError\u001b[0m: 'GridSearchCV' object has no attribute 'cv_results_'"
     ]
    }
   ],
   "source": [
    "results = pd.DataFrame(knn_search.cv_results_)\n",
    "results = results[['param_knn__n_neighbors',\n",
    "                   'param_pca__n_components', 'mean_test_score',\n",
    "                   'mean_fit_time','mean_score_time']]\n",
    "results.sort_values(by=['mean_test_score'], inplace=True, ascending=False)\n",
    "results.head(5)\n"
   ]
  },
  {
   "cell_type": "markdown",
   "metadata": {},
   "source": [
    "#### testing"
   ]
  },
  {
   "cell_type": "code",
   "execution_count": 38,
   "metadata": {},
   "outputs": [
    {
     "data": {
      "text/html": [
       "<style  type=\"text/css\" >\n",
       "</style><table id=\"T_55651a84_5cf3_11eb_aa22_acde48001122\" ><thead>    <tr>        <th class=\"col_heading level0 col0\" >Accuracy</th>        <th class=\"col_heading level0 col1\" >F1</th>        <th class=\"col_heading level0 col2\" >Precision</th>        <th class=\"col_heading level0 col3\" >Recall</th>    </tr></thead><tbody>\n",
       "                <tr>\n",
       "                                <td id=\"T_55651a84_5cf3_11eb_aa22_acde48001122row0_col0\" class=\"data row0 col0\" >0.882353</td>\n",
       "                        <td id=\"T_55651a84_5cf3_11eb_aa22_acde48001122row0_col1\" class=\"data row0 col1\" >0.882353</td>\n",
       "                        <td id=\"T_55651a84_5cf3_11eb_aa22_acde48001122row0_col2\" class=\"data row0 col2\" >0.882353</td>\n",
       "                        <td id=\"T_55651a84_5cf3_11eb_aa22_acde48001122row0_col3\" class=\"data row0 col3\" >0.882353</td>\n",
       "            </tr>\n",
       "    </tbody></table>"
      ],
      "text/plain": [
       "<pandas.io.formats.style.Styler at 0x7fd978947eb0>"
      ]
     },
     "execution_count": 38,
     "metadata": {},
     "output_type": "execute_result"
    }
   ],
   "source": [
    "model_eval(knn_search, X_test, y_test)"
   ]
  }
 ],
 "metadata": {
  "kernelspec": {
   "display_name": "Python 3",
   "language": "python",
   "name": "python3"
  },
  "language_info": {
   "codemirror_mode": {
    "name": "ipython",
    "version": 3
   },
   "file_extension": ".py",
   "mimetype": "text/x-python",
   "name": "python",
   "nbconvert_exporter": "python",
   "pygments_lexer": "ipython3",
   "version": "3.8.3"
  }
 },
 "nbformat": 4,
 "nbformat_minor": 4
}
