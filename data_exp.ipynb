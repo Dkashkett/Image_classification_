{
 "cells": [
  {
   "cell_type": "code",
   "execution_count": 563,
   "metadata": {},
   "outputs": [],
   "source": [
    "import matplotlib.pyplot as plt\n",
    "import numpy as np \n",
    "from scipy.io import loadmat\n",
    "import pandas as pd\n",
    "from mpl_toolkits.axes_grid1 import ImageGrid\n",
    "from sklearn.pipeline import Pipeline\n",
    "from sklearn.decomposition import PCA\n",
    "from sklearn.naive_bayes import GaussianNB\n",
    "from sklearn.metrics import accuracy_score,recall_score,precision_score,f1_score, confusion_matrix\n",
    "from sklearn.model_selection import RepeatedStratifiedKFold, GridSearchCV, train_test_split\n",
    "from sklearn.neighbors import KNeighborsClassifier\n",
    "import seaborn as sns"
   ]
  },
  {
   "cell_type": "code",
   "execution_count": 564,
   "metadata": {},
   "outputs": [],
   "source": [
    "#load data chunks and convert to numpy\n",
    "def load_data_chunks():\n",
    "    raw_face = np.array(loadmat('./data/data.mat')['face'])\n",
    "    raw_pose = np.array(loadmat('./data/pose.mat')['pose'])\n",
    "    raw_illum = np.array(loadmat('./data/illumination.mat')['illum'])\n",
    "    return raw_face, (raw_pose, raw_illum)\n",
    "raw_face, raw_pose = load_data_chunks()"
   ]
  },
  {
   "cell_type": "code",
   "execution_count": 565,
   "metadata": {},
   "outputs": [],
   "source": [
    "# creates face dataset and returns a tuple of \n",
    "def make_face_dataset(raw_face, augmented=False):\n",
    "    neutral= raw_face[:,:,::3]\n",
    "    smile = raw_face[:,:,1::3]\n",
    "    variation = raw_face[:,:,2::3]\n",
    "    if augmented == True:\n",
    "        face_data = np.dstack((neutral, variation, smile))\n",
    "        face_data = np.array(np.dsplit(face_data,face_data.shape[-1])).reshape((600,24,21))\n",
    "        face_data = face_data/255\n",
    "        face_data = data2.reshape((600,24*21))\n",
    "        face_labels = np.array([400 * [0] + 200 * [1]])\n",
    "        return face_data, face_labels\n",
    "    else:\n",
    "        face_data = np.dstack((neutral, smile))\n",
    "        face_data = np.array(np.dsplit(face_data,face_data.shape[-1])).reshape((400,24,21))\n",
    "        face_data = face_data/255\n",
    "        face_data = face_data.reshape((400,24*21))\n",
    "        face_labels = np.array([200 * [0] + 200 * [1]])\n",
    "        return face_data, face_labels\n",
    "        "
   ]
  },
  {
   "cell_type": "code",
   "execution_count": 574,
   "metadata": {},
   "outputs": [],
   "source": [
    "def make_pose_dataset(raw_pose, num_subjects, augmented=False):\n",
    "    pose_dataset = []\n",
    "    pose_labels = []\n",
    "    if augmented == False:\n",
    "        for subject in range(num_subjects):\n",
    "            for pose in range(13):\n",
    "                pose_dataset.append(raw_pose[0][:,:,pose,subject].reshape((48*40)))\n",
    "                pose_labels.append(subject)\n",
    "    else:\n",
    "        for subject in range(num_subjects):\n",
    "            for pose in range(13):\n",
    "                pose_dataset.append(raw_pose[0][:,:,pose,subject].reshape((48*40)))\n",
    "                pose_labels.append(subject)\n",
    "        for subject in range(num_subjects):\n",
    "            for pose in range(21):\n",
    "                img = raw_pose[1][:,pose,subject].reshape((40,48))\n",
    "                img = np.flip(np.rot90(img)).reshape((48*40))\n",
    "                pose_dataset.append(img)\n",
    "                pose_labels.append(subject)\n",
    "                \n",
    "    pose_dataset = np.array(pose_dataset)\n",
    "    pose_labels = np.transpose(np.array(pose_labels))\n",
    "    return pose_dataset, pose_labels"
   ]
  },
  {
   "cell_type": "code",
   "execution_count": 567,
   "metadata": {},
   "outputs": [],
   "source": [
    "def show_results(model, X_test, y_test, labels_list):\n",
    "    ypred = model.predict(X_test)\n",
    "    mat = confusion_matrix(y_test, ypred) \n",
    "    sns.heatmap(mat.T, square=True, annot=True, fmt='d', cbar=False,\n",
    "                        xticklabels=labels_list,\n",
    "                        yticklabels=labels_list)\n",
    "    plt.xlabel('true label')\n",
    "    plt.ylabel('predicted label');\n",
    "    print('Accuracy: ', accuracy_score(y_test, ypred))\n",
    "    print('F1: ', f1_score(y_test, ypred))\n",
    "    print('Precision: ', precision_score(y_test, ypred))\n",
    "    print('Recall: ', recall_score(y_test, ypred)) "
   ]
  },
  {
   "cell_type": "code",
   "execution_count": 568,
   "metadata": {},
   "outputs": [
    {
     "name": "stdout",
     "output_type": "stream",
     "text": [
      "(600, 504)\n",
      "(1, 600)\n"
     ]
    }
   ],
   "source": [
    "face_data, face_labels = make_face_dataset(raw_face, augmented=True)\n",
    "print(face_data.shape)\n",
    "print(face_labels.shape)"
   ]
  },
  {
   "cell_type": "code",
   "execution_count": 570,
   "metadata": {},
   "outputs": [
    {
     "name": "stdout",
     "output_type": "stream",
     "text": [
      "(340, 1920)\n",
      "(340,)\n"
     ]
    }
   ],
   "source": [
    "pose_data, pose_labels = make_pose_dataset(raw_pose, num_subjects=10, augmented=True)\n",
    "print(pose_data.shape)\n",
    "print(pose_labels.shape)"
   ]
  },
  {
   "cell_type": "code",
   "execution_count": 187,
   "metadata": {},
   "outputs": [],
   "source": [
    "#set dataset here\n",
    "X_train, X_test, y_train, y_test = train_test_split(data2, labels2, test_size=0.3, random_state=42, shuffle='true', stratify=labels2)"
   ]
  },
  {
   "cell_type": "code",
   "execution_count": 190,
   "metadata": {},
   "outputs": [
    {
     "name": "stdout",
     "output_type": "stream",
     "text": [
      "Best parameter (CV score=0.907):\n",
      "{'pca__n_components': 16}\n"
     ]
    }
   ],
   "source": [
    "#TASK ONE:Bayes PIPELINE\n",
    "pca = PCA()\n",
    "gnb = GaussianNB()\n",
    "\n",
    "pipe = Pipeline(steps=[('pca', pca), ('bayes', gnb)])\n",
    "\n",
    "param_grid = {\n",
    "    'pca__n_components': [i for i in range(1,40)]\n",
    "}\n",
    "\n",
    "cv = RepeatedStratifiedKFold(n_splits=5, n_repeats=2, random_state=1)\n",
    "bayes_search = GridSearchCV(pipe, param_grid, scoring='accuracy', n_jobs=-1, cv=cv)\n",
    "bayes_search.fit(X_train, y_train)\n",
    "print(\"Best parameter (CV score=%0.3f):\" % bayes_search.best_score_)\n",
    "print(bayes_search.best_params_)"
   ]
  },
  {
   "cell_type": "code",
   "execution_count": 191,
   "metadata": {},
   "outputs": [
    {
     "name": "stdout",
     "output_type": "stream",
     "text": [
      "Accuracy:  0.8777777777777778\n",
      "F1:  0.8035714285714286\n",
      "Precision:  0.8653846153846154\n",
      "Recall:  0.75\n"
     ]
    },
    {
     "data": {
      "image/png": "[encoded data removed]",
      "text/plain": [
       "<Figure size 432x288 with 1 Axes>"
      ]
     },
     "metadata": {
      "needs_background": "light"
     },
     "output_type": "display_data"
    }
   ],
   "source": [
    "cm(bayes_search, X_test, y_test, ['smile','neutral'])"
   ]
  },
  {
   "cell_type": "code",
   "execution_count": 179,
   "metadata": {},
   "outputs": [
    {
     "name": "stdout",
     "output_type": "stream",
     "text": [
      "Best parameter (CV score=0.897):\n",
      "{'knn__metric': 'manhattan', 'knn__n_neighbors': 9, 'knn__weights': 'uniform', 'pca__n_components': 7}\n"
     ]
    }
   ],
   "source": [
    "#TASK ONE:KNN PIPELINE\n",
    "pca = PCA()\n",
    "knn = KNeighborsClassifier()\n",
    "\n",
    "pipe = Pipeline(steps=[('pca', pca), ('knn', knn)])\n",
    "\n",
    "param_grid = {\n",
    "    'pca__n_components': [i for i in range(1,31)],\n",
    "    'knn__n_neighbors' : [i for i in range(1,11)],  \n",
    "    'knn__metric' : ['euclidean','manhattan','chebyshev','minkowski','wminkowski','seuclidean','mahalanobis'],\n",
    "    'knn__weights' : ['uniform','distance'],\n",
    "    \n",
    "}\n",
    "\n",
    "cv = RepeatedStratifiedKFold(n_splits=5, n_repeats=2, random_state=1)\n",
    "knn_search = GridSearchCV(pipe, param_grid, scoring='accuracy', cv=cv, n_jobs=-1)\n",
    "knn_search.fit(X_train, y_train)\n",
    "print(\"Best parameter (CV score=%0.3f):\" % knn_search.best_score_)\n",
    "print(knn_search.best_params_)"
   ]
  },
  {
   "cell_type": "code",
   "execution_count": 180,
   "metadata": {},
   "outputs": [
    {
     "name": "stdout",
     "output_type": "stream",
     "text": [
      "Accuracy:  0.9040404040404041\n",
      "F1:  0.8480000000000001\n",
      "Precision:  0.8983050847457628\n",
      "Recall:  0.803030303030303\n"
     ]
    },
    {
     "data": {
      "image/png": "[encoded data removed]",
      "text/plain": [
       "<Figure size 432x288 with 1 Axes>"
      ]
     },
     "metadata": {
      "needs_background": "light"
     },
     "output_type": "display_data"
    }
   ],
   "source": [
    "cm(knn_search, X_test, y_test, ['smile','neutral'])"
   ]
  },
  {
   "cell_type": "code",
   "execution_count": 632,
   "metadata": {},
   "outputs": [
    {
     "data": {
      "image/png": "[encoded data removed]",
      "text/plain": [
       "<Figure size 432x288 with 4 Axes>"
      ]
     },
     "metadata": {
      "needs_background": "light"
     },
     "output_type": "display_data"
    }
   ],
   "source": [
    "# plt.figure((20,20))\n",
    "for i in range(4):\n",
    "    # define subplot\n",
    "    plt.subplot(2, 2, 1 + i)\n",
    "    # turn off axis\n",
    "    plt.axis('off')\n",
    "    # plot raw pixel data\n",
    "    plt.imshow(X[i].reshape((24,21)))"
   ]
  },
  {
   "cell_type": "code",
   "execution_count": 571,
   "metadata": {},
   "outputs": [
    {
     "name": "stdout",
     "output_type": "stream",
     "text": [
      "(238, 1920)\n",
      "(102, 1920)\n"
     ]
    }
   ],
   "source": [
    "#set dataset here\n",
    "X_train, X_test, y_train, y_test = train_test_split(pose_data, pose_labels, test_size=0.3, random_state=42, shuffle='true', stratify=pose_labels)\n",
    "print(X_train.shape)\n",
    "print(X_test.shape)"
   ]
  },
  {
   "cell_type": "code",
   "execution_count": 572,
   "metadata": {},
   "outputs": [
    {
     "name": "stdout",
     "output_type": "stream",
     "text": [
      "Best parameter (CV score=0.861):\n",
      "{'pca__n_components': 39}\n"
     ]
    }
   ],
   "source": [
    "#TASK TWO Bayes\n",
    "pca = PCA()\n",
    "gnb = GaussianNB()\n",
    "\n",
    "pipe = Pipeline(steps=[('pca', pca), ('bayes', gnb)])\n",
    "\n",
    "param_grid = {\n",
    "    'pca__n_components': [i for i in range(1,40)]\n",
    "}\n",
    "\n",
    "cv = RepeatedStratifiedKFold(n_splits=5, n_repeats=2, random_state=1)\n",
    "bayes_search = GridSearchCV(pipe, param_grid, scoring='accuracy', n_jobs=-1, cv=5)\n",
    "bayes_search.fit(X_train, y_train)\n",
    "print(\"Best parameter (CV score=%0.3f):\" % bayes_search.best_score_)\n",
    "print(bayes_search.best_params_)"
   ]
  },
  {
   "cell_type": "code",
   "execution_count": 573,
   "metadata": {},
   "outputs": [
    {
     "name": "stdout",
     "output_type": "stream",
     "text": [
      "Best parameter (CV score=0.843):\n",
      "{'knn__metric': 'manhattan', 'knn__n_neighbors': 10, 'knn__weights': 'distance', 'pca__n_components': 30}\n"
     ]
    }
   ],
   "source": [
    "#TASK ONE:KNN PIPELINE\n",
    "pca = PCA()\n",
    "knn = KNeighborsClassifier()\n",
    "\n",
    "pipe = Pipeline(steps=[('pca', pca), ('knn', knn)])\n",
    "\n",
    "param_grid = {\n",
    "    'pca__n_components': [i for i in range(1,31)],\n",
    "    'knn__n_neighbors' : [i for i in range(1,11)],  \n",
    "    'knn__metric' : ['euclidean','manhattan','chebyshev','minkowski','wminkowski','seuclidean','mahalanobis'],\n",
    "    'knn__weights' : ['uniform','distance'],\n",
    "    \n",
    "}\n",
    "\n",
    "cv = RepeatedStratifiedKFold(n_splits=5, n_repeats=2, random_state=1)\n",
    "knn_search = GridSearchCV(pipe, param_grid, scoring='accuracy', cv=cv, n_jobs=-1)\n",
    "knn_search.fit(X_train, y_train)\n",
    "print(\"Best parameter (CV score=%0.3f):\" % knn_search.best_score_)\n",
    "print(knn_search.best_params_)"
   ]
  },
  {
   "cell_type": "code",
   "execution_count": null,
   "metadata": {},
   "outputs": [],
   "source": []
  }
 ],
 "metadata": {
  "kernelspec": {
   "display_name": "Python 3",
   "language": "python",
   "name": "python3"
  },
  "language_info": {
   "codemirror_mode": {
    "name": "ipython",
    "version": 3
   },
   "file_extension": ".py",
   "mimetype": "text/x-python",
   "name": "python",
   "nbconvert_exporter": "python",
   "pygments_lexer": "ipython3",
   "version": "3.8.3"
  }
 },
 "nbformat": 4,
 "nbformat_minor": 4
}
