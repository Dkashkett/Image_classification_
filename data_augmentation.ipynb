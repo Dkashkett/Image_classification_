{
 "cells": [
  {
   "cell_type": "code",
   "execution_count": 184,
   "metadata": {},
   "outputs": [],
   "source": [
    "import matplotlib.pyplot as plt\n",
    "import numpy as np \n",
    "from scipy.io import loadmat\n",
    "import pandas as pd\n",
    "from mpl_toolkits.axes_grid1 import ImageGrid\n",
    "from sklearn.pipeline import Pipeline\n",
    "from sklearn.decomposition import PCA\n",
    "from sklearn.naive_bayes import GaussianNB\n",
    "from sklearn.metrics import accuracy_score,recall_score,precision_score,f1_score, confusion_matrix\n",
    "from sklearn.model_selection import RepeatedStratifiedKFold, GridSearchCV, train_test_split\n",
    "from sklearn.neighbors import KNeighborsClassifier\n",
    "import seaborn as sns\n",
    "from keras.preprocessing.image import ImageDataGenerator"
   ]
  },
  {
   "cell_type": "code",
   "execution_count": 185,
   "metadata": {},
   "outputs": [],
   "source": [
    "#load data chunks and converts to numpy arrays\n",
    "def load_data_chunks():\n",
    "    raw_face = np.array(loadmat('./data/data.mat')['face'])\n",
    "    raw_pose = np.array(loadmat('./data/pose.mat')['pose'])\n",
    "    raw_illum = np.array(loadmat('./data/illumination.mat')['illum'])\n",
    "    return raw_face, (raw_pose, raw_illum)\n",
    "raw_face, raw_pose = load_data_chunks()"
   ]
  },
  {
   "cell_type": "code",
   "execution_count": 186,
   "metadata": {},
   "outputs": [],
   "source": [
    "def make_augmented_data(raw_face):\n",
    "    neutral= raw_face[:,:,::3]\n",
    "    neutral = np.array(np.dsplit(neutral,neutral.shape[-1])).reshape((200,24,21))\n",
    "    smile = raw_face[:,:,1::3]\n",
    "    smile = np.array(np.dsplit(smile,smile.shape[-1])).reshape((200,24,21))\n",
    "    img_classes = [neutral, smile]\n",
    "    \n",
    "    data = []\n",
    "    labels = []\n",
    "    \n",
    "    #class 0\n",
    "    \n",
    "    data_to_augment = neutral.reshape((200,24,21,1))\n",
    "    brightness_gen = ImageDataGenerator(brightness_range=[0.2,1.0])\n",
    "    zoom_gen = ImageDataGenerator(zoom_range=[0.5,1.0])\n",
    "    rotation_gen = ImageDataGenerator(rotation_range=90)\n",
    "    \n",
    "    bright_it = brightness_gen.flow(data_to_augment, batch_size=200)\n",
    "    zoom_it = zoom_gen.flow(data_to_augment, batch_size=200)\n",
    "    rotation_it = rotation_gen.flow(data_to_augment, batch_size=200)\n",
    "    \n",
    "    bright_batch, zoom_batch, rotation_batch = bright_it.next(), zoom_it.next(), rotation_it.next()\n",
    "            \n",
    "    for i in range(200):\n",
    "        data.append(bright_batch[i])\n",
    "        data.append(zoom_batch[i])\n",
    "        data.append(rotation_batch[i])\n",
    "        \n",
    "        labels.append(0)\n",
    "        labels.append(0)\n",
    "        labels.append(0)\n",
    "    \n",
    "    #class 1\n",
    "    \n",
    "    data_to_augment = smile.reshape((200,24,21,1))\n",
    "    brightness_gen = ImageDataGenerator(brightness_range=[0.2,1.0])\n",
    "    zoom_gen = ImageDataGenerator(zoom_range=[0.5,1.0])\n",
    "    rotation_gen = ImageDataGenerator(rotation_range=90)\n",
    "    \n",
    "    bright_it = brightness_gen.flow(data_to_augment, batch_size=200)\n",
    "    zoom_it = zoom_gen.flow(data_to_augment, batch_size=200)\n",
    "    rotation_it = rotation_gen.flow(data_to_augment, batch_size=200)\n",
    "    \n",
    "    bright_batch, zoom_batch, rotation_batch = bright_it.next(), zoom_it.next(), rotation_it.next()\n",
    "            \n",
    "    for i in range(200):\n",
    "        data.append(bright_batch[i])\n",
    "        data.append(zoom_batch[i])\n",
    "        data.append(rotation_batch[i])\n",
    "        \n",
    "        labels.append(1)\n",
    "        labels.append(1)\n",
    "        labels.append(1)\n",
    "    \n",
    "        \n",
    "    labels = np.ravel(np.array(labels))\n",
    "    data = np.array(data).reshape((1200,24*21))\n",
    "    return data, labels"
   ]
  },
  {
   "cell_type": "code",
   "execution_count": 187,
   "metadata": {},
   "outputs": [
    {
     "name": "stdout",
     "output_type": "stream",
     "text": [
      "(1200, 504)\n",
      "(1200,)\n"
     ]
    }
   ],
   "source": [
    "data, labels = make_augmented_data(raw_face)\n",
    "print(data.shape)\n",
    "print(labels.shape)"
   ]
  },
  {
   "cell_type": "code",
   "execution_count": 188,
   "metadata": {},
   "outputs": [
    {
     "name": "stdout",
     "output_type": "stream",
     "text": [
      "(1200, 2)\n"
     ]
    }
   ],
   "source": [
    "augmented_dataset = []\n",
    "for i in range(1200):\n",
    "    augmented_dataset.append([data[i,:],labels[i]])\n",
    "augmented_dataset = np.array(augmented_dataset)\n",
    "print(augmented_dataset.shape)"
   ]
  },
  {
   "cell_type": "code",
   "execution_count": 189,
   "metadata": {},
   "outputs": [],
   "source": [
    "np.save('data/aug_dataset.npy',augmented_dataset, allow_pickle=True)"
   ]
  },
  {
   "cell_type": "code",
   "execution_count": 75,
   "metadata": {},
   "outputs": [],
   "source": [
    "# d = np.load('data/aug_dataset.npy', allow_pickle=True)"
   ]
  },
  {
   "cell_type": "code",
   "execution_count": null,
   "metadata": {},
   "outputs": [],
   "source": []
  }
 ],
 "metadata": {
  "kernelspec": {
   "display_name": "Python 3",
   "language": "python",
   "name": "python3"
  },
  "language_info": {
   "codemirror_mode": {
    "name": "ipython",
    "version": 3
   },
   "file_extension": ".py",
   "mimetype": "text/x-python",
   "name": "python",
   "nbconvert_exporter": "python",
   "pygments_lexer": "ipython3",
   "version": "3.8.3"
  }
 },
 "nbformat": 4,
 "nbformat_minor": 4
}
