{
 "cells": [
  {
   "cell_type": "code",
   "execution_count": 19,
   "metadata": {},
   "outputs": [],
   "source": [
    "import matplotlib.pyplot as plt\n",
    "import numpy as np \n",
    "from scipy.io import loadmat\n",
    "import pandas as pd\n",
    "from mpl_toolkits.axes_grid1 import ImageGrid\n",
    "from sklearn.pipeline import Pipeline\n",
    "from sklearn.decomposition import PCA\n",
    "from sklearn.naive_bayes import GaussianNB\n",
    "from sklearn.metrics import accuracy_score,recall_score,precision_score,f1_score,roc_auc_score, confusion_matrix\n",
    "from sklearn.model_selection import RepeatedStratifiedKFold, GridSearchCV, train_test_split\n",
    "from sklearn.neighbors import KNeighborsClassifier\n",
    "import seaborn as sns\n",
    "from keras.preprocessing.image import ImageDataGenerator\n",
    "import random"
   ]
  },
  {
   "cell_type": "code",
   "execution_count": 24,
   "metadata": {},
   "outputs": [],
   "source": [
    "def confusion_matrix(model, X_test, y_test, labels_list):\n",
    "    ypred = model.predict(X_test)\n",
    "    mat = confusion_matrix(y_test, ypred) \n",
    "    sns.heatmap(mat.T, square=True, annot=True, fmt='d', cbar=False,\n",
    "                        xticklabels=labels_list,\n",
    "                        yticklabels=labels_list)\n",
    "    plt.xlabel('true label')\n",
    "    plt.ylabel('predicted label');\n",
    "    \n",
    "def evaluate(model, X_test, y_test):\n",
    "    ypred = model.predict(X_test)\n",
    "    print('Accuracy: ', accuracy_score(y_test, ypred))\n",
    "    print('F1: ', f1_score(y_test, ypred))\n",
    "    print('Precision: ', precision_score(y_test, ypred))\n",
    "    print('Recall: ', recall_score(y_test, ypred))\n",
    "    print('Recall: ', roc_auc_score(y_test, ypred))"
   ]
  },
  {
   "cell_type": "code",
   "execution_count": 5,
   "metadata": {},
   "outputs": [],
   "source": [
    "#load data chunks and converts to numpy arrays\n",
    "def load_data_chunks():\n",
    "    raw_face = np.array(loadmat('./data/data.mat')['face'])\n",
    "    raw_pose = np.array(loadmat('./data/pose.mat')['pose'])\n",
    "    raw_illum = np.array(loadmat('./data/illumination.mat')['illum'])\n",
    "    aug_neutral = np.load('data/aug_neutral.npy', allow_pickle=True)\n",
    "    aug_smile = np.load('data/aug_smile.npy', allow_pickle=True)\n",
    "    return raw_face, (raw_pose, raw_illum), (aug_neutral,aug_smile)\n",
    "raw_face, raw_pose, aug_data = load_data_chunks()"
   ]
  },
  {
   "cell_type": "code",
   "execution_count": 15,
   "metadata": {},
   "outputs": [],
   "source": [
    "# creates face dataset and returns a tuple of \n",
    "def make_face_dataset(raw_face, augmented=False):\n",
    "    neutral= raw_face[:,:,::3]\n",
    "    smile = raw_face[:,:,1::3]\n",
    "    variation = raw_face[:,:,2::3]\n",
    "    \n",
    "    if augmented == True:\n",
    "        face_data = np.dstack((neutral, variation, smile))\n",
    "        face_data = np.array(np.dsplit(face_data,face_data.shape[-1])).reshape((600,24,21))\n",
    "        face_data = face_data/255\n",
    "        face_data = face_data.reshape((600,24*21))\n",
    "        face_labels = np.ravel(np.array([400 * [0] + 200 * [1]]))\n",
    "        return face_data, face_labels\n",
    "    else:\n",
    "        face_data = np.dstack((neutral, smile))\n",
    "        face_data = np.array(np.dsplit(face_data,face_data.shape[-1])).reshape((400,24,21))\n",
    "        face_data = face_data/255\n",
    "        face_data = face_data.reshape((400,24*21))\n",
    "        face_labels = np.ravel(np.array([200 * [0] + 200 * [1]]))\n",
    "        return face_data, face_labels"
   ]
  },
  {
   "cell_type": "code",
   "execution_count": 35,
   "metadata": {},
   "outputs": [],
   "source": [
    "data, labels = make_face_dataset(raw_face, augmented=True)"
   ]
  },
  {
   "cell_type": "code",
   "execution_count": 36,
   "metadata": {},
   "outputs": [
    {
     "name": "stdout",
     "output_type": "stream",
     "text": [
      "(510, 504)\n",
      "(90, 504)\n"
     ]
    }
   ],
   "source": [
    "#set dataset here\n",
    "X_train, X_test, y_train, y_test = train_test_split(data, labels, \n",
    "                                                    test_size=0.15, random_state=42, shuffle='true', stratify=labels)\n",
    "print(X_train.shape)\n",
    "print(X_test.shape)"
   ]
  },
  {
   "cell_type": "code",
   "execution_count": 37,
   "metadata": {},
   "outputs": [
    {
     "name": "stdout",
     "output_type": "stream",
     "text": [
      "Best parameter (CV score=0.912):\n",
      "{'pca__n_components': 16}\n",
      "0.9117647058823529\n"
     ]
    }
   ],
   "source": [
    "#Bayes pipe\n",
    "pca = PCA()\n",
    "gnb = GaussianNB()\n",
    "pipe = Pipeline(steps=[('pca', pca), ('bayes', gnb)])\n",
    "param_grid = {\n",
    "    'pca__n_components': [i for i in range(1,40)]\n",
    "}\n",
    "cv = RepeatedStratifiedKFold(n_splits=5, n_repeats=2, random_state=1)\n",
    "bayes_search = GridSearchCV(pipe, param_grid, scoring='accuracy', n_jobs=-1, cv=5)\n",
    "bayes_search.fit(X_train, y_train)\n",
    "print(\"Best parameter (CV score=%0.3f):\" % bayes_search.best_score_)\n",
    "print(bayes_search.best_params_)\n",
    "print(bayes_search.best_score_)"
   ]
  },
  {
   "cell_type": "code",
   "execution_count": 38,
   "metadata": {},
   "outputs": [
    {
     "name": "stdout",
     "output_type": "stream",
     "text": [
      "Accuracy:  0.9333333333333333\n",
      "F1:  0.8928571428571429\n",
      "Precision:  0.9615384615384616\n",
      "Recall:  0.8333333333333334\n",
      "AUC:  0.9083333333333333\n"
     ]
    }
   ],
   "source": [
    "ypred = bayes_search.predict(X_test)\n",
    "print('Accuracy: ', accuracy_score(y_test, ypred))\n",
    "print('F1: ', f1_score(y_test, ypred))\n",
    "print('Precision: ', precision_score(y_test, ypred))\n",
    "print('Recall: ', recall_score(y_test, ypred))\n",
    "print('AUC: ', roc_auc_score(y_test, ypred))"
   ]
  },
  {
   "cell_type": "code",
   "execution_count": 13,
   "metadata": {},
   "outputs": [
    {
     "name": "stdout",
     "output_type": "stream",
     "text": [
      "Best parameter (CV score=0.910):\n",
      "{'knn__metric': 'euclidean', 'knn__n_neighbors': 10, 'knn__weights': 'distance', 'pca__n_components': 19}\n"
     ]
    }
   ],
   "source": [
    "pca = PCA()\n",
    "knn = KNeighborsClassifier()\n",
    "\n",
    "pipe = Pipeline(steps=[('pca', pca), ('knn', knn)])\n",
    "\n",
    "param_grid = {\n",
    "    'pca__n_components': [i for i in range(1,31)],\n",
    "    'knn__n_neighbors' : [i for i in range(1,11)],  \n",
    "    'knn__metric' : ['euclidean','manhattan','chebyshev','minkowski','wminkowski','seuclidean','mahalanobis'],\n",
    "    'knn__weights' : ['uniform','distance'],\n",
    "    \n",
    "}\n",
    "\n",
    "cv = RepeatedStratifiedKFold(n_splits=5, n_repeats=2, random_state=1)\n",
    "knn_search = GridSearchCV(pipe, param_grid, scoring='accuracy', cv=5, n_jobs=-1)\n",
    "knn_search.fit(X_train, y_train)\n",
    "print(\"Best parameter (CV score=%0.3f):\" % knn_search.best_score_)\n",
    "print(knn_search.best_params_)"
   ]
  },
  {
   "cell_type": "code",
   "execution_count": null,
   "metadata": {},
   "outputs": [],
   "source": []
  },
  {
   "cell_type": "code",
   "execution_count": null,
   "metadata": {},
   "outputs": [],
   "source": []
  }
 ],
 "metadata": {
  "kernelspec": {
   "display_name": "Python 3",
   "language": "python",
   "name": "python3"
  },
  "language_info": {
   "codemirror_mode": {
    "name": "ipython",
    "version": 3
   },
   "file_extension": ".py",
   "mimetype": "text/x-python",
   "name": "python",
   "nbconvert_exporter": "python",
   "pygments_lexer": "ipython3",
   "version": "3.8.3"
  }
 },
 "nbformat": 4,
 "nbformat_minor": 4
}
